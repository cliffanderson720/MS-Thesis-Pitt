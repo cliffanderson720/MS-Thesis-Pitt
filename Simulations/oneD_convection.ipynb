{
 "cells": [
  {
   "cell_type": "markdown",
   "metadata": {},
   "source": [
    "## Solve 1-D convection equation\n",
    "\n",
    "$$\\frac{\\partial y}{\\partial t} = -\\frac{\\partial uy}{\\partial x},$$\n",
    "\n",
    "where $u=u_0(1-y)$ is the wave speed, and $y$ is the scalar being solved.\n",
    "\n",
    "* Solve using a finite volume method:\n",
    "$$\\frac{dy}{dt} = -\\frac{f_e-f_w}{\\Delta x},$$\n",
    "where $f=uy$ is the flux of $y$, and $e$ and $w$ denote east and west faces.\n",
    "* The initial condition is a uniform profile.\n",
    "* The boundary conditions are zero flux conditions.\n",
    "* The velocity is such that when $y=0$ $u=u_0$, and when $y=1$, $u=0$. \n",
    "* The problem is solved using an upwind method. \n",
    "* To enforce conservation, a flux limiter is set to that any cell with $y\\ge 0$ has $f_w=0$.\n",
    "    * That is, the incoming flux is 0 if the cell is \"full\"\n",
    "* Solving on the following domain:\n",
    "\n",
    "```\n",
    "|-----------------------------|\n",
    "|  *  |  *  |  *  |  *  |  *  |\n",
    "|-----------------------------|\n",
    "x=0                         x=L\n",
    "```\n"
   ]
  },
  {
   "cell_type": "code",
   "execution_count": 1,
   "metadata": {},
   "outputs": [],
   "source": [
    "import numpy as np\n",
    "from scipy.optimize import fsolve\n",
    "import matplotlib.pyplot as plt\n",
    "from scipy.misc import derivative\n",
    "%matplotlib inline\n",
    "np.set_printoptions(precision=4)"
   ]
  },
  {
   "cell_type": "code",
   "execution_count": 2,
   "metadata": {},
   "outputs": [
    {
     "data": {
      "image/png": "[encoded data removed]",
      "text/plain": [
       "<Figure size 432x288 with 1 Axes>"
      ]
     },
     "metadata": {
      "needs_background": "light"
     },
     "output_type": "display_data"
    }
   ],
   "source": [
    "def flux(y): return y*(1-y)**2\n",
    "def celerity(y): return 1-4*y+3*y**2\n",
    "concs = np.linspace(0,1)\n",
    "plt.plot(concs,flux(concs));\n",
    "plt.plot(concs,celerity(concs));\n",
    "# maximum occurs at y = 0.29"
   ]
  },
  {
   "cell_type": "code",
   "execution_count": 3,
   "metadata": {},
   "outputs": [
    {
     "name": "stdout",
     "output_type": "stream",
     "text": [
      "nts =  75\n",
      "[0.    0.009 0.009 0.009 0.009 0.009 0.   ]\n",
      "[0.     0.0092 0.009  0.009  0.009  0.009  0.    ]\n",
      "[0.     0.0093 0.009  0.009  0.009  0.009  0.    ]\n",
      "[0.     0.0095 0.009  0.009  0.009  0.009  0.    ]\n"
     ]
    },
    {
     "data": {
      "text/plain": [
       "(0, 1.0)"
      ]
     },
     "execution_count": 3,
     "metadata": {},
     "output_type": "execute_result"
    },
    {
     "data": {
      "image/png": "[encoded data removed]",
      "text/plain": [
       "<Figure size 432x288 with 1 Axes>"
      ]
     },
     "metadata": {
      "needs_background": "light"
     },
     "output_type": "display_data"
    }
   ],
   "source": [
    "L   = 1.0          # domain length\n",
    "nx  = 6            # number of grid points\n",
    "cfl = 0.1          # timestep multiplier\n",
    "u0  = 1.0          # base speed\n",
    "y0  = 0.9          # base y\n",
    "\n",
    "#------------- set t, x grids\n",
    "\n",
    "dx = L/nx                           # grid spacing\n",
    "x  = np.linspace(dx/2, L-dx/2, nx)  # grid points\n",
    "\n",
    "tend = L/u0 * 0.025*50\n",
    "Δt   = cfl*dx/u0                    # approximate step size\n",
    "nts  = int(tend/Δt)                 # integer number of steps\n",
    "Δt   = tend/nts                     # step size using nts\n",
    "t    = np.linspace(0.0, tend, nts+1)\n",
    "print('nts = ',nts)\n",
    "\n",
    "#------------- Initial profiles\n",
    "\n",
    "yinit = y0*np.ones(nx)              # initial profile\n",
    "y     = yinit.copy()                # solution (updates at each timestep)\n",
    "\n",
    "# print(f'initial mass of y on domain = {np.sum(y*dx)}')\n",
    "\n",
    "#------------- \n",
    "\n",
    "def rk4step(rhsf, y):               # 4th order Runge-Kutta solver\n",
    "    \n",
    "    δy1 = rhsf(y,Δt) # intermediate function evaluation so that I can unpack the flux\n",
    "    Δy1,f = Δt*δy1[0],δy1[1]\n",
    "    Δy2 = Δt*rhsf(y + 0.5*Δy1, Δt/2)[0]\n",
    "    Δy3 = Δt*rhsf(y + 0.5*Δy2, Δt/2)[0]\n",
    "    Δy4 = Δt*rhsf(y +     Δy3, Δt)[0]\n",
    "    Δy  = 1/6*(Δy1 + 2*Δy2 + 2*Δy3 + Δy4)\n",
    "    print(f)\n",
    "\n",
    "    return y + Δy\n",
    "    \n",
    "#------------- \n",
    "\n",
    "def rhsf(y, h):                      # right-hand-side function: -(f-f)/dx\n",
    "    \n",
    "    u = u0*(1.0-y)**2                # compute velocity as function of concentration\n",
    "    \n",
    "    f = np.hstack((0,(y*u)[:-1]))    # compute flux=uy at inner points and set left boundary flux to 0\n",
    "    f[y>=1] = 0.0                    # makeshift limiter\n",
    "    f = np.hstack((f,0))             # set right-side flux=0\n",
    "    \n",
    "    dydt = -1.0/dx*(f[1:] - f[:-1])\n",
    "    return dydt,f\n",
    "\n",
    "# -------------                       # solve the problem: advance in time\n",
    "ystore = np.empty((nx,nts))\n",
    "ystore[:,0] = yinit\n",
    "ndebug = 4                           # temporary variable for computing/plotting only the first few time steps\n",
    "for i in range(ndebug):\n",
    "    y = rk4step(rhsf, y)\n",
    "    ystore[:,i] = y\n",
    "    \n",
    "# -------------                       # Plot results\n",
    "\n",
    "# print(f'final   mass of y on domain = {np.sum(y*dx)}')\n",
    "\n",
    "plt.rc('font', size=14)\n",
    "blue = iter(plt.cm.Blues(np.linspace(0.25,1,ndebug)))\n",
    "plt.plot(x,yinit, 'k-', linewidth=0.5)\n",
    "[plt.plot(x,ystore[:,i],color=next(blue)) for i in range(ndebug)]\n",
    "plt.ylabel('y')\n",
    "plt.xlabel('x')\n",
    "plt.xlim([0,L])\n",
    "# plt.ylim([0,1.1]);"
   ]
  },
  {
   "cell_type": "code",
   "execution_count": null,
   "metadata": {},
   "outputs": [],
   "source": []
  },
  {
   "cell_type": "code",
   "execution_count": null,
   "metadata": {},
   "outputs": [],
   "source": []
  },
  {
   "cell_type": "markdown",
   "metadata": {},
   "source": [
    "#### Ignore everything below here"
   ]
  },
  {
   "cell_type": "code",
   "execution_count": null,
   "metadata": {},
   "outputs": [],
   "source": []
  },
  {
   "cell_type": "code",
   "execution_count": null,
   "metadata": {},
   "outputs": [],
   "source": []
  },
  {
   "cell_type": "code",
   "execution_count": null,
   "metadata": {},
   "outputs": [],
   "source": []
  },
  {
   "cell_type": "code",
   "execution_count": null,
   "metadata": {},
   "outputs": [],
   "source": []
  },
  {
   "cell_type": "code",
   "execution_count": 32,
   "metadata": {},
   "outputs": [
    {
     "data": {
      "image/png": "[encoded data removed]",
      "text/plain": [
       "<Figure size 432x288 with 1 Axes>"
      ]
     },
     "metadata": {
      "needs_background": "light"
     },
     "output_type": "display_data"
    }
   ],
   "source": [
    "def get_ρ(ρ): \n",
    "    return ρ\n",
    "\n",
    "def get_c(ρ):\n",
    "    c = np.ones(len(ρ))\n",
    "    v = (1-ρ)**2\n",
    "    return v\n",
    "\n",
    "def get_q(ρ):\n",
    "    return  get_c(ρ) * ρ\n",
    "\n",
    "def godunov(ρ,t):\n",
    "    ρ_bc = np.zeros(ngrd+2)\n",
    "    ρ_bc[-1] = 1.0\n",
    "    ρ_bc[1:-1] = ρ\n",
    "\n",
    "    q = get_q(ρ_bc)\n",
    "    \n",
    "    # evaluate fluxes at each cell wall \n",
    "    qf = np.zeros(ngrdf)\n",
    "    for i in range(ngrdf):\n",
    "        if ρ_bc[i] >= ρ_bc[i+1]:\n",
    "            qf[i] = max(q[i],q[i+1])\n",
    "        elif ρ_bc[i] <= 0 and 0 <= ρ_bc[i+1]:\n",
    "            qf[i] = 0\n",
    "        else:\n",
    "            qf[i] = min(q[i],q[i+1])\n",
    "            \n",
    "    dρdt = 1/Δx*(qf[:-1]-qf[1:])\n",
    "    return dρdt\n",
    "\n",
    "def rk4step(rhsf, y, Δt=None):               # 4th order Runge-Kutta solver\n",
    "    \n",
    "    Δy1 = Δt*rhsf(y,           Δt)[0]\n",
    "    Δy2 = Δt*rhsf(y + 0.5*Δy1, Δt/2)[0]\n",
    "    Δy3 = Δt*rhsf(y + 0.5*Δy2, Δt/2)[0]\n",
    "    Δy4 = Δt*rhsf(y +     Δy3, Δt)[0]    \n",
    "    return y + 1/6*(Δy1 + 2*Δy2 + 2*Δy3 + Δy4)\n",
    "\n",
    "ngrd = 5\n",
    "L    = 1\n",
    "tend = 1\n",
    "ntimes = 6\n",
    "\n",
    "times = np.linspace(0,tend,ntimes)\n",
    "Δt    = times[1]-times[0]\n",
    "ngrdf = ngrd+1\n",
    "Δx    = L/ngrd\n",
    "xf    = np.linspace(0,L,ngrdf)\n",
    "x     = (xf[1:] + xf[:-1])/2\n",
    "\n",
    "ρ0  = np.ones(ngrd)*0.5\n",
    "ρstore = np.empty((ngrd,ntimes))\n",
    "ρstore[:,0] = ρ0\n",
    "ρcalc  = ρ0.copy()\n",
    "reds = plt.get_cmap('Reds')\n",
    "reds = iter(reds(np.linspace(0.1,1,ntimes)))\n",
    "for i,t in enumerate(times):\n",
    "    ρcalc = rk4step(godunov,ρcalc,Δt)\n",
    "    ρstore[:,i] = ρcalc\n",
    "    \n",
    "[plt.plot(x,ρstore[:,i],color=next(reds)) for i in range(ntimes)]\n",
    "plt.show()"
   ]
  },
  {
   "cell_type": "code",
   "execution_count": 29,
   "metadata": {},
   "outputs": [
    {
     "data": {
      "text/plain": [
       "array([[0.219 , 0.0539, 0.0169, 0.0056, 0.0019, 0.0006],\n",
       "       [0.219 , 0.0539, 0.0169, 0.0056, 0.0019, 0.0006],\n",
       "       [0.219 , 0.0539, 0.0169, 0.0056, 0.0019, 0.0006],\n",
       "       [0.219 , 0.0539, 0.0169, 0.0056, 0.0019, 0.0006],\n",
       "       [0.219 , 0.0539, 0.0169, 0.0056, 0.0019, 0.0006]])"
      ]
     },
     "execution_count": 29,
     "metadata": {},
     "output_type": "execute_result"
    }
   ],
   "source": [
    "ρstore"
   ]
  },
  {
   "cell_type": "code",
   "execution_count": null,
   "metadata": {},
   "outputs": [],
   "source": []
  }
 ],
 "metadata": {
  "kernelspec": {
   "display_name": "Python 3",
   "language": "python",
   "name": "python3"
  },
  "language_info": {
   "codemirror_mode": {
    "name": "ipython",
    "version": 3
   },
   "file_extension": ".py",
   "mimetype": "text/x-python",
   "name": "python",
   "nbconvert_exporter": "python",
   "pygments_lexer": "ipython3",
   "version": "3.7.0"
  }
 },
 "nbformat": 4,
 "nbformat_minor": 2
}
