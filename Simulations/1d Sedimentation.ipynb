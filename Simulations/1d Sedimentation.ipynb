{
 "cells": [
  {
   "cell_type": "markdown",
   "metadata": {},
   "source": [
    "# 1D sedimentation curve\n",
    "Using upwind method"
   ]
  },
  {
   "cell_type": "code",
   "execution_count": 4,
   "metadata": {
    "collapsed": false
   },
   "outputs": [],
   "source": [
    "import numpy as np\n",
    "import matplotlib.pyplot as plt\n",
    "%matplotlib inline\n",
    "plt.rc('lines',linewidth=0.1)"
   ]
  },
  {
   "cell_type": "markdown",
   "metadata": {},
   "source": [
    "#### Grid definition and stability\n",
    "I want to set the CFL number to equal 1 to keep stability. I'll change the definition of dt later for more realistic $\\Delta t$, $\\Delta x$, and $u$."
   ]
  },
  {
   "cell_type": "code",
   "execution_count": 91,
   "metadata": {
    "collapsed": false
   },
   "outputs": [],
   "source": [
    "# set up time and space steps\n",
    "nxs = 50 # number of spatial points\n",
    "L = 10 # height of settling tank\n",
    "dx = L/(nxs)\n",
    "xs = np.arange(0+0.5*dx,L+0.5*dx,dx)\n",
    "\n",
    "c = 5 # m/s wave speed \n",
    "cfl = 1 # stability criterion := c*dx/dt\n",
    "tend = 20 #seconds\n",
    "dt = dx*c*cfl\n",
    "nts = int(tend/dt)\n",
    "ts = np.arange(0,tend,dt)"
   ]
  },
  {
   "cell_type": "markdown",
   "metadata": {},
   "source": [
    "#### Setting up initial conditions\n",
    "Use a constant concentration profile along the length of the settler\n",
    "$$\\rho_0 = f(x,0)$$ \n",
    "I need to initialize a storage array too"
   ]
  },
  {
   "cell_type": "code",
   "execution_count": 92,
   "metadata": {
    "collapsed": false
   },
   "outputs": [],
   "source": [
    "u_max = 1\n",
    "rho_max = 0.95\n",
    "rho_0 = np.ones_like(xs)*0.5"
   ]
  },
  {
   "cell_type": "markdown",
   "metadata": {},
   "source": [
    "### Define velocity functions"
   ]
  },
  {
   "cell_type": "code",
   "execution_count": 93,
   "metadata": {
    "collapsed": true
   },
   "outputs": [],
   "source": [
    "def fluxfunc(rho,rho_max,u_max,n=1):\n",
    "    velocity = u_max*(1)\n",
    "    return rho*velocity\n",
    "\n",
    "def ftbs(rho,nt,dt,dx,rho_max,u_max,flim=None):\n",
    "    '''\n",
    "    Forward-time backward-space integration function. \n",
    "    It uses the spatial points to the left of a forward-moving wave.\n",
    "    \n",
    "    '''   \n",
    "    rho_n = np.zeros((nt,len(rho)))\n",
    "    rho_n[0,:] = rho.copy()\n",
    "    \n",
    "    for t in range(1,nt):\n",
    "        F = fluxfunc(u_max,rho_max,rho)\n",
    "        rho_n[t,1:] = rho[1:] - dt/dx*(F[1:]-F[:-1])\n",
    "        rho_n[t,0] = rho[0]\n",
    "        rho = rho_n[t].copy()\n",
    "    return rho_n   "
   ]
  },
  {
   "cell_type": "code",
   "execution_count": 95,
   "metadata": {
    "collapsed": false
   },
   "outputs": [
    {
     "data": {
      "text/plain": [
       "(20, 50)"
      ]
     },
     "execution_count": 95,
     "metadata": {},
     "output_type": "execute_result"
    }
   ],
   "source": [
    "np.shape(ftbs(rho_0,nts,dt,dx,rho_max,u_max))"
   ]
  },
  {
   "cell_type": "code",
   "execution_count": 96,
   "metadata": {
    "collapsed": false
   },
   "outputs": [
    {
     "data": {
      "text/plain": [
       "1.0"
      ]
     },
     "execution_count": 96,
     "metadata": {},
     "output_type": "execute_result"
    }
   ],
   "source": []
  },
  {
   "cell_type": "code",
   "execution_count": null,
   "metadata": {
    "collapsed": true
   },
   "outputs": [],
   "source": []
  }
 ],
 "metadata": {
  "kernelspec": {
   "display_name": "Python 3",
   "language": "python",
   "name": "python3"
  },
  "language_info": {
   "codemirror_mode": {
    "name": "ipython",
    "version": 3
   },
   "file_extension": ".py",
   "mimetype": "text/x-python",
   "name": "python",
   "nbconvert_exporter": "python",
   "pygments_lexer": "ipython3",
   "version": "3.6.0"
  }
 },
 "nbformat": 4,
 "nbformat_minor": 2
}
