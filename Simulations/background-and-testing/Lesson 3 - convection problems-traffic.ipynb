{
 "cells": [
  {
   "cell_type": "code",
   "execution_count": 1,
   "metadata": {
    "collapsed": false
   },
   "outputs": [],
   "source": [
    "import numpy as np\n",
    "from matplotlib import pyplot\n",
    "from matplotlib import rcParams\n",
    "rcParams['font.family'] = 'serif'\n",
    "rcParams['font.size'] = 16\n",
    "%matplotlib inline"
   ]
  },
  {
   "cell_type": "code",
   "execution_count": 11,
   "metadata": {
    "collapsed": false
   },
   "outputs": [],
   "source": [
    "nx = 81\n",
    "nt = 160\n",
    "dx = 4.0/(nx-1)\n",
    "x = np.linspace(0,4,nx)\n",
    "rho_in = np.linspace(0,5,nx)\n",
    "rho_max = 10.\n",
    "u_max = 1."
   ]
  },
  {
   "cell_type": "code",
   "execution_count": 12,
   "metadata": {
    "collapsed": false
   },
   "outputs": [
    {
     "data": {
      "text/plain": [
       "[<matplotlib.lines.Line2D at 0x1472f9e1f28>]"
      ]
     },
     "execution_count": 12,
     "metadata": {},
     "output_type": "execute_result"
    },
    {
     "data": {
      "image/png": "[encoded data removed]",
      "text/plain": [
       "<matplotlib.figure.Figure at 0x1472f761748>"
      ]
     },
     "metadata": {},
     "output_type": "display_data"
    }
   ],
   "source": [
    "pyplot.plot(x,rho_in)"
   ]
  },
  {
   "cell_type": "code",
   "execution_count": 13,
   "metadata": {
    "collapsed": false,
    "scrolled": true
   },
   "outputs": [
    {
     "data": {
      "text/plain": [
       "[<matplotlib.lines.Line2D at 0x1472fa812b0>]"
      ]
     },
     "execution_count": 13,
     "metadata": {},
     "output_type": "execute_result"
    },
    {
     "data": {
      "image/png": "[encoded data removed]",
      "text/plain": [
       "<matplotlib.figure.Figure at 0x1472f7618d0>"
      ]
     },
     "metadata": {},
     "output_type": "display_data"
    }
   ],
   "source": [
    "def computeF(u_max,rho_max,rho):\n",
    "    return u_max*rho*(1-rho/rho_max)\n",
    "rho_range = np.linspace(0,rho_max,51)\n",
    "pyplot.plot(rho_range,computeF(1,10,rho_range))"
   ]
  },
  {
   "cell_type": "code",
   "execution_count": 14,
   "metadata": {
    "collapsed": false
   },
   "outputs": [],
   "source": [
    "def ftbs(rho,nt,dt,dx,rho_max,u_max):\n",
    "    rho_n = np.zeros((nt,len(rho)))\n",
    "    rho_n[0,:] = rho.copy()\n",
    "    \n",
    "    for t in range(1,nt):\n",
    "        F = computeF(u_max,rho_max,rho)\n",
    "        rho_n[t,1:] = rho[1:] - dt/dx*(F[1:]-F[:-1])\n",
    "        rho_n[t,0] = rho[0]\n",
    "        rho = rho_n[t].copy()\n",
    "    return rho_n        "
   ]
  },
  {
   "cell_type": "code",
   "execution_count": 15,
   "metadata": {
    "collapsed": false
   },
   "outputs": [],
   "source": [
    "sigma = 1.\n",
    "dt=sigma*dx\n",
    "rho_n = ftbs(rho_in,nt,dt,dx,rho_max,u_max)"
   ]
  },
  {
   "cell_type": "code",
   "execution_count": 17,
   "metadata": {
    "collapsed": false
   },
   "outputs": [
    {
     "data": {
      "text/html": [
       "<video width=\"432\" height=\"288\" controls autoplay loop>\n",
       "  <source type=\"video/mp4\" src=\"data:video/mp4;base64,AAAAHGZ0eXBNNFYgAAACAGlzb21pc28yYXZjMQAAAAhmcmVlAAAyu21kYXQAAAKuBgX//6rcRem9\n",
       "5tlIt5Ys2CDZI+7veDI2NCAtIGNvcmUgMTU1IHIyOTAxIDdkMGZmMjIgLSBILjI2NC9NUEVHLTQg\n",
       "QVZDIGNvZGVjIC0gQ29weWxlZnQgMjAwMy0yMDE4IC0gaHR0cDovL3d3dy52aWRlb2xhbi5vcmcv\n",
       "eDI2NC5odG1sIC0gb3B0aW9uczogY2FiYWM9MSByZWY9MyBkZWJsb2NrPTE6MDowIGFuYWx5c2U9\n",
       "MHgzOjB4MTEzIG1lPWhleCBzdWJtZT03IHBzeT0xIHBzeV9yZD0xLjAwOjAuMDAgbWl4ZWRfcmVm\n",
       "PTEgbWVfcmFuZ2U9MTYgY2hyb21hX21lPTEgdHJlbGxpcz0xIDh4OGRjdD0xIGNxbT0wIGRlYWR6\n",
       "b25lPTIxLDExIGZhc3RfcHNraXA9MSBjaHJvbWFfcXBfb2Zmc2V0PS0yIHRocmVhZHM9NiBsb29r\n",
       "YWhlYWRfdGhyZWFkcz0xIHNsaWNlZF90aHJlYWRzPTAgbnI9MCBkZWNpbWF0ZT0xIGludGVybGFj\n",
       "ZWQ9MCBibHVyYXlfY29tcGF0PTAgY29uc3RyYWluZWRfaW50cmE9MCBiZnJhbWVzPTMgYl9weXJh\n",
       "bWlkPTIgYl9hZGFwdD0xIGJfYmlhcz0wIGRpcmVjdD0xIHdlaWdodGI9MSBvcGVuX2dvcD0wIHdl\n",
       "aWdodHA9MiBrZXlpbnQ9MjUwIGtleWludF9taW49MjAgc2NlbmVjdXQ9NDAgaW50cmFfcmVmcmVz\n",
       "aD0wIHJjX2xvb2thaGVhZD00MCByYz1jcmYgbWJ0cmVlPTEgY3JmPTIzLjAgcWNvbXA9MC42MCBx\n",
       "cG1pbj0wIHFwbWF4PTY5IHFwc3RlcD00IGlwX3JhdGlvPTEuNDAgYXE9MToxLjAwAIAAAAhRZYiE\n",
       "AD///vdonwKbWkN6gOSVxSXbT4H/q2dwfI/pAwAAAwAArqxz6KZIGF3rxgACdHsTziHH/gAS4Yvf\n",
       "etvVHummF0AuJOuzYsn2lnYmQUVPdfpgn+we7zDTJ7Vpd3OkUhgXfC5A+gFRNsg5UQV2O7y3pF7x\n",
       "gmKTJ2eHKB6uCO8dx1wz1hbJP8xneGG8PBQezFWxLwdzbWAKkc00q2THWm5k8bVb6TEfhXKZ7mU7\n",
       "jcoRA1k0nKoIUmf2i3UKuOr+BeexXRoHdalyk26GOcVk47dN6FkBK7Unc8dAbgIvuJ1AAAVY6OQk\n",
       "MmPygAA1bz6qW69m7EdK+qFUoVKCjLDMW11pk+K7t/ceSABoctPLg9/O2onZq/RY75PNFchYBHjr\n",
       "NV+CMqppuVdXXBYnStX9DJEqbhHJ5Hjqwuy3DVg8nacykA0gieTvSz3oA8eihkZ2h+N7xOTkYsx4\n",
       "kVXJVHrXUjlGN6//wu+jvewL8ivxvZpa3qWWV6Zim7oRwuTboo710Y6OHFNk2eekr04vTz5hjHsj\n",
       "hTva/bgmtjBGKfvfHTs7ncQgUUaIyAf16ExJRFXZYD8k47O1g4L4SVseImK219Kk6d/URxO+BLml\n",
       "iE2LVAcsjiL3FFo2IfFlGGedJsjLadtL8PO+wEk8NZpUZ/5CR4kXoUEZXguWBdk+dKuRlPt085vJ\n",
       "LFRTWnugCYqzA6Wq4hh7JMXP9Ws31xy4x6iCNNYy5tc9uYyMMGZo+uDFPhHk+el9y0EYAGmcR/nr\n",
       "Uka9Cj8TVC6vvp5/MiUwTnE/tk/vcHoKk/WHa9XkI3E2ajahdb29xNOf0wFFYaPuPymCzh3YBKlP\n",
       "zrAj5FWOjPIs0ZUFezReaF7Jp/KRvHHblStjfT40Pl/TW1PMMOM41gA808onqGD71UgkqUf/DvhQ\n",
       "FeLkYnQ18FCRVwwwBnAfHeZLEKql65gd+exgSo65BX+kIcbQhOKKgfFoF0pZ3PVscFUxolAxi57f\n",
       "H9dJLnbPiymUrlfI9Z1d8+00b2l/jjApJmc9S2OhufSgm6Xdng5RrbKAV0l4Niku3sKLe8rNjdWg\n",
       "59AAAIW2hbDvqcMnoyNrC4eZ2seN9qzzk5brhb7Qts2s9Ubkaii3dTg4Z2wARIzNgjIdJtJJ8A5p\n",
       "CToWvqCW/LxIC4js830cKqJi2rKjUUZJ4Rnzgg7RCJMV3CfLrQathNSAJsTxIcUoof3+Nj60LHqe\n",
       "t5sW9lH5taUlBQlEiSWqSMJLmMdhiD8qnhEZCj5ZDltFLzHqQbSeftrDtQqzc6RgsF4Zd44hQQAU\n",
       "LpiJaGMWnaU83iwlJWLLc+qGcO443wOsG9ALPR9wueMJ0X1iRAdqZXWRfUcETwHEs3CS62xwaT1H\n",
       "b3d+bnmEsHcTJ3/7Q/65bZ44IRs2IKZOF3DWjJVX3OHdnNAd+Finr9cXr3Zix5/XvIuC3z0PdKH7\n",
       "Yvtr8dugu1n0qdgRQCHgAe37FUEguiBUCU56+CTJEq4DsO911HItmLQDXnKfS/+evkx3KUtOKYrG\n",
       "h/WBIPMWjBWSN5OENiK0+KzGXu3rOGj5PvaOcGIQcw2IEFBINcKahumhy/fHAxaTIrkIqBEuDPnk\n",
       "lslg2Uja3yooXeCb6bvtJh2osRY/VPSF7f+fR3aOXmn4wah3aLdli2jBijQP9HPp7LzvH/+MXuK4\n",
       "mj9g+tDkF9BC0OSM3/uAyGdLHt3LNOjl8/mQE1pPxJpUoZBseJRB+dOrcawYeOnF3kN00FoHPfJc\n",
       "zlz98FckCaFmvTt3jZe6ziYT2XYD0JjdXWZkaWFjjk4mPQ2tJv1SlqKJy51jJ2TRui+7lhsGMNrk\n",
       "w8ZIAL3qrJnOTdYT+OLEAERCFMFrwspA09ogH5k0OLSQyX4Oa6a5E5PEyH7zTjXMh87oUEXeFCbN\n",
       "00DaZOVxljOFh6zV9uHAmIhzG9yIgNWK3B4HTNrAHQcIyuvU32r8G8A/2vOlh3TwktC/qs1YDY09\n",
       "jAAFdR2v4lcFXBalk/f/TDSXsAOtyrNnSqdZLGj4cnWF35pyBvJnvRGRnQRt06ezhFEwSBmlpCHR\n",
       "7GV/snVJ7kuDenuTW69n+/eAaTd3vAVoM6rrFy3mA+Td5Eqm2gpITTTsLEPQpSPLRlfSG6kP+odC\n",
       "0nUUXqrP4vSGv8S5a9ovWX2DXnQ9m12On9QFq5IAguxKh+//lxRGCHG7YJ39egP+5adlM0c6rYd9\n",
       "endx97hl9oDDcvGn0a0Jo5KzX+0m7vZVXAyFoBwjFf7BI+zIEKFnwfIBcKpRVq70zO38bBIliff0\n",
       "K9pxIdHHXB0K1mml2tbVHs7qv9YGxuQvKC/huyqry+hhkiwYQl0bCuElI9CeRmtba8jUHbckCQU0\n",
       "7t2uQr2jlKLpJX2tufL46OXCukJkJ03CfYFlahBTd9UA2b7+63RtNX4n7jys+ljZpHG09KzXftZu\n",
       "GYPrwzsfkEe344C/dO5Nmbn7pE6Oqo3OBnArkpsOR9omRuNKKv+P1Ue+ILEaDhl6QjsSt4kSPaEb\n",
       "hLb5J2wM44WHh8HjZ2rmKBXthDnO3Z/uk+O/x4D9w+XlDsPUQyvxOv0YkgI5wL10F1GabysOSptI\n",
       "h0HplPvhnZNxQFlFYLLtFGoonScuIbZcvCtkP2Zq7vyMGbnLuT747r2SI6ODBWPlfCpFDsiXsz6C\n",
       "7xBZLQG8j8MbnZ9YQtCUn/dJKFrViymzis2b6hma/u7b7dWyFIeb2mVFs033+EY8YuawlTsPZL7C\n",
       "lztt2LR1OqIoFNl6KRnLqtgLgd4HuvUoniZc38HvKhua/WJ/hV2CqbNNEvrvUdDDW6dq5YRwnelR\n",
       "O9UKMoKzEIGbAAAqyRHzCGEAAAF3QZokbEP//qmWAAF30kWHlGtoetAEcwUngVAKaW198tnjr3ha\n",
       "JScr99OQbKl3RP+GCEAKf7+cbbtpDit7C/gnYRf95UjSh02A/lxQ24MdvOdsLpLCBl60/TinGDLZ\n",
       "2xw20sP6uUdHtGM+G9zR2IrGBNaLS2w6PUp8q50/6B0UMxN7CTMK8Y7DDf2GQaczMesCnB8cezVC\n",
       "Dahh11ADEEXTnlM9Wnf6GVU7qmwW+wWkB64KYgmgoh6d5wPNvOYY559IRPEbZRd9tL//yx5S2qrl\n",
       "dlj5cYWCqEmGdLoWc0+Q3dozJBZzckIAwL5SVb39oHKcXbKXVLkOA4YJfBG1heTA8azrEqf6mi2x\n",
       "m/MladQmaePfQ/UiMU/8IEAR78P8l+ntxro6Vb1bifUiFz9eEM4fyBO4x409d1EIpyl2+rpaJ5Jv\n",
       "6BtDt1eCwy7hzC2O/wrfNlkpA7hBRCDHxJkfklNF7N4laN3kJr3TAn/M6OXIQablQQr7St6AAAAA\n",
       "UUGeQniGfwACdUp9W9lXWdEStqKoyOCblSbhT72kS3PVxu9peYxpP1XvhaS977fVcGrYxqSDfpH3\n",
       "TYGwv/WqFklwyVdDpLdsHQgAAyxfIGI0OQAAADwBnmF0Qr8ABJXQ+D1srRodTBpzGPOJ9LbVjtE0\n",
       "HbiOF41Mvwfrbf/roTXwncDbUNguEQ9wAADIazFckWIAAAAtAZ5jakK/AASXYDQfn8yRj6cj9mot\n",
       "JdT2GX4CFb6IKJLJsmg39Hr4hh/n2ai3AAABJEGaaEmoQWiZTAh///6plgAC3/CuPPeW8N21n018\n",
       "gigAjCvujy7YFa9/3ru+7BjlvvnuhcHu4tBj2q6o+QJKeBRi0OmIL9MMw7JAjUVbVnhQ+ZtI2H35\n",
       "NnEKcTu7zdG2Z83KpLK9S+utFEJwbwy9mLcRV038mP6fmO6K9OAvyIhac4o6cgMs4aKPohIxTjIB\n",
       "80SGQpOSoGZacS8b1Poc3BMxQYf2AiYXNN49ieK0UuROkGOP2JHBxT3lGSNhWvKwLmdu0O5+htJx\n",
       "e/83BHTXaIfzTsHgcEpRY3pjnUBprwkgeXTWnsYEgrYT01u5w8XAQkzyJP3RNGn7ovez/Fb5aowP\n",
       "RKjHpSIa0Gy7wPU8Sh7tO08gGBi+HYGxT4++unJTCwwhU+0AAABLQZ6GRREsM/8AAn1NUmeFoCSM\n",
       "Lb2ujrQNOCrxWNfCJ/Boc7ZjzIuybTQbyQDKZvtERM4+3hxKDs9qmcp2UtR0qgmYi8C4QwKbuqBh\n",
       "AAAALwGepXRCvwAEldD5ZJQDiDBlSkNDR3FfmZKn1b4ugnaSI7bIGJrqTEJ6dqnjx7MdAAAALgGe\n",
       "p2pCvwAEl2AIPYNC4kT3cUFJSmdg8i3IA8ciOB+wWwPRHA1cHhbqSIqVSHgAAADTQZqsSahBbJlM\n",
       "CH///qmWAALf8MgNmpADGaJxDcWchKr1df+xZdp6hIAvvIwC8x2q4O1DdovefTCiZ1yMdz95ZUC8\n",
       "J9lDA9ROPq888P4AL+c/bgtP2pbKtuPsI0DcW/7rIygv261Q2JKjlGf75u6u3ziBjCrtgak21JtF\n",
       "7QScKu7D+lPESTE2VT3PFybGxbBuT7onljz1ZWnLty73YxbkGrkd6q020q2VF+GgGIoQJPpcp2hZ\n",
       "H95rSElwp22AOI7XS6ppGKvVTRlf7FzQViTqpAC7oAAAAElBnspFFSwz/wACfKH+16zou+WSq9PI\n",
       "38L0nqv/JhgV7cgOeZHmB1OgxOtdAfoRvYC6F5bJFhKzmolPrGAp7NPTmKQzZ0Gv3qJhAAAAMQGe\n",
       "6XRCvwAEldD4Dvqzh4ISGfffnMCaC3Lzaypgq9CQjHFchq11j/Lm79tKB2QZw+AAAAArAZ7rakK/\n",
       "AAI7sCM0IWOzpYazjZMVJbxBw1KagBuVfzJ4RTA5JlUSlDG2gAAAAQZBmvBJqEFsmUwIf//+qZYA\n",
       "AXbexQagCb0NmnTpr80zy5D06lSgt3xcvGcv82NOWv3DLwqP8HaENHBqOu19M6kAE8aKTiG/ip7n\n",
       "jk5sdY7w/ooy2+r4SQV/SZC0LcgYeVbvX+X5UlZvPUyR/1v7Jdp5Yi9MU2qCOHTl48wasMZzjvD5\n",
       "Yv+pfefsZV1DQ2G2whTmmtr8aL+OLMSYkpcwUURvHTPALbuUCybWK5Rfaij2PBhZnXuVz5MFnddg\n",
       "mn3QcUMgZweIv7aYFXdv3RYsPEu5cWNrVgpEgbVZkx6eMeYywrpu0KDHUZg5XtcGvGsN3FjpfW6d\n",
       "gQ+hwAQ56JXLFcR0hZeWG7EpAAAAPUGfDkUVLDP/AAE113ux2LEnlj+3hRMetBSi02i+RzdwR5BB\n",
       "KLGlW9hz+/mESIDX77cNVdBgk2GHppfwSXEAAAAsAZ8tdEK/AAI66Js5Ur0+VxhrUdIWhEh/T488\n",
       "EcdhcBWQz+mU3x4WlbZeg4EAAAAqAZ8vakK/AAI7sCM0HKsh5hcr85I7twsZSga9lPVXUp16ceZh\n",
       "SYXlAoqAAAAA+kGbNEmoQWyZTAh///6plgABdvqrtc2EfQBYAiS3BlUAoqpA4KB+ySjodIwAHHIb\n",
       "aMwL8H7WlpbZKq/AeBp088F0JLqn+cs3thyit/WIgbs6KOPnxmmgR9jEPQmZimsyvgnzX4twsXrY\n",
       "z2QarJmWkQxr2S0NSePH9ldVlriry8YdpgNlThXZvvTRl7OspdgMz8c3pQBElws+GDbBFcHvWOmc\n",
       "xcNrhB+eJMQ3MtA8PQK/C1USe7yqSFzXAoLgzQsiaahDVx6ADpJMwIbqmbJn5ucd/A61XLM8yQ59\n",
       "t28d4LCAirI4uG8E+Cx6hIJixxPlCtZoLip6JvzeOegAAABEQZ9SRRUsM/8AATXXe7NNXKC9oc8T\n",
       "DaReTBj+jcm2Urc5iUhg8A7b3HZDkZ/3H0pzAMxJ4Xyuf0RDbwC7/CE3zEdmwzkAAAAzAZ9xdEK/\n",
       "AAI66JrEDPXhnEcmz8kfKtJxi6+VK489zCpbBoDkCJH0W1HBKbDRKOZEiZLgAAAALAGfc2pCvwAC\n",
       "O7Ai81B3Yc6rIG2KUNAhfex5aniAP3H9AdmW8EPJdrKknBs4AAABQUGbeEmoQWyZTAh///6plgAB\n",
       "dvqkSARLBgDimQzF6w4gl0NtWsN6G6KpeDtu34hCEMcTPhmzT23kccB2YSxFyP48ucgk99EQ9+hA\n",
       "9nOoDE2N4vVcrPH68eoDjRW5tL6/S6itNrc8umnXETYiN6TjR2IJhBMZFZ7Z6WPAtJ2atejuqcLl\n",
       "fi4PeYGUGvyWcR3dWR5pEEVf4vTDADXk2w4i1VWfVDUGLF66B8wD6H3Nr82pM7SByIL7dIPAZdL5\n",
       "r2eH+FC2TG0AgY+LW27VOOy7YK8GNDiXk3Uvwzc8gsFJEfqzLiz93tesMBeD4AaU0OWL3DRRAPGg\n",
       "rpa4O/A23JE8IW40/xa+ipkRBRTkY/HgCauFx9x796mQcjccGlLywGJtNaGoxiBEKv6Wm3K3zfhi\n",
       "2QuGsS7KCOqInMZGOEezGMLlfQAAAEBBn5ZFFSwz/wABR20SMbJe40locNHVIM4ElCwZewHfKvZ5\n",
       "kYC0YPaeDJFzet54pPs6ZP625S1ipGof/NwPImyAAAAALgGftXRCvwACOuia4VnbfAEzrCJ+KkLa\n",
       "TEVJRu2CUOV8pQ6hNMSASyDf5zjlBZEAAAApAZ+3akK/AAI7sCM0OaVCcWHbdBujRN+K/nFlHOu5\n",
       "PGspd5fTSmi6KkEAAADpQZu8SahBbJlMCH///qmWAAF4+FU91U4AjnGiziHAMwqrjL+aQplgwlOa\n",
       "+92uZc7mkEWiToUHfg0n3Z6YfIioWa2xm3x//3EeCJuJtnWvY+4skSgEHjfRsaHhMOB9n/29f+jj\n",
       "k6igg/C5TvUsnSJVimkSr4STtgpMXBMCWcvcwJTdOinSEQDxvQciJ9/LkMEq9rtMBUW3cHaKi3hh\n",
       "Es84/jQ445QGvrDPjaJeoAYv/TeBN69oyLDWsRk25R3eUjknc/nBh8LP3xMRjYjDLmEvbheO27HP\n",
       "r6uJycLz0ozmdB8s/iq9q5BykogAAABAQZ/aRRUsM/8AAUdhaNIbFEPgjj1goxq8SUJDElHR+k2x\n",
       "2SYwiAlV9fRH4dFz1SUI+OMA+UI2MnEi0iHFZmRiwQAAACgBn/l0Qr8AAjromvRKGoAr8aovdYOz\n",
       "2+D7tEC8CPn0NAm5LCnRCliXAAAAKAGf+2pCvwABNdaaLiym4fziIFAtXjKLQrYYM7sLmc0hVTr8\n",
       "QkJugykAAADUQZvgSahBbJlMCH///qmWAAFtrfeSZkPcg60AOMacGlBBpu3ocpR7O6XUFjgoMcz/\n",
       "HV7vni1SXQOWDsoOOh/YBQX4kEoDAJNYo5Ym9imAMNIwbAHSJ8hnHcCfcdVnk3T34yvh7g7jUh25\n",
       "1GUzkGTcS2HaUHySUz48hnrwWDIrLw3eyMRWgazd0GvnkkxQUG8rsIStMTJwGnnyhp25j6G9ZAzs\n",
       "/XdWRZemSHiejZLW+yQ45pEyDXRhGtCSrBOK3M0IT0TbyM6J9ULA+0yfcH1nlP8vGREAAABHQZ4e\n",
       "RRUsM/8AAKhTKWmU6Vi4ftZLXwPK5djXutEU1aANFDxYg6PgFobd1TNh+usLDu5Sv8JRKMdxS/5d\n",
       "fR7+6geHJj1YUIAAAAAoAZ49dEK/AAE1c0Uj2alpyLCvLr/nu1YHu8AKBr1D7Flgdzh8TZGNKAAA\n",
       "ACwBnj9qQr8AATXXbIF47qmVehSQVZ8lTBnExihOEgFRy4TcVk+oj9BcQ4lMYQAAAPBBmiRJqEFs\n",
       "mUwIf//+qZYAAXjnnlEC36aXfgAcRx4bdtkcoUIUBEs092m/P86pHUIxliuli/CvpOtYdRadyX6Z\n",
       "hr4QqGxZFh7fiFOe6vlKkC5EThnHKviosGKL1ii54w5uikaYNX01H1Ck5kT4e84JpsByLxZbDUWc\n",
       "XxdOxrwU6jESYY95xzyt6/cvdVAUs3HheaRNblWfFC9i6GAib1du7/diFMrIh3+Neny1kTDiLJrl\n",
       "YlR8C/2wX/lROet67fQkhtD3BcXBfvZHunXGuEAKu2mLwTn9VTkWHHATyPC40rp/xPUZ+zFjvxWt\n",
       "+kPocFIAAABEQZ5CRRUsM/8AAKhTQkXASFPExartVk5fg1F2Ea3MXsEhwg3teVh1aEyoP8hWAqyB\n",
       "xNAUMsUWtlE3PqMSl3o1xl/60VkAAAAsAZ5hdEK/AAE1c1oXR0oWO08fcKKwvpQy7yajOZIazt02\n",
       "QVuUOwtZnrlqrzgAAAA1AZ5jakK/AAE11oNowx4cc+jGaksOHVyK7/oBzc/qZNpCtZUNuqtn5E64\n",
       "KCiD8zJK3EldOxMAAADjQZpoSahBbJlMCH///qmWAAFuc8k9EANyn7uqshV3khY9VUqKg9Uqme3J\n",
       "479l9asRJC6Tr6buH07qa233Zt4Bx5RU1Rzy0/G7fPHXnXfYHiwpbp3BHrBdoo0f2o9Vh74B2OG2\n",
       "SlvvexbfKc+POY9SQHv6zXte6Qi7q4vVCvceTIn4CZ9r6lETMqY0ZGL9VEEbbsLrR4xT9+rfE4zL\n",
       "ESHCriagoj/onLPcCQ07NPIjhywIUBb4a4Klzrg88DdZDBtzamTUx+Zw05UaW5jW+so6tbP7qDey\n",
       "cfMOLzvqfQnMH3KeausAAABLQZ6GRRUsM/8AAUdRg/GX9XXaFXruD1OmAq0YewHD/h5lG/9+MeSs\n",
       "FxGiuQRsoDMbAU5XavqecoIQEGvz9nXjUh8uRSmVpKqAKeUxAAAALQGepXRCvwACWuiSJMrxd2H1\n",
       "+UKObPrPaIg9E0C6drqCXYP0PJmUxTJePtXenQAAACsBnqdqQr8AAjuwIzbogETEikVpQ2nxmBmL\n",
       "vMmHUhGtmY/pm44CDwPjTsg2AAAA2EGarEmoQWyZTAh///6plgABbqZr6Q4AcW3Yq2jigYJHubFF\n",
       "41pkchBCs25MBj/sb1VevQJuHJd0n6R4KTJmtGN9SZVlUKI72AakLMDuajtvbv7BQTw5DBawBRSK\n",
       "nYffC8csWnl9+3kVSX6A2qgWwzhga31mSFz1A/kG7xavQjGkHlQ1E0VgB6XQwCftVhTfOEryIP4m\n",
       "+X1D+hycbBLSLwQznRGT17SA1um1g4NAXmwPmj3d2RmKIMSK3ZJgLkBWOyhVyIozM9Zq1F5XI4Ie\n",
       "d7+n9iI+uCdhwAAAAEtBnspFFSwz/wABPhdMDhbpWQd3UxF47NYfHewY4VQ522UkewIDahJJwfNR\n",
       "VFnDAMNlSqXlhRooaftYnzA5GhjGRcMQ2gY4oMOOx0EAAAAwAZ7pdEK/AAI66JrmvQeWpAbIfTyG\n",
       "0+bPMX41gLvSpVzlc1SUnO7d2WSIwH20evloAAAALQGe62pCvwACO7AjNuetZH8eykWUmFKNerQY\n",
       "UTs4mlSp6x6FHa9opHB+w+e/aAAAAOVBmvBJqEFsmUwId//+qZYAAW2n1YUhvPAF8dH1EkQfNvkQ\n",
       "OTMVvULxerwkLno5D5jeDcnuPP9OAPt7iHTAAlGy5RfoQsftlAuRtyp/QQ8roGgrrKl61R4Z5IoV\n",
       "k8lUEDoer5XClggPiaEyFtWul0Scrharba0BtJmg0s44jLrSI8lEGN2Waz03RJUAY0mk4YOhz0eV\n",
       "revb4FTWHWOSc9dX9T5w+hC+mwumO0l5zntzMi2R/fb7xh13ZFSPaixAfEEpnKti6cWVMYJi+HbQ\n",
       "s1aliDbo9ctSMgZCowOD6ICqCMLXJigJAAAASUGfDkUVLDP/AAE113u3JBgZdPngtiAD+uoiThO1\n",
       "/x6Ttiuz61ZBXyTzh514aopu+MQKo5XkaZBz44iyOr3hafqMfXkbWvmhMpEAAAAwAZ8tdEK/AAI6\n",
       "6JYKJ4g+Y1G0X5DOJdyfTzHQcpi0QA3XgBXFcwA1m3d5gc2ZjxgJAAAALQGfL2pCvwACS1WzUqfe\n",
       "20RJLUPdWeExY/bZM6SVjfZwiAkF/bWdj23fmYyDMAAAALRBmzRJqEFsmUwId//+qZYAAW9GPJhj\n",
       "ACvMIq8TsHyOS4LE9Aa+Sh39nLOVDCTl1MvBMh10K7cvJ11HJ4+rxq3kIadaK9Odt/vgvWQMXLDc\n",
       "A463mfOolL2Raq6gMQ3sOBtTh0H6PHx2eo3CSD3rn77/7cjN9XoZEwQi6y3Meg1jC+J5VpNxI3UK\n",
       "x3JC0vmcwgiGBGg37m1/ZjFsGcgw3ndECPKwJRNceTvfYbgxLeKHvK9LUbAAAABBQZ9SRRUsM/8A\n",
       "AT4X/y/qglJ0F1kR/c+sQ1ZPhtGZnqum3tZ9BncYqO8VRTC500PsxS+k7Y3GiEQOqEzHADXqmoEA\n",
       "AAAyAZ9xdEK/AAI66JY1rmbwQQh9TPSgz32EUXua89Sb/XeA7PFDF+iwgB1xqg7KuZ/axTQAAAAw\n",
       "AZ9zakK/AAEtt0XSm6jFfgSHyTx3JaugUfRkHWCizzZIh2/8l0krJgnPjawz3sHYAAAAt0Gbd0mo\n",
       "QWyZTAh3//6plgABbaL8KOKrgBFvCQeCp6a2LxOsHfIvfY6zyEWJZ+TTT/j/6nUSUlGQ+UWN7MXg\n",
       "SIJiAa7UaunMsXr+CsYb5ohPtBTs5F8CkqE9Hzc5tSA564deUZBsnW7EaPN0Av1HpZc2H3RP28Aa\n",
       "MsRqr9oSYaH8y+P3QKqvjGeZwlYxeFKT59CvO2c6384UrbrzdAXRTl2JcNCkJjIEsS2NFRx8IfnE\n",
       "VHcoDKLZgQAAADtBn5VFFSwv/wABpojE8CbRtV5lhoJY2KBGKFef36r6vDGXcR8GJTal5QC7Jw2w\n",
       "jDT+USlf+lWT/EKICAAAACsBn7ZqQr8AAjuwHkzNwDkSDkPXYB1dkORcXoN2PPL/MVK0BbbpWAHz\n",
       "IZexAAAAyUGbukmoQWyZTAh3//6plgABblW00LwgBCTGNyN5e5/Qsfo71/Nt6vjKB8ANerZOWmbR\n",
       "ogg5CJofVfi3Dzz0uWEgKz2XQzm3zX3ODxuy+rAR0iaX+XHC8S4HI0Hsuk/OP+ToKe4IdwS2/dtX\n",
       "PenHIK4FbSIPmv9o6P9tvLLqRRHsNKiZqCJwD4zFkG+U6Bxyu7iUsux6c8fPsbU8aDEXkVO0BdeV\n",
       "TWAcu8YU2Rism6Iy1jAFwn1JG/rsE8FHsQpoznveK9WeVZVWMQAAADxBn9hFFSwv/wABpojFZjK0\n",
       "U6q/x3jsW8AqoKiVUBUcwnzxq1kLBQ8StoZqO10uZ0pOYL7oHDcNpJACfAQAAAAxAZ/5akK/AAI7\n",
       "sByrKtm99apPpOZnmT9bNHLCAjqUajPyxZzk/Uc/mm1igSl1Ro9jgQAAALZBm/1JqEFsmUwIb//+\n",
       "p4QAAtUL9OswvGzUADoSfPX/H9nBM8PXTLTX0dnCeVBXQtwfO96bfUb1klW6f2ttkTb0eAiQNFFy\n",
       "DhTcBGy83TcKPtIZ8Q4yyznS17K1AdUi9MessmVq6YsN4E3FwMCPo8RgoDi4Ajz8yAKIo9C4FD5d\n",
       "U/6FL4743ZXzYnAgFoT8RIrxFxSRPhhrwrS6q3YacrY94yGoZHSXnzJ1OOhnceeEbWj9qeAM2wAA\n",
       "ADxBnhtFFSwv/wABpojEt6ebyYP96kV50xB/ca9IweOlvK+iCpgdI7ONfVD6b0rOUrDC6DitzOnf\n",
       "+FURnasAAAAtAZ48akK/AAI7sB5h7UXgBvgGqnZnqcHVXdjPUBpL6gWDinUwu/7kNpZYOL7vAAAA\n",
       "XUGaPkmoQWyZTAhv//6nhAAC1uCXXAJplaUPy8Tivl1Ivt4v0s8KivR23SMNdajLBv445KlH36KN\n",
       "sk1D5Tt5zJSWEvyg9nfCvb9+vw5ycc1Zh+FQ/MwD00mC+rM1wAAAAGNBml9J4QpSZTAh3/6plgAB\n",
       "b0RUgaAI3YcB8xygmjJ03PMVq+dPVKl6N9kdyrynkofha0GKy5Tq4QGPzwbIlUnpSFMRTIte/QqF\n",
       "09ZwDFRvmdIMLHP93rUDzrd2rZqPL1VsFpwAAACRQZphSeEOiZTBTRMO//6plgABbyZg830AJ3nM\n",
       "CfA+nJN3OF9NsJV9VNeG7iVQf2c4G67EdwAs1wGfZURyNFEYZyFabr6zgxhbzbYEOhdtg5tVLokF\n",
       "1D20HIk/e7+o6ZX+koafSXTfWR0Xo93RIcay/IzCqUgH9DiOyv2j6q62cMOO9gEhNvSHuouKz7M+\n",
       "VZRrgQAAAC4BnoBqQr8AAkqX/giKO79zF7d8ZIJsBS1xz7vejEWNKAltKSAqslOMB4SeQoYQAAAA\n",
       "kUGag0nhDyZTBTw7//6plgABb0SktEUoAV8Sawwe7w0ykgyNk1Lonl8COq+9mK/CoHqJJtqn0GkN\n",
       "rOToX2ZKVO+8q6R1t2YDXoRwjlxD7GqN+ZDXYBOi4jwbeE09GiTRnbt+bmHbXUwjf8pPNhyORrBU\n",
       "dzRdqCXKeDG+NeiQHmGEpCM3zfQI29Z4Vy6WCeBt08EAAAAsAZ6iakK/AAJKOYeGRyGY5YIcttPL\n",
       "veGOmzNgJTM6sA9tDxV/rlT1+yHJcNgAAACcQZqnSeEPJlMCG//+p4QAAtXnD+yAK0VZYCnvnn/Y\n",
       "Qt5px8n0ed9DUS+/Rf5WKJ5XKVqC7P/wb6hZU6K0GRahKVtkVqZE+8BQdq4osKCzuw+SYF//YR61\n",
       "K0MEl2njV8NJHyog8YAIPJOwwQr6yB9Bd0xHAamXnjFb9H4POc8SH5cgDKE3nhzJ5LkdZZMB/frt\n",
       "zvpGe630anM5UGoNAAAAO0GexUURPDP/AAE+F6C+2W86bA3dQlQo27ZAKLs9uxVWEM5L6lJkrCgC\n",
       "ku5R9gr+fZ0SGNKRaD6YgY+BAAAAKQGe5HRCvwACSxRMaTYIzwOC8lUSgMIUn8y/6h1MxECa2rhE\n",
       "wziNAmHJAAAAKQGe5mpCvwACS26O9HW594uf8yJJsQiDZqRk4UQhgpl+yofWj5sKueNhAAAAcEGa\n",
       "6UmoQWiZTBTw3/6nhAAC1ebAPajDP66AHEchHEZ5T+SaL6rjLiqapwBS7e7D03QK8gWcP3QSemuC\n",
       "xBMm1JvsNhEIOw1kUz8h2fbbokor2KMg7xImFUItG/F5sOuQzodv3f1PELJ+0rQLLHtjGVgAAAA0\n",
       "AZ8IakK/AAJL1Q37qIJLEhx3DslVjRCjJhirVbZBn6SfqlbbxRIAblwXPD/67XEHBPapEAAAAE1B\n",
       "mwpJ4QpSZTAhv/6nhAAC1egzT2kn59cghAAh93b0TmfeADRRvGX3/+LIQJ6fSGt409ZLpVklo0cM\n",
       "Eu0nGmnarXJxwpYgQiaKa1M3wQAAAENBmytJ4Q6JlMCG//6nhAABbEnDtliuJ2QRq8GSRLZ3mx3L\n",
       "ADeNc17WZ87//NKlaXiZK3WQVC6YtAEmuJ3cW6UMxo1IAAAAWkGbTEnhDyZTAh3//qmWAAC3ojca\n",
       "eI2F+6F17VQWs0AHbeC9qjvDNU2M9EurhVEHC7uQwgmzaOvBpsJf4kXDhSh0EfJK561PPuViZxqo\n",
       "bcgubz/VZMkQrJLGugAAAERBm21J4Q8mUwId//6plgAAtvxSm0SPwtgAPHhWVuLIhtgqe+DCSPGY\n",
       "l4to3OY/rzoKMZS9eLc/Vt9tnyTsRXMuHvS1wQAAAEhBm45J4Q8mUwIf//6plgAAtvyoR35xskhl\n",
       "FMTEPc6bosUAEPBfR4gJuuKi04fA8Tcrq4k/lXE86Gd7MT/IbxUfM6kmffmmTz0AAABNQZuySeEP\n",
       "JlMCH//+qZYAALf+YpZn4KLh4xJSBNP/HCEXgAA6CS6Es+IIcy93ZdAVpSktxpN+csC4atUXZxvJ\n",
       "wWtXKjVg6CXL3UAC20EAAABFQZ/QRRE8M/8AATKDjzgeHTsKqxGs/uzW6ZWNJuzACdidxCRhLa19\n",
       "AehfmHEGn5F1wBlfSRHbsDbDB6nMQuN3OAfa5hUgAAAAPgGf73RCvwACOuiSJe9CVCnyTjoAOLIs\n",
       "DqZDaIQez9eQqXAMPPH2rEyDaTy/mjB8rHIDMdbLy+2b533Kpp4sAAAAJwGf8WpCvwACO7AEKhdZ\n",
       "zId+3UGOyiZXGs1vQAK3NEguiy0I5jmqvQAAAItBm/ZJqEFomUwIf//+qZYAAAt/wra8WlLHJwA4\n",
       "s3mCUIYjcrR69cSQvof7lE1aBxgLBOiQZ+fJn9ideIQak3qC4FPZ3FC+3DA39jPDifMj38gmpR5Y\n",
       "lLNMaVu83wNXJwrYL1E+cV3Zt5KYc+m576Uy1Gcefw+AjrCC/pR3RR9vZNPoPZkOy6Cd1l3gAAAA\n",
       "KkGeFEURLDP/AAE113nSuLmdnSWLIWUzSF3psU1oNg1sAB3WPeLuSxE7bAAAABYBnjN0Qr8AAjro\n",
       "fCJjkAJdD6NN/JDBAAAAGwGeNWpCvwACO7AEKik6K6SjGyZU2QVXLUGqkAAAADxBmjpJqEFsmUwI\n",
       "f//+qZYAAAbT4az6n4K9avp44QBYAT+85/37Ycdw9/0Q+k0glA6hAWOL73esSf4ik+8AAAAcQZ5Y\n",
       "RRUsM/8AATXXedK4uZ16Y6QZ5pWdO4oB0QAAABcBnnd0Qr8AAjrofCJjj8aVi2XJ2oozfwAAABAB\n",
       "nnlqQr8AAjuwBCopOf4dAAAAFUGafkmoQWyZTAh///6plgAAAwDwgAAAABVBnpxFFSwz/wABNdd5\n",
       "0ri5nWAg9V8AAAAQAZ67dEK/AAI66HwiY494qQAAABABnr1qQr8AAjuwBCopOf4cAAAAFUGaokmo\n",
       "QWyZTAh///6plgAAAwDwgAAAABVBnsBFFSwz/wABNdd50ri5nWAg9V8AAAAQAZ7/dEK/AAI66Hwi\n",
       "Y494qAAAABABnuFqQr8AAjuwBCopOf4dAAAAFUGa5kmoQWyZTAh///6plgAAAwDwgAAAABVBnwRF\n",
       "FSwz/wABNdd50ri5nWAg9V8AAAAQAZ8jdEK/AAI66HwiY494qQAAABABnyVqQr8AAjuwBCopOf4d\n",
       "AAAAFUGbKkmoQWyZTAh///6plgAAAwDwgQAAABVBn0hFFSwz/wABNdd50ri5nWAg9V4AAAAQAZ9n\n",
       "dEK/AAI66HwiY494qAAAABABn2lqQr8AAjuwBCopOf4dAAAAFUGbbkmoQWyZTAh///6plgAAAwDw\n",
       "gAAAABVBn4xFFSwz/wABNdd50ri5nWAg9V4AAAAQAZ+rdEK/AAI66HwiY494qQAAABABn61qQr8A\n",
       "AjuwBCopOf4dAAAAFUGbskmoQWyZTAh///6plgAAAwDwgQAAABVBn9BFFSwz/wABNdd50ri5nWAg\n",
       "9V4AAAAQAZ/vdEK/AAI66HwiY494qAAAABABn/FqQr8AAjuwBCopOf4dAAAAFUGb9kmoQWyZTAh/\n",
       "//6plgAAAwDwgAAAABVBnhRFFSwz/wABNdd50ri5nWAg9V4AAAAQAZ4zdEK/AAI66HwiY494qQAA\n",
       "ABABnjVqQr8AAjuwBCopOf4cAAAAFUGaOkmoQWyZTAh///6plgAAAwDwgQAAABVBnlhFFSwz/wAB\n",
       "Ndd50ri5nWAg9V8AAAAQAZ53dEK/AAI66HwiY494qAAAABABnnlqQr8AAjuwBCopOf4dAAAAFUGa\n",
       "fkmoQWyZTAh///6plgAAAwDwgAAAABVBnpxFFSwz/wABNdd50ri5nWAg9V8AAAAQAZ67dEK/AAI6\n",
       "6HwiY494qQAAABABnr1qQr8AAjuwBCopOf4cAAAAFUGaokmoQWyZTAh///6plgAAAwDwgAAAABVB\n",
       "nsBFFSwz/wABNdd50ri5nWAg9V8AAAAQAZ7/dEK/AAI66HwiY494qAAAABABnuFqQr8AAjuwBCop\n",
       "Of4dAAAAFUGa5kmoQWyZTAh///6plgAAAwDwgAAAABVBnwRFFSwz/wABNdd50ri5nWAg9V8AAAAQ\n",
       "AZ8jdEK/AAI66HwiY494qQAAABABnyVqQr8AAjuwBCopOf4dAAAAFUGbKkmoQWyZTAh///6plgAA\n",
       "AwDwgQAAABVBn0hFFSwz/wABNdd50ri5nWAg9V4AAAAQAZ9ndEK/AAI66HwiY494qAAAABABn2lq\n",
       "Qr8AAjuwBCopOf4dAAAAFUGbbkmoQWyZTAh///6plgAAAwDwgAAAABVBn4xFFSwz/wABNdd50ri5\n",
       "nWAg9V4AAAAQAZ+rdEK/AAI66HwiY494qQAAABABn61qQr8AAjuwBCopOf4dAAAAFUGbskmoQWyZ\n",
       "TAh3//6plgAAAwDwgQAAABVBn9BFFSwz/wABNdd50ri5nWAg9V4AAAAQAZ/vdEK/AAI66HwiY494\n",
       "qAAAABABn/FqQr8AAjuwBCopOf4dAAAAFUGb9kmoQWyZTAh3//6plgAAAwDwgAAAABVBnhRFFSwz\n",
       "/wABNdd50ri5nWAg9V4AAAAQAZ4zdEK/AAI66HwiY494qQAAABABnjVqQr8AAjuwBCopOf4cAAAA\n",
       "FUGaOkmoQWyZTAh3//6plgAAAwDwgQAAABVBnlhFFSwz/wABNdd50ri5nWAg9V8AAAAQAZ53dEK/\n",
       "AAI66HwiY494qAAAABABnnlqQr8AAjuwBCopOf4dAAAAE0GafkmoQWyZTAhn//6eEAAAB0wAAAAV\n",
       "QZ6cRRUsM/8AATXXedK4uZ1gIPVfAAAAEAGeu3RCvwACOuh8ImOPeKkAAAAQAZ69akK/AAI7sAQq\n",
       "KTn+HAAAABNBmr9JqEFsmUwIV//+OEAAABxwAAAKbm1vb3YAAABsbXZoZAAAAAAAAAAAAAAAAAAA\n",
       "A+gAAB9AAAEAAAEAAAAAAAAAAAAAAAABAAAAAAAAAAAAAAAAAAAAAQAAAAAAAAAAAAAAAAAAQAAA\n",
       "AAAAAAAAAAAAAAAAAAAAAAAAAAAAAAAAAAAAAAIAAAmYdHJhawAAAFx0a2hkAAAAAwAAAAAAAAAA\n",
       "AAAAAQAAAAAAAB9AAAAAAAAAAAAAAAAAAAAAAAABAAAAAAAAAAAAAAAAAAAAAQAAAAAAAAAAAAAA\n",
       "AAAAQAAAAAGwAAABIAAAAAAAJGVkdHMAAAAcZWxzdAAAAAAAAAABAAAfQAAABAAAAQAAAAAJEG1k\n",
       "aWEAAAAgbWRoZAAAAAAAAAAAAAAAAAAAKAAAAUAAVcQAAAAAAC1oZGxyAAAAAAAAAAB2aWRlAAAA\n",
       "AAAAAAAAAAAAVmlkZW9IYW5kbGVyAAAACLttaW5mAAAAFHZtaGQAAAABAAAAAAAAAAAAAAAkZGlu\n",
       "ZgAAABxkcmVmAAAAAAAAAAEAAAAMdXJsIAAAAAEAAAh7c3RibAAAALNzdHNkAAAAAAAAAAEAAACj\n",
       "YXZjMQAAAAAAAAABAAAAAAAAAAAAAAAAAAAAAAGwASAASAAAAEgAAAAAAAAAAQAAAAAAAAAAAAAA\n",
       "AAAAAAAAAAAAAAAAAAAAAAAAAAAAABj//wAAADFhdmNDAWQAFf/hABhnZAAVrNlBsJaEAAADAAQA\n",
       "AAMAoDxYtlgBAAZo6+PLIsAAAAAcdXVpZGtoQPJfJE/FujmlG88DI/MAAAAAAAAAGHN0dHMAAAAA\n",
       "AAAAAQAAAKAAAAIAAAAAFHN0c3MAAAAAAAAAAQAAAAEAAATQY3R0cwAAAAAAAACYAAAAAQAABAAA\n",
       "AAABAAAKAAAAAAEAAAQAAAAAAQAAAAAAAAABAAACAAAAAAEAAAoAAAAAAQAABAAAAAABAAAAAAAA\n",
       "AAEAAAIAAAAAAQAACgAAAAABAAAEAAAAAAEAAAAAAAAAAQAAAgAAAAABAAAKAAAAAAEAAAQAAAAA\n",
       "AQAAAAAAAAABAAACAAAAAAEAAAoAAAAAAQAABAAAAAABAAAAAAAAAAEAAAIAAAAAAQAACgAAAAAB\n",
       "AAAEAAAAAAEAAAAAAAAAAQAAAgAAAAABAAAKAAAAAAEAAAQAAAAAAQAAAAAAAAABAAACAAAAAAEA\n",
       "AAoAAAAAAQAABAAAAAABAAAAAAAAAAEAAAIAAAAAAQAACgAAAAABAAAEAAAAAAEAAAAAAAAAAQAA\n",
       "AgAAAAABAAAKAAAAAAEAAAQAAAAAAQAAAAAAAAABAAACAAAAAAEAAAoAAAAAAQAABAAAAAABAAAA\n",
       "AAAAAAEAAAIAAAAAAQAACgAAAAABAAAEAAAAAAEAAAAAAAAAAQAAAgAAAAABAAAKAAAAAAEAAAQA\n",
       "AAAAAQAAAAAAAAABAAACAAAAAAEAAAgAAAAAAgAAAgAAAAABAAAIAAAAAAIAAAIAAAAAAQAACAAA\n",
       "AAACAAACAAAAAAIAAAQAAAAAAQAABgAAAAABAAACAAAAAAEAAAYAAAAAAQAAAgAAAAABAAAKAAAA\n",
       "AAEAAAQAAAAAAQAAAAAAAAABAAACAAAAAAEAAAYAAAAAAQAAAgAAAAAFAAAEAAAAAAEAAAoAAAAA\n",
       "AQAABAAAAAABAAAAAAAAAAEAAAIAAAAAAQAACgAAAAABAAAEAAAAAAEAAAAAAAAAAQAAAgAAAAAB\n",
       "AAAKAAAAAAEAAAQAAAAAAQAAAAAAAAABAAACAAAAAAEAAAoAAAAAAQAABAAAAAABAAAAAAAAAAEA\n",
       "AAIAAAAAAQAACgAAAAABAAAEAAAAAAEAAAAAAAAAAQAAAgAAAAABAAAKAAAAAAEAAAQAAAAAAQAA\n",
       "AAAAAAABAAACAAAAAAEAAAoAAAAAAQAABAAAAAABAAAAAAAAAAEAAAIAAAAAAQAACgAAAAABAAAE\n",
       "AAAAAAEAAAAAAAAAAQAAAgAAAAABAAAKAAAAAAEAAAQAAAAAAQAAAAAAAAABAAACAAAAAAEAAAoA\n",
       "AAAAAQAABAAAAAABAAAAAAAAAAEAAAIAAAAAAQAACgAAAAABAAAEAAAAAAEAAAAAAAAAAQAAAgAA\n",
       "AAABAAAKAAAAAAEAAAQAAAAAAQAAAAAAAAABAAACAAAAAAEAAAoAAAAAAQAABAAAAAABAAAAAAAA\n",
       "AAEAAAIAAAAAAQAACgAAAAABAAAEAAAAAAEAAAAAAAAAAQAAAgAAAAABAAAKAAAAAAEAAAQAAAAA\n",
       "AQAAAAAAAAABAAACAAAAAAEAAAoAAAAAAQAABAAAAAABAAAAAAAAAAEAAAIAAAAAAQAACgAAAAAB\n",
       "AAAEAAAAAAEAAAAAAAAAAQAAAgAAAAABAAAKAAAAAAEAAAQAAAAAAQAAAAAAAAABAAACAAAAAAEA\n",
       "AAoAAAAAAQAABAAAAAABAAAAAAAAAAEAAAIAAAAAAQAACgAAAAABAAAEAAAAAAEAAAAAAAAAAQAA\n",
       "AgAAAAABAAAEAAAAABxzdHNjAAAAAAAAAAEAAAABAAAAoAAAAAEAAAKUc3RzegAAAAAAAAAAAAAA\n",
       "oAAACwcAAAF7AAAAVQAAAEAAAAAxAAABKAAAAE8AAAAzAAAAMgAAANcAAABNAAAANQAAAC8AAAEK\n",
       "AAAAQQAAADAAAAAuAAAA/gAAAEgAAAA3AAAAMAAAAUUAAABEAAAAMgAAAC0AAADtAAAARAAAACwA\n",
       "AAAsAAAA2AAAAEsAAAAsAAAAMAAAAPQAAABIAAAAMAAAADkAAADnAAAATwAAADEAAAAvAAAA3AAA\n",
       "AE8AAAA0AAAAMQAAAOkAAABNAAAANAAAADEAAAC4AAAARQAAADYAAAA0AAAAuwAAAD8AAAAvAAAA\n",
       "zQAAAEAAAAA1AAAAugAAAEAAAAAxAAAAYQAAAGcAAACVAAAAMgAAAJUAAAAwAAAAoAAAAD8AAAAt\n",
       "AAAALQAAAHQAAAA4AAAAUQAAAEcAAABeAAAASAAAAEwAAABRAAAASQAAAEIAAAArAAAAjwAAAC4A\n",
       "AAAaAAAAHwAAAEAAAAAgAAAAGwAAABQAAAAZAAAAGQAAABQAAAAUAAAAGQAAABkAAAAUAAAAFAAA\n",
       "ABkAAAAZAAAAFAAAABQAAAAZAAAAGQAAABQAAAAUAAAAGQAAABkAAAAUAAAAFAAAABkAAAAZAAAA\n",
       "FAAAABQAAAAZAAAAGQAAABQAAAAUAAAAGQAAABkAAAAUAAAAFAAAABkAAAAZAAAAFAAAABQAAAAZ\n",
       "AAAAGQAAABQAAAAUAAAAGQAAABkAAAAUAAAAFAAAABkAAAAZAAAAFAAAABQAAAAZAAAAGQAAABQA\n",
       "AAAUAAAAGQAAABkAAAAUAAAAFAAAABkAAAAZAAAAFAAAABQAAAAZAAAAGQAAABQAAAAUAAAAFwAA\n",
       "ABkAAAAUAAAAFAAAABcAAAAUc3RjbwAAAAAAAAABAAAALAAAAGJ1ZHRhAAAAWm1ldGEAAAAAAAAA\n",
       "IWhkbHIAAAAAAAAAAG1kaXJhcHBsAAAAAAAAAAAAAAAALWlsc3QAAAAlqXRvbwAAAB1kYXRhAAAA\n",
       "AQAAAABMYXZmNTguMTIuMTAw\n",
       "\">\n",
       "  Your browser does not support the video tag.\n",
       "</video>"
      ],
      "text/plain": [
       "<IPython.core.display.HTML object>"
      ]
     },
     "execution_count": 17,
     "metadata": {},
     "output_type": "execute_result"
    },
    {
     "data": {
      "image/png": "[encoded data removed]",
      "text/plain": [
       "<matplotlib.figure.Figure at 0x1472fb55da0>"
      ]
     },
     "metadata": {},
     "output_type": "display_data"
    }
   ],
   "source": [
    "from matplotlib import animation\n",
    "from IPython.display import HTML\n",
    "fig = pyplot.figure()\n",
    "ax = pyplot.axes(xlim=(0,10),ylim=(-0.5,11))\n",
    "line, = ax.plot([],[])\n",
    "def animate(data):\n",
    "    line.set_data(x,data)\n",
    "    return line,\n",
    "anim = animation.FuncAnimation(fig,animate,frames=rho_n,interval=50)\n",
    "HTML(anim.to_html5_video())"
   ]
  },
  {
   "cell_type": "code",
   "execution_count": null,
   "metadata": {
    "collapsed": true
   },
   "outputs": [],
   "source": []
  }
 ],
 "metadata": {
  "kernelspec": {
   "display_name": "Python 3",
   "language": "python",
   "name": "python3"
  },
  "language_info": {
   "codemirror_mode": {
    "name": "ipython",
    "version": 3
   },
   "file_extension": ".py",
   "mimetype": "text/x-python",
   "name": "python",
   "nbconvert_exporter": "python",
   "pygments_lexer": "ipython3",
   "version": "3.6.0"
  }
 },
 "nbformat": 4,
 "nbformat_minor": 2
}
