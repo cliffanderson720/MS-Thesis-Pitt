{
 "cells": [
  {
   "cell_type": "code",
   "execution_count": 1,
   "metadata": {},
   "outputs": [],
   "source": [
    "import numpy as np\n",
    "import matplotlib.pyplot as plt\n",
    "from velocity_functions import *\n",
    "from scipy.integrate import odeint\n",
    "%matplotlib inline"
   ]
  },
  {
   "cell_type": "markdown",
   "metadata": {},
   "source": [
    "# Velocity and Integration schemes\n",
    "The current scheme integrates a 1D scalar conservation law using zero flux B.C. at both walls.\n",
    "To Do:\n",
    "1. Come up with a multicomponent flux function using the Lerche 2001 model.\n",
    "2. plot $(u_{plasma}-u_{bac})$ vs. $\\alpha_{RBC}$ to find where backflow occurs.\n",
    "3. Write upwinding function for two independent waves over x\n",
    "  1. Start decoupled. Then couple\n",
    "  2. Include backflow and conditional statements for upwinding."
   ]
  },
  {
   "cell_type": "code",
   "execution_count": 2,
   "metadata": {},
   "outputs": [
    {
     "data": {
      "image/png": "[encoded data removed]",
      "text/plain": [
       "<Figure size 432x288 with 1 Axes>"
      ]
     },
     "metadata": {
      "needs_background": "light"
     },
     "output_type": "display_data"
    },
    {
     "data": {
      "text/plain": [
       "(2, 5)"
      ]
     },
     "execution_count": 2,
     "metadata": {},
     "output_type": "execute_result"
    }
   ],
   "source": [
    "# Write multicomponent velocity function\n",
    "def lerche(ρ,ndefs,ρmaxs):\n",
    "    '''\n",
    "    Custom velocity function that computes the sedimentation velocity of j\n",
    "    particle types using the Lerche 2001 form\n",
    "    Inputs:\n",
    "        ρ:     ixj array of cell concentrations\n",
    "        ndefs: tuple of deformation parameters of length j\n",
    "    Outputs:\n",
    "        c: ixj array of cell velocities\n",
    "    '''\n",
    "    n_cells = len(ndefs)\n",
    "    nx      = np.shape(ρ)[1]\n",
    "    \n",
    "    ρ_tot = np.sum(ρ,axis=0)\n",
    "    c_out = np.empty((n_cells,nx))\n",
    "    \n",
    "    for j in range(n_cells):\n",
    "        c_out[j,:] = np.nan_to_num((1-(ρ[j,:]/ρ_tot)/ρmaxs[j])**ndefs[j])\n",
    "    return c_out\n",
    "\n",
    "RBC = np.linspace(0,0.9,5)\n",
    "bac = np.linspace(0,0.1,5)\n",
    "ρcells = np.vstack((RBC,bac))\n",
    "\n",
    "# plt.plot(RBC,lerche(ρcells,ndefs=(2,2),ρmaxs=(1,1)).T)\n",
    "# plt.show()\n",
    "# c_sys(cells,ndefs=(2,1),ρmaxs=(1,1))\n",
    "\n",
    "speeds = porosity(ρcells)\n",
    "plt.plot(RBC.T,speeds.T)\n",
    "plt.show()\n",
    "np.shape(speeds)"
   ]
  },
  {
   "cell_type": "code",
   "execution_count": 3,
   "metadata": {},
   "outputs": [
    {
     "ename": "NameError",
     "evalue": "name 'U0_rel' is not defined",
     "output_type": "error",
     "traceback": [
      "\u001b[1;31m---------------------------------------------------------------------------\u001b[0m",
      "\u001b[1;31mNameError\u001b[0m                                 Traceback (most recent call last)",
      "\u001b[1;32m<ipython-input-3-d0efcc7e9b6c>\u001b[0m in \u001b[0;36m<module>\u001b[1;34m()\u001b[0m\n\u001b[0;32m     51\u001b[0m     \u001b[1;32mreturn\u001b[0m \u001b[0mq_abs\u001b[0m\u001b[1;33m,\u001b[0m\u001b[0mc_abs\u001b[0m\u001b[1;33m\u001b[0m\u001b[0m\n\u001b[0;32m     52\u001b[0m \u001b[1;33m\u001b[0m\u001b[0m\n\u001b[1;32m---> 53\u001b[1;33m \u001b[0mq_abs\u001b[0m\u001b[1;33m,\u001b[0m\u001b[0mc_abs\u001b[0m \u001b[1;33m=\u001b[0m \u001b[0mget_q\u001b[0m\u001b[1;33m(\u001b[0m\u001b[0mαcells\u001b[0m\u001b[1;33m,\u001b[0m\u001b[0mc_rel\u001b[0m\u001b[1;33m=\u001b[0m\u001b[0mU0_rel\u001b[0m\u001b[1;33m,\u001b[0m\u001b[0mmode\u001b[0m\u001b[1;33m=\u001b[0m\u001b[1;34m'porosity'\u001b[0m\u001b[1;33m)\u001b[0m\u001b[1;33m\u001b[0m\u001b[0m\n\u001b[0m\u001b[0;32m     54\u001b[0m \u001b[0mplt\u001b[0m\u001b[1;33m.\u001b[0m\u001b[0mplot\u001b[0m\u001b[1;33m(\u001b[0m\u001b[0mRBC\u001b[0m\u001b[1;33m.\u001b[0m\u001b[0mT\u001b[0m\u001b[1;33m,\u001b[0m\u001b[0mq_abs\u001b[0m\u001b[1;33m.\u001b[0m\u001b[0mT\u001b[0m\u001b[1;33m)\u001b[0m\u001b[1;33m\u001b[0m\u001b[0m\n\u001b[0;32m     55\u001b[0m \u001b[0mplt\u001b[0m\u001b[1;33m.\u001b[0m\u001b[0mshow\u001b[0m\u001b[1;33m(\u001b[0m\u001b[1;33m)\u001b[0m\u001b[1;33m\u001b[0m\u001b[0m\n",
      "\u001b[1;31mNameError\u001b[0m: name 'U0_rel' is not defined"
     ]
    }
   ],
   "source": [
    "def get_c(ρ,c_rel,mode=None,**kwargs):\n",
    "    '''\n",
    "    Return non-dimensional velocity\n",
    "    Inputs:\n",
    "        ρ:     jxi array of cell concentrations\n",
    "        c_rel: jx1 array of stokes velocities of j species normalized to RBCs\n",
    "        mode:  (optional) hindered settling correction to use: type: string\n",
    "    Outputs:\n",
    "        c:     jxi array of velocity of j species corrected for concentration and\n",
    "               normalized by the max stokes velocity of a RBC (i.e. the outer wall)\n",
    "               \n",
    "    TODO: check c_rel dimensions to prevent errors in multiplication in the godunov function.\n",
    "    '''\n",
    "    try:\n",
    "        if mode == 'porosity':\n",
    "            hsc = porosity(ρ,**kwargs)\n",
    "        elif mode == 'RZ-1comp':\n",
    "            hsc = (1-ρ)**2\n",
    "        elif mode == 'RZ-ncomp':\n",
    "            hsc = (1-ρ.sum(axis=0))\n",
    "        # add extra modes for Lerche flux\n",
    "        \n",
    "    except:\n",
    "        # if no hindered settling correction chosen, return c_rel at each spatial point\n",
    "        hsc = np.ones_like(ρ)\n",
    "    \n",
    "    c = c_rel*hsc\n",
    "    return c\n",
    "\n",
    "def get_q(ρ_cells,**kwargs):\n",
    "    '''\n",
    "    returns the speed and volumetric flux of j particle types\n",
    "    inputs: jxi array (checkdims for consistency) of j particle concentrations.\n",
    "    \n",
    "    stokes velocity ratios should pass to get_c via **kwargs\n",
    "    output: \n",
    "    '''\n",
    "    # assign slip velocity of cells relative to fluid using HSC\n",
    "    c_cells_slip = get_c(ρ_cells,**kwargs)\n",
    "    \n",
    "    # calculate plasma ρ, initialize array of plasma speeds (0), and combine with cell values\n",
    "    ρ_plasma = 1-np.sum(ρ_cells,axis=0)\n",
    "    c_plasma = np.zeros(np.shape(ρ_cells[1]))\n",
    "    ρ,c_slip = [np.vstack((species,fluid)) for species,fluid in zip((ρ_cells,c_cells_slip),(ρ_plasma,c_plasma))]\n",
    "    \n",
    "    # compute absolute velocities (and flux) using Davis and Gecol 1994 equation 2\n",
    "    c_avg_slip = np.sum(c_slip*ρ,axis=0)\n",
    "    c_abs = c_slip - c_avg_slip\n",
    "    q_abs = ρ*c_abs\n",
    "    \n",
    "    return q_abs,c_abs\n",
    "\n",
    "q_abs,c_abs = get_q(ρcells,c_rel=U0_rel,mode='porosity')\n",
    "plt.plot(RBC.T,q_abs.T)\n",
    "plt.show()\n",
    "plt.plot(RBC.T,c_abs.T)\n",
    "plt.show()\n",
    "c_abs"
   ]
  },
  {
   "cell_type": "markdown",
   "metadata": {},
   "source": [
    "### Use godunov function for systems\n",
    "1. Make it accept a row of values and a row of fluxes\n",
    "2. Make a wrapper to compute the things..."
   ]
  },
  {
   "cell_type": "code",
   "execution_count": 4,
   "metadata": {},
   "outputs": [],
   "source": [
    "def godunov_flatten(ρ_bc,t,r,mode,**kwargs):\n",
    "    '''work in progress. I can keep godunov infrastructure for 1d and feed in row by row.\n",
    "    Else, I can flatten an ndarray, integrate the whole thing for all time,\n",
    "    and cast it back into n rows.'''\n",
    "#     ρ_bc         = np.empty((ρ.shape[0],ngrd+2))\n",
    "#     ρ_bc[:,0]    = 0.0\n",
    "#     ρ_bc[:,-1]   = 1.0\n",
    "#     ρ_bc[:,1:-1] = ρ\n",
    "\n",
    "#     r_bc       = np.empty(ngrd+2)\n",
    "#     r_bc[0]    = r[0] -Δx # be careful taking global variables!\n",
    "#     r_bc[-1]   = r[-1]+Δx\n",
    "#     r_bc[1:-1] = r\n",
    "    \n",
    "#     evaluate fluxes at each cell and initialize cell interfaces\n",
    "    q = ρ_bc.reshape(2,-1)*get_c(ρ_bc.reshape(2,-1),U0_rel,mode=mode,**kwargs) # I may need r_bc to be dimensional or not.\n",
    "    qf = np.zeros(ngrdf)\n",
    "    \n",
    "    print(ρ_bc,q,qf)\n",
    "    \n",
    "    # apply Godunov flux at each cell interface\n",
    "    for j in range(ngrdf):\n",
    "        if ρ_bc[j] >= ρ_bc[j+1]:\n",
    "            qf[j] = max(q[j],q[j+1])\n",
    "        elif ρ_bc[j] <= 0 and 0 <= ρ_bc[j+1]:\n",
    "            qf[j] = 0\n",
    "        else:\n",
    "            qf[j] = min(q[j],q[j+1])\n",
    "    \n",
    "    # apply upwinding scheme with the godunov interface fluxes\n",
    "    dρdt = 1/Δx*(qf[:-1]-qf[1:])\n",
    "    return dρdt\n",
    "\n",
    "def bc(inside,left_edge,right_edge):\n",
    "    '''Takes ndarray, adds BCs'''\n",
    "    return np.hstack((left_edge,inside,right_edge))"
   ]
  },
  {
   "cell_type": "markdown",
   "metadata": {},
   "source": [
    "It will be better to just feed rows in 1 at a time to the Godunov function to decide the fluxes"
   ]
  },
  {
   "cell_type": "code",
   "execution_count": 6,
   "metadata": {},
   "outputs": [],
   "source": [
    "def godunov_sorter(ρ_bc,q_bc):\n",
    "    '''Decides interface fluxes based on a 1D 0th order godunov approximation\n",
    "    Inputs: ρ_bc: 1xj array of cell concentrations (with BC values on the ends)\n",
    "            q_bc'''\n",
    "    qf = np.empty(len(ρ_bc)-1)\n",
    "    \n",
    "    for j in range(len(ρ_bc)-1):\n",
    "        if ρ_bc[j] >= ρ_bc[j+1]:\n",
    "            qf[j] = max(q_bc[j],q_bc[j+1])\n",
    "        elif ρ_bc[j] <= 0 and 0 <= ρ_bc[j+1]:\n",
    "            qf[j] = 0\n",
    "        else:\n",
    "            qf[j] = min(q_bc[j],q_bc[j+1])\n",
    "    return qf\n"
   ]
  },
  {
   "cell_type": "code",
   "execution_count": 5,
   "metadata": {},
   "outputs": [
    {
     "name": "stdout",
     "output_type": "stream",
     "text": [
      "[0.         0.         0.01836735 0.03673469 0.05510204 0.07346939\n",
      " 0.09183673 0.11020408 0.12857143 0.14693878 0.16530612 0.18367347\n",
      " 0.20204082 0.22040816 0.23877551 0.25714286 0.2755102  0.29387755\n",
      " 0.3122449  0.33061224 0.34897959 0.36734694 0.38571429 0.40408163\n",
      " 0.42244898 0.44081633 0.45918367 0.47755102 0.49591837 0.51428571\n",
      " 0.53265306 0.55102041 0.56938776 0.5877551  0.60612245 0.6244898\n",
      " 0.64285714 0.66122449 0.67959184 0.69795918 0.71632653 0.73469388\n",
      " 0.75306122 0.77142857 0.78979592 0.80816327 0.82653061 0.84489796\n",
      " 0.86326531 0.88163265 0.9        1.         0.         0.\n",
      " 0.00204082 0.00408163 0.00612245 0.00816327 0.01020408 0.0122449\n",
      " 0.01428571 0.01632653 0.01836735 0.02040816 0.02244898 0.0244898\n",
      " 0.02653061 0.02857143 0.03061224 0.03265306 0.03469388 0.03673469\n",
      " 0.03877551 0.04081633 0.04285714 0.04489796 0.04693878 0.04897959\n",
      " 0.05102041 0.05306122 0.05510204 0.05714286 0.05918367 0.06122449\n",
      " 0.06326531 0.06530612 0.06734694 0.06938776 0.07142857 0.07346939\n",
      " 0.0755102  0.07755102 0.07959184 0.08163265 0.08367347 0.08571429\n",
      " 0.0877551  0.08979592 0.09183673 0.09387755 0.09591837 0.09795918\n",
      " 0.1        1.        ] [[0.00000000e+00 0.00000000e+00 1.76988245e-02 3.40853896e-02\n",
      "  4.91968738e-02 6.30704553e-02 7.57433127e-02 8.72526243e-02\n",
      "  9.76355685e-02 1.06929324e-01 1.15171068e-01 1.22397980e-01\n",
      "  1.28647239e-01 1.33956022e-01 1.38361508e-01 1.41900875e-01\n",
      "  1.44611301e-01 1.46529966e-01 1.47694048e-01 1.48140724e-01\n",
      "  1.47907173e-01 1.47030574e-01 1.45548105e-01 1.43496944e-01\n",
      "  1.40914270e-01 1.37837262e-01 1.34303096e-01 1.30348953e-01\n",
      "  1.26012010e-01 1.21329446e-01 1.16338439e-01 1.11076167e-01\n",
      "  1.05579809e-01 9.98865439e-02 9.40335489e-02 8.80580030e-02\n",
      "  8.19970845e-02 7.58879718e-02 6.97678433e-02 6.36738774e-02\n",
      "  5.76432524e-02 5.17131467e-02 4.59207388e-02 4.03032070e-02\n",
      "  3.48977297e-02 2.97414853e-02 2.48716521e-02 2.03254086e-02\n",
      "  1.61399332e-02 1.23524042e-02 9.00000000e-03 0.00000000e+00]\n",
      " [0.00000000e+00 0.00000000e+00 1.28108773e-04 2.55170694e-04\n",
      "  3.81188976e-04 5.06166834e-04 6.30107482e-04 7.53014135e-04\n",
      "  8.74890008e-04 9.95738315e-04 1.11556227e-03 1.23436509e-03\n",
      "  1.35214998e-03 1.46892017e-03 1.58467886e-03 1.69942928e-03\n",
      "  1.81317463e-03 1.92591813e-03 2.03766299e-03 2.14841243e-03\n",
      "  2.25816967e-03 2.36693792e-03 2.47472038e-03 2.58152028e-03\n",
      "  2.68734084e-03 2.79218526e-03 2.89605676e-03 2.99895856e-03\n",
      "  3.10089386e-03 3.20186589e-03 3.30187786e-03 3.40093298e-03\n",
      "  3.49903446e-03 3.59618553e-03 3.69238940e-03 3.78764927e-03\n",
      "  3.88196837e-03 3.97534991e-03 4.06779711e-03 4.15931317e-03\n",
      "  4.24990132e-03 4.33956476e-03 4.42830672e-03 4.51613040e-03\n",
      "  4.60303902e-03 4.68903580e-03 4.77412395e-03 4.85830669e-03\n",
      "  4.94158722e-03 5.02396877e-03 5.10545455e-03 0.00000000e+00]] [0. 0. 0. 0. 0. 0. 0. 0. 0. 0. 0. 0. 0. 0. 0. 0. 0. 0. 0. 0. 0. 0. 0. 0.\n",
      " 0. 0. 0. 0. 0. 0. 0. 0. 0. 0. 0. 0. 0. 0. 0. 0. 0. 0. 0. 0. 0. 0. 0. 0.\n",
      " 0. 0. 0.]\n"
     ]
    },
    {
     "ename": "ValueError",
     "evalue": "The truth value of an array with more than one element is ambiguous. Use a.any() or a.all()",
     "output_type": "error",
     "traceback": [
      "\u001b[1;31m---------------------------------------------------------------------------\u001b[0m",
      "\u001b[1;31mValueError\u001b[0m                                Traceback (most recent call last)",
      "\u001b[1;32m<ipython-input-5-72b1ee3996e9>\u001b[0m in \u001b[0;36m<module>\u001b[1;34m()\u001b[0m\n\u001b[0;32m     36\u001b[0m \u001b[1;31m# add BCs to ρcells and flatten\u001b[0m\u001b[1;33m\u001b[0m\u001b[1;33m\u001b[0m\u001b[0m\n\u001b[0;32m     37\u001b[0m \u001b[0mρcellsbc\u001b[0m \u001b[1;33m=\u001b[0m \u001b[0mbc\u001b[0m\u001b[1;33m(\u001b[0m\u001b[0mρcells\u001b[0m\u001b[1;33m,\u001b[0m\u001b[0mnp\u001b[0m\u001b[1;33m.\u001b[0m\u001b[0mzeros\u001b[0m\u001b[1;33m(\u001b[0m\u001b[1;33m(\u001b[0m\u001b[1;36m2\u001b[0m\u001b[1;33m,\u001b[0m\u001b[1;36m1\u001b[0m\u001b[1;33m)\u001b[0m\u001b[1;33m)\u001b[0m\u001b[1;33m,\u001b[0m\u001b[0mnp\u001b[0m\u001b[1;33m.\u001b[0m\u001b[0mones\u001b[0m\u001b[1;33m(\u001b[0m\u001b[1;33m(\u001b[0m\u001b[1;36m2\u001b[0m\u001b[1;33m,\u001b[0m\u001b[1;36m1\u001b[0m\u001b[1;33m)\u001b[0m\u001b[1;33m)\u001b[0m\u001b[1;33m)\u001b[0m\u001b[1;33m\u001b[0m\u001b[0m\n\u001b[1;32m---> 38\u001b[1;33m \u001b[0mρall\u001b[0m\u001b[1;33m,\u001b[0m\u001b[0mdiag\u001b[0m \u001b[1;33m=\u001b[0m \u001b[0modeint\u001b[0m\u001b[1;33m(\u001b[0m\u001b[0mgodunov_flatten\u001b[0m\u001b[1;33m,\u001b[0m \u001b[0mρcellsbc\u001b[0m\u001b[1;33m.\u001b[0m\u001b[0mflatten\u001b[0m\u001b[1;33m(\u001b[0m\u001b[1;33m)\u001b[0m\u001b[1;33m,\u001b[0m \u001b[0mtimes\u001b[0m\u001b[1;33m,\u001b[0m\u001b[0margs\u001b[0m\u001b[1;33m=\u001b[0m\u001b[1;33m(\u001b[0m\u001b[0mx\u001b[0m\u001b[1;33m,\u001b[0m\u001b[1;34m'RZ-1comp'\u001b[0m\u001b[1;33m)\u001b[0m\u001b[1;33m)\u001b[0m\u001b[1;33m\u001b[0m\u001b[0m\n\u001b[0m",
      "\u001b[1;32m~\\Anaconda3\\lib\\site-packages\\scipy\\integrate\\odepack.py\u001b[0m in \u001b[0;36modeint\u001b[1;34m(func, y0, t, args, Dfun, col_deriv, full_output, ml, mu, rtol, atol, tcrit, h0, hmax, hmin, ixpr, mxstep, mxhnil, mxordn, mxords, printmessg, tfirst)\u001b[0m\n\u001b[0;32m    231\u001b[0m                              \u001b[0mfull_output\u001b[0m\u001b[1;33m,\u001b[0m \u001b[0mrtol\u001b[0m\u001b[1;33m,\u001b[0m \u001b[0matol\u001b[0m\u001b[1;33m,\u001b[0m \u001b[0mtcrit\u001b[0m\u001b[1;33m,\u001b[0m \u001b[0mh0\u001b[0m\u001b[1;33m,\u001b[0m \u001b[0mhmax\u001b[0m\u001b[1;33m,\u001b[0m \u001b[0mhmin\u001b[0m\u001b[1;33m,\u001b[0m\u001b[1;33m\u001b[0m\u001b[0m\n\u001b[0;32m    232\u001b[0m                              \u001b[0mixpr\u001b[0m\u001b[1;33m,\u001b[0m \u001b[0mmxstep\u001b[0m\u001b[1;33m,\u001b[0m \u001b[0mmxhnil\u001b[0m\u001b[1;33m,\u001b[0m \u001b[0mmxordn\u001b[0m\u001b[1;33m,\u001b[0m \u001b[0mmxords\u001b[0m\u001b[1;33m,\u001b[0m\u001b[1;33m\u001b[0m\u001b[0m\n\u001b[1;32m--> 233\u001b[1;33m                              int(bool(tfirst)))\n\u001b[0m\u001b[0;32m    234\u001b[0m     \u001b[1;32mif\u001b[0m \u001b[0moutput\u001b[0m\u001b[1;33m[\u001b[0m\u001b[1;33m-\u001b[0m\u001b[1;36m1\u001b[0m\u001b[1;33m]\u001b[0m \u001b[1;33m<\u001b[0m \u001b[1;36m0\u001b[0m\u001b[1;33m:\u001b[0m\u001b[1;33m\u001b[0m\u001b[0m\n\u001b[0;32m    235\u001b[0m         \u001b[0mwarning_msg\u001b[0m \u001b[1;33m=\u001b[0m \u001b[0m_msgs\u001b[0m\u001b[1;33m[\u001b[0m\u001b[0moutput\u001b[0m\u001b[1;33m[\u001b[0m\u001b[1;33m-\u001b[0m\u001b[1;36m1\u001b[0m\u001b[1;33m]\u001b[0m\u001b[1;33m]\u001b[0m \u001b[1;33m+\u001b[0m \u001b[1;34m\" Run with full_output = 1 to get quantitative information.\"\u001b[0m\u001b[1;33m\u001b[0m\u001b[0m\n",
      "\u001b[1;32m<ipython-input-4-1e86ba311489>\u001b[0m in \u001b[0;36mgodunov_flatten\u001b[1;34m(ρ_bc, t, r, mode, **kwargs)\u001b[0m\n\u001b[0;32m     22\u001b[0m     \u001b[1;32mfor\u001b[0m \u001b[0mj\u001b[0m \u001b[1;32min\u001b[0m \u001b[0mrange\u001b[0m\u001b[1;33m(\u001b[0m\u001b[0mngrdf\u001b[0m\u001b[1;33m)\u001b[0m\u001b[1;33m:\u001b[0m\u001b[1;33m\u001b[0m\u001b[0m\n\u001b[0;32m     23\u001b[0m         \u001b[1;32mif\u001b[0m \u001b[0mρ_bc\u001b[0m\u001b[1;33m[\u001b[0m\u001b[0mj\u001b[0m\u001b[1;33m]\u001b[0m \u001b[1;33m>=\u001b[0m \u001b[0mρ_bc\u001b[0m\u001b[1;33m[\u001b[0m\u001b[0mj\u001b[0m\u001b[1;33m+\u001b[0m\u001b[1;36m1\u001b[0m\u001b[1;33m]\u001b[0m\u001b[1;33m:\u001b[0m\u001b[1;33m\u001b[0m\u001b[0m\n\u001b[1;32m---> 24\u001b[1;33m             \u001b[0mqf\u001b[0m\u001b[1;33m[\u001b[0m\u001b[0mj\u001b[0m\u001b[1;33m]\u001b[0m \u001b[1;33m=\u001b[0m \u001b[0mmax\u001b[0m\u001b[1;33m(\u001b[0m\u001b[0mq\u001b[0m\u001b[1;33m[\u001b[0m\u001b[0mj\u001b[0m\u001b[1;33m]\u001b[0m\u001b[1;33m,\u001b[0m\u001b[0mq\u001b[0m\u001b[1;33m[\u001b[0m\u001b[0mj\u001b[0m\u001b[1;33m+\u001b[0m\u001b[1;36m1\u001b[0m\u001b[1;33m]\u001b[0m\u001b[1;33m)\u001b[0m\u001b[1;33m\u001b[0m\u001b[0m\n\u001b[0m\u001b[0;32m     25\u001b[0m         \u001b[1;32melif\u001b[0m \u001b[0mρ_bc\u001b[0m\u001b[1;33m[\u001b[0m\u001b[0mj\u001b[0m\u001b[1;33m]\u001b[0m \u001b[1;33m<=\u001b[0m \u001b[1;36m0\u001b[0m \u001b[1;32mand\u001b[0m \u001b[1;36m0\u001b[0m \u001b[1;33m<=\u001b[0m \u001b[0mρ_bc\u001b[0m\u001b[1;33m[\u001b[0m\u001b[0mj\u001b[0m\u001b[1;33m+\u001b[0m\u001b[1;36m1\u001b[0m\u001b[1;33m]\u001b[0m\u001b[1;33m:\u001b[0m\u001b[1;33m\u001b[0m\u001b[0m\n\u001b[0;32m     26\u001b[0m             \u001b[0mqf\u001b[0m\u001b[1;33m[\u001b[0m\u001b[0mj\u001b[0m\u001b[1;33m]\u001b[0m \u001b[1;33m=\u001b[0m \u001b[1;36m0\u001b[0m\u001b[1;33m\u001b[0m\u001b[0m\n",
      "\u001b[1;31mValueError\u001b[0m: The truth value of an array with more than one element is ambiguous. Use a.any() or a.all()"
     ]
    }
   ],
   "source": [
    "# Experimental parameters\n",
    "ρ_rbc_0 = 0.4\n",
    "RPM = 3000\n",
    "rcells = (6.25e-6,2.5e-6)\n",
    "ρcells = (1090,1050)\n",
    "\n",
    "tend   = 1      # s\n",
    "ntimes = 50   \n",
    "ngrd   = 50\n",
    "r1     = 0.057  # m\n",
    "r2     = 0.06   # m\n",
    "rs     = np.linspace(r1,r2,4)\n",
    "L      = r2-r1  # m\n",
    "\n",
    "#### Non-dimensionalize variables\n",
    "U0 = stokes(RPM,r2,rcells,ρcells) # stokes velocity of each cell type at the max radius (assumes stokes is not f(r))\n",
    "U0_rel = (U0/U0[0])[:,np.newaxis] # normalize species stokes by RBC at the max radius. Shape=(2,1) for get_c function\n",
    "\n",
    "T  = L/U0[0]     # seconds it takes to traverse length going at max speed.\n",
    "cycles = tend/T  # \n",
    "\n",
    "# Time and space grids                  Dimensions\n",
    "times  = np.linspace(0,cycles,ntimes) # \n",
    "Δt     = tend/ntimes                  # s\n",
    "ngrdf  = ngrd+1                       #\n",
    "xf     = np.linspace(r1/r2,1,ngrdf)   # \n",
    "Δx     = xf[1]-xf[0]                  # \n",
    "x      = (xf[1:] + xf[:-1])/2         #\n",
    "\n",
    "ρ0  = np.ones(ngrd)*ρ_rbc_0\n",
    "\n",
    "RBC = np.linspace(0,0.9,ngrd)\n",
    "bac = np.linspace(0,0.1,ngrd)\n",
    "ρcells = np.vstack((RBC,bac))\n",
    "\n",
    "# add BCs to ρcells and flatten\n",
    "ρcellsbc = bc(ρcells,np.zeros((2,1)),np.ones((2,1)))\n",
    "ρall,diag = odeint(godunov_flatten, ρcellsbc.flatten(), times,args=(x,'RZ-1comp'))"
   ]
  },
  {
   "cell_type": "code",
   "execution_count": 107,
   "metadata": {},
   "outputs": [
    {
     "data": {
      "text/plain": [
       "array([0, 0, 1, 2, 0, 0, 3, 4, 5, 0])"
      ]
     },
     "execution_count": 107,
     "metadata": {},
     "output_type": "execute_result"
    }
   ],
   "source": [
    "# import timeit\n",
    "# timeit.timeit('np.linalg.eig(np.array([[1,2],[3,4]]))',setup='import numpy as np')\n",
    "# 100 ms to find eigenvals and vectors of 2x2 array. That's intensive.\n",
    "\n",
    "test1d = np.arange(6).reshape(2,-1)\n",
    "bcleft = np.array([[0],[0]])\n",
    "np.hstack((bcleft,test1d,bcleft)).flatten()"
   ]
  },
  {
   "cell_type": "code",
   "execution_count": null,
   "metadata": {},
   "outputs": [],
   "source": [
    "# %matplotlib inline\n",
    "fig = plt.figure()\n",
    "fig.figsize=(10,10)\n",
    "\n",
    "color = plt.get_cmap('Reds')\n",
    "colors = iter(color(np.linspace(0,1,ntimes)))\n",
    "for j in range(ntimes):\n",
    "    plt.plot(x,ρall[j,:],color=next(colors))\n",
    "\n",
    "plt.xlabel('position')\n",
    "plt.ylabel(r'$\\alpha$')\n",
    "plt.xlim([r1/r2,1]);\n",
    "plt.show()"
   ]
  },
  {
   "cell_type": "markdown",
   "metadata": {},
   "source": [
    "### Animations"
   ]
  },
  {
   "cell_type": "code",
   "execution_count": null,
   "metadata": {},
   "outputs": [],
   "source": [
    "from matplotlib import animation, rc\n",
    "from IPython.display import HTML, Image\n",
    "rc('animation',html='html5')\n",
    "%matplotlib inline\n",
    "\n",
    "fig, ax = plt.subplots()\n",
    "ax.set_xlim([r1/r2,1])\n",
    "ax.set_ylim([0,1])\n",
    "line, = ax.plot([],[])\n",
    "\n",
    "def init():\n",
    "    line.set_data([],[])\n",
    "    ax.set_xlabel('Normalized Distance')\n",
    "    ax.set_ylabel('Hematocrit')\n",
    "    return (line,)\n",
    "def animate(i):\n",
    "    line.set_data(x,ρall[i,:])\n",
    "    line.set_color('red')\n",
    "    return (line,)\n",
    "anim = animation.FuncAnimation(fig,animate,init_func=init,\n",
    "                               frames=ntimes,interval=Δt*1000,blit=True)\n",
    "\n",
    "anim\n",
    "# anim.save('wave_simulation.mp4')"
   ]
  },
  {
   "cell_type": "markdown",
   "metadata": {
    "collapsed": true
   },
   "source": [
    "### Completed steps:\n",
    "1. non-dimensionalize code for time, flux, and velocity. I will follow Lerche 2001's non-dimensionalization\n",
    "$$x^{*} = \\frac{x}{L}$$\n",
    "$$T = \\frac{L}{U_{0}}$$\n",
    "$$t^{*} = \\frac{tU_{0}}{L} = \\frac{t}{T}$$\n",
    "$$u^{*} = \\frac{u}{u_{0}}$$  "
   ]
  },
  {
   "cell_type": "markdown",
   "metadata": {},
   "source": [
    "### Test godunov for multicomp integration"
   ]
  },
  {
   "cell_type": "code",
   "execution_count": 22,
   "metadata": {},
   "outputs": [],
   "source": [
    "def godunov(ρ,t,r,cell_params):\n",
    "    ρ_bc       = np.empty(ngrd+2)\n",
    "    ρ_bc[0]    = 0.0\n",
    "    ρ_bc[-1]   = 1.0\n",
    "    ρ_bc[1:-1] = ρ\n",
    "\n",
    "    r_bc       = np.empty(ngrd+2)\n",
    "    r_bc[0]    = r[0] -Δx # be careful taking global variables!\n",
    "    r_bc[-1]   = r[-1]+Δx\n",
    "    r_bc[1:-1] = r\n",
    "    \n",
    "#     evaluate fluxes at each cell and initialize cell interfaces\n",
    "    q = ρ_bc*get_c(ρ_bc,r_bc) # I may need r_bc to be dimensional or not.\n",
    "#     q = get_q(ρ_bc) It won't be that simple to go from scalar integration to system integration.\n",
    "    qf = np.zeros(ngrdf)\n",
    "    \n",
    "    # apply Godunov flux at each cell interface\n",
    "    for i in range(ngrdf):\n",
    "        if ρ_bc[i] >= ρ_bc[i+1]:\n",
    "            qf[i] = max(q[i],q[i+1])\n",
    "        elif ρ_bc[i] <= 0 and 0 <= ρ_bc[i+1]:\n",
    "            qf[i] = 0\n",
    "        else:\n",
    "            qf[i] = min(q[i],q[i+1])\n",
    "    \n",
    "    # apply upwinding scheme with the godunov interface fluxes\n",
    "    dρdt = 1/Δx*(qf[:-1]-qf[1:])\n",
    "    return dρdt"
   ]
  }
 ],
 "metadata": {
  "kernelspec": {
   "display_name": "Python 3",
   "language": "python",
   "name": "python3"
  },
  "language_info": {
   "codemirror_mode": {
    "name": "ipython",
    "version": 3
   },
   "file_extension": ".py",
   "mimetype": "text/x-python",
   "name": "python",
   "nbconvert_exporter": "python",
   "pygments_lexer": "ipython3",
   "version": "3.7.0"
  },
  "varInspector": {
   "cols": {
    "lenName": 16,
    "lenType": 16,
    "lenVar": 40
   },
   "kernels_config": {
    "python": {
     "delete_cmd_postfix": "",
     "delete_cmd_prefix": "del ",
     "library": "var_list.py",
     "varRefreshCmd": "print(var_dic_list())"
    },
    "r": {
     "delete_cmd_postfix": ") ",
     "delete_cmd_prefix": "rm(",
     "library": "var_list.r",
     "varRefreshCmd": "cat(var_dic_list()) "
    }
   },
   "types_to_exclude": [
    "module",
    "function",
    "builtin_function_or_method",
    "instance",
    "_Feature"
   ],
   "window_display": false
  }
 },
 "nbformat": 4,
 "nbformat_minor": 2
}
