{
 "cells": [
  {
   "cell_type": "code",
   "execution_count": 1,
   "metadata": {
    "collapsed": false
   },
   "outputs": [],
   "source": [
    "import numpy as np\n",
    "from matplotlib import pyplot\n",
    "from matplotlib import rcParams\n",
    "rcParams['font.family'] = 'serif'\n",
    "rcParams['font.size'] = 16\n",
    "%matplotlib inline"
   ]
  },
  {
   "cell_type": "code",
   "execution_count": 2,
   "metadata": {
    "collapsed": true
   },
   "outputs": [],
   "source": [
    "def rho_green_light(x,rho_light):\n",
    "    rho = np.zeros_like(x)\n",
    "    mask = np.where(x<2)\n",
    "    rho[mask] = x[mask]*2.5\n",
    "    return rho\n",
    "def rho_red_light(nx,rho_max,rho_in):\n",
    "    rho = rho_max*np.ones(nx)\n",
    "    rho[:int((nx-1)*3/4.)] = rho_in\n",
    "    return rho"
   ]
  },
  {
   "cell_type": "code",
   "execution_count": 3,
   "metadata": {
    "collapsed": false
   },
   "outputs": [],
   "source": [
    "nx = 81\n",
    "nt = 40\n",
    "dx = 4.0/(nx-1)\n",
    "x = np.linspace(0,4,nx)\n",
    "rho_in = 5.\n",
    "rho_max = 10.\n",
    "u_max = 1.\n",
    "rho_light = 5.\n",
    "rho = rho_green_light(x,rho_light)\n",
    "rho_red = rho_red_light(nx,rho_max,rho_in)"
   ]
  },
  {
   "cell_type": "code",
   "execution_count": 5,
   "metadata": {
    "collapsed": false
   },
   "outputs": [
    {
     "data": {
      "text/plain": [
       "[<matplotlib.lines.Line2D at 0x2bb8b684358>]"
      ]
     },
     "execution_count": 5,
     "metadata": {},
     "output_type": "execute_result"
    },
    {
     "data": {
      "image/png": "[encoded data removed]",
      "text/plain": [
       "<matplotlib.figure.Figure at 0x2bb8b5eec88>"
      ]
     },
     "metadata": {},
     "output_type": "display_data"
    }
   ],
   "source": [
    "pyplot.plot(x,rho_red)"
   ]
  },
  {
   "cell_type": "code",
   "execution_count": 40,
   "metadata": {
    "collapsed": false
   },
   "outputs": [],
   "source": [
    "def computeF(u_max,rho_max,rho):\n",
    "    return u_max*rho*(1-rho/rho_max)"
   ]
  },
  {
   "cell_type": "code",
   "execution_count": 41,
   "metadata": {
    "collapsed": true
   },
   "outputs": [],
   "source": [
    "def ftbs(rho,nt,dt,dx,rho_max,u_max):\n",
    "    rho_n = np.zeros((nt,len(rho)))\n",
    "    rho_n[0,:] = rho.copy()\n",
    "    \n",
    "    for t in range(1,nt):\n",
    "        F = computeF(u_max,rho_max,rho)\n",
    "        rho_n[t,1:] = rho[1:] - dt/dx*(F[1:]-F[:-1])\n",
    "        rho_n[t,0] = rho[0]\n",
    "        rho = rho_n[t].copy()\n",
    "    return rho_n        "
   ]
  },
  {
   "cell_type": "code",
   "execution_count": 42,
   "metadata": {
    "collapsed": false
   },
   "outputs": [],
   "source": [
    "sigma = 1.\n",
    "dt=sigma*dx\n",
    "rho_n = ftbs(rho,nt,dt,dx,rho_max,u_max)"
   ]
  },
  {
   "cell_type": "code",
   "execution_count": 43,
   "metadata": {
    "collapsed": false
   },
   "outputs": [
    {
     "data": {
      "text/html": [
       "<video width=\"432\" height=\"288\" controls autoplay loop>\n",
       "  <source type=\"video/mp4\" src=\"data:video/mp4;base64,AAAAHGZ0eXBNNFYgAAACAGlzb21pc28yYXZjMQAAAAhmcmVlAAA1521kYXQAAAKuBgX//6rcRem9\n",
       "5tlIt5Ys2CDZI+7veDI2NCAtIGNvcmUgMTU1IHIyOTAxIDdkMGZmMjIgLSBILjI2NC9NUEVHLTQg\n",
       "QVZDIGNvZGVjIC0gQ29weWxlZnQgMjAwMy0yMDE4IC0gaHR0cDovL3d3dy52aWRlb2xhbi5vcmcv\n",
       "eDI2NC5odG1sIC0gb3B0aW9uczogY2FiYWM9MSByZWY9MyBkZWJsb2NrPTE6MDowIGFuYWx5c2U9\n",
       "MHgzOjB4MTEzIG1lPWhleCBzdWJtZT03IHBzeT0xIHBzeV9yZD0xLjAwOjAuMDAgbWl4ZWRfcmVm\n",
       "PTEgbWVfcmFuZ2U9MTYgY2hyb21hX21lPTEgdHJlbGxpcz0xIDh4OGRjdD0xIGNxbT0wIGRlYWR6\n",
       "b25lPTIxLDExIGZhc3RfcHNraXA9MSBjaHJvbWFfcXBfb2Zmc2V0PS0yIHRocmVhZHM9NiBsb29r\n",
       "YWhlYWRfdGhyZWFkcz0xIHNsaWNlZF90aHJlYWRzPTAgbnI9MCBkZWNpbWF0ZT0xIGludGVybGFj\n",
       "ZWQ9MCBibHVyYXlfY29tcGF0PTAgY29uc3RyYWluZWRfaW50cmE9MCBiZnJhbWVzPTMgYl9weXJh\n",
       "bWlkPTIgYl9hZGFwdD0xIGJfYmlhcz0wIGRpcmVjdD0xIHdlaWdodGI9MSBvcGVuX2dvcD0wIHdl\n",
       "aWdodHA9MiBrZXlpbnQ9MjUwIGtleWludF9taW49MjAgc2NlbmVjdXQ9NDAgaW50cmFfcmVmcmVz\n",
       "aD0wIHJjX2xvb2thaGVhZD00MCByYz1jcmYgbWJ0cmVlPTEgY3JmPTIzLjAgcWNvbXA9MC42MCBx\n",
       "cG1pbj0wIHFwbWF4PTY5IHFwc3RlcD00IGlwX3JhdGlvPTEuNDAgYXE9MToxLjAwAIAAAAxJZYiE\n",
       "ADv//vdOvwKbRZdqA5JXCvbKpCZZuVJrAfKmAAADAAARsG58lw15q9IkAACvW99I/TP+YBnVCoMl\n",
       "ztxOUV186mCaw0RH5TG+Fsigrx8iVgCf7B7vMN+8PQjpfiZTXgd2LkFjBNSAwulBAbW7vLekXNKn\n",
       "Vc25QSTzlvwEDUmeXPiURdAxClN3GWH+7bPFMW4vB3NtYAd/e3YjS0DYUgJXnfDSYbAPhFUYOis2\n",
       "n8ysArfWllP1B6X3vLzu7Zyp3L+JPv+WRK8IbpZ2t5wbbCMasDwESh+MOFID+sBhxYQAADt3Xn0A\n",
       "AH/6QIlnOSfhGYLSeirqBXtZW1hbDzpnX4BNVCiue21aHDvyHQQei/1eF3tl7nASFqbfsgspwANn\n",
       "n24mtZ4/qqBWp/NSIKBfUa+uMu9B6hrHM8V832a0amAnkzg8MmY1g5K3uaL8xtKnXVZ4z+lJ3yvO\n",
       "zzlZyqUW6BjYiVpUZPLGHRNgKti8gk/IEUrirvfhjq4gWQMaKolHTi9PYbseBAYlsZhgHTM+TyjD\n",
       "bIKgaWZKb4QKHj2D+8PYFOaGGF+l77pttrU3L01V3njI9nFH6AG0+pG9h3MFPCnTB9KcZyG8dEAk\n",
       "a6BKLQKk4ytR6u7Aq30MJH35zBRVsYSjwCp6Yc1nwtY9D6ZNTIgvlrzHQAICRQUbJk/ILhfqlCcY\n",
       "wyREd0ZweOZuTqao3UI9gdTkfSUxNy7flWDQnhsN7FrQ899N+CfxzstguqsjuMtE0sQBPQNRd6Pl\n",
       "LesF9Q1oUpQ0sbiCifTcybCxe1s2niSw80r8S7sWj18ixAgTGvFpR1TnoFaPVmf53eM51MxGxaSN\n",
       "447dBuRcCwl7neg4P2C/fNYCQKPoJOeb2MSTiNGXlAssL5Dz+uYgZqc6pAp5GALimbmeuAMLG3kw\n",
       "GixS0Sr2DCr3kU1Ll2eNxRCvgjkD7nbsNsOUE8tsNVuqucJNudkaUiBcAaOIIiGXC92+j728MjdG\n",
       "xM7HV5awxFPW1p6HzL8QIN5kLQVmOsyaKQgEgVZdz0QMEsma8HEcZQ20ceM6nA8Sigc9Bq9EIBw5\n",
       "3bSe+a7Myt7vtbJNP+iq2DZy+1h/Su8XXCZP1DpY5DLZ90K2Tv0A7ug0YwvNUHUpvFmLt7EEueAV\n",
       "d2XtbNYia/WBP1W/5w8bciozqepsAFbE0J/1TM9BQ8/NCD+2ZdgULo3xiHztzRfPXp4XmIAEXRb7\n",
       "KqddO2OqkiSQqf6itMCTJsHpDuaVU4XxMNQPwOi+qYPD9Xmy1Cgt/T1IOdU8WFkjVil2DolaD+mb\n",
       "jth4XAfoorPd0tqejnfVefl8hY5Fn8zC8HJn06vNdEfiDn81v/vvmEXwdENGXIl91w51XZh5ouhb\n",
       "dgOlDQAglj0Ij0UaMTcSFmgNQZWmSssrrrUP1WUTHGEoKNGywMeEg/1qtWccPzjkcq9Op5OehGK8\n",
       "XxmQIEkr4YpnNLWuagBEGogH5N4sfHmfQnqq28JJKg8nD2ltncWVhROo8DhwIWJA1Gkd0tWPVjWf\n",
       "P/gov79StM1ffuUx1EtzywrLvv0TxNRKdE6s0cyANhUWNct9P6F1Na1rf4wTKpV+2+LaOPW1tWSu\n",
       "nlYf7MTlaMHOyXV1olaaBezek0ySc5/LH2tnPFBo/HJWYW8z0gkR79//m/uAahDbWL+/rT0flQqQ\n",
       "1k5YvTLlxpZMQn33YZzQ2qZ/Uj1fpUhK+U1P8ZUM0391+R2yV7vTBjf7WM0Aijl9LThUanFA3LYp\n",
       "R2nkUNARVhjK5xI7tR+hcgyoEPAtVis42FpDrb+N3+okJ3iwBo7onDtTPHy2V22AkauYtlm/8enC\n",
       "rGlgpkDeCddfYe1sImx7qcNuHL0i2KabwDEGbQkCgffCuPtrswzcTZn2RwMgplv56OLDhgmWr6RN\n",
       "FBexiUAP7P/kPo6XqesObRB5v/vEV1pf58DSorq8AY/D9dnqxsTdX+1RdKQmL4DjJiMu0Ac/o3Kj\n",
       "rxdjRtS2iusH1mR3zdQD99bqQ0az3GH4t/EbW5iFwWbrAe4m9c7Zen7L5lKaweTIAVqXW6+MbFSa\n",
       "n9W6MT7rZGpXBailEofvr9MLTLFd8oawkvvMy8445U1ln2I2id+pWPHA2/Y3nUSW4LDAMI+uJgAZ\n",
       "c6PoQcGhPT00pDXW5L+ynoc0+jqyM84GcxYmEEiK0BMT6KqPeYWP6QIXmv+JaQVrbAaNHI6m8iOz\n",
       "YPzFNvX0vG2ndgAcDppc9Bh/o/3GjSrmSxnUABUoUmpndQjq3ljR6xTrpaluhZ2qfs+sGeWV+HDC\n",
       "5qMm/1AaZyD+QyGO0YwPW0pQVu4T66cT4HAJgcMobGwmJQgDRA34u4cv4uGdY5UtYyJ5Rjl7/G3O\n",
       "iVydjWTcVsv7TOWJLNxUw11NmyRtaskVhF0Iqd1f7cOfT4rQzkgpYW0e5p83WAbL1QBpIZd6VTbq\n",
       "FvPCRZYoYlGXRJvThNde3HHkpbRyTUezN++cFnMltvmFYx/0GIH9ByCw+FsP/buW+F8zbgL+oC0C\n",
       "jv8rTUr+7vRE+XRQDdC0LPuMZxxGzHFgazWh2JcEV1aPgjwiedZ0kADoXX9FH5BS6cirJUawu27q\n",
       "cztWiJfz2e+dIkgBoSik57g3Nz3gcrFl8/Ocok2D0P9yu2WaTztjHN5Bbia9LtmV0hEwrTieHRF+\n",
       "7HDJTThWeyDD47f6gIM7DqEmm6JjNYmbxDeisNPhN2GvZk3S+I7EVOwPrrZ6kJ13BfwzyoJNjkYA\n",
       "cg9sV1ECzQ9qFbKnBcTtBiOcgP/o1UPxJtta1w97oY33t/rYnWjlcDFnUCKVsURHsISPx0jGxK2u\n",
       "XZPyCprJqfFa64o9XuO3g3KTVwnSX1urD6X3aRqZ/WdcYfcHHB1GoNkel8TV+FZijmMAz5s59VxX\n",
       "V77URVQs7VP2fQ+sVw4kI0T7GkMV4gTUlRCFRzb7H3aSxmwpm1bZKXljSjTBMwbsV8P+NXkTyTVU\n",
       "0Aa4jyGnabC1R2GBZkvQKeuTtFMovpmg8nydnIvg09zHYKUPFEYV5NVllAfLwuvdGbALFnkMVZnV\n",
       "l6UZnh+zhACMObUsOX1Z49ac+/eYZ/KAZAvLY7n3kFEC7s51vS7DbI2CxOr8YAETdBsZHeb12XMw\n",
       "+ZKFwdGuRpBX5EP0abf+rdY1rgoUDd2zDC6lawdI9fCz+M/iPlkkw7AbDaMUlgEElbH06+L1K4Fk\n",
       "m4atpQ072Gr3DE/UGwhz0j8SdkdXUbo70BifGL65NPdZrzJm3wGazY0a0Y/hrhcCIcRGL2eYbkgn\n",
       "JVX+LuLpZgxuSVOjfcv8EvHpUcftaFujrAFDtdG6ayFcrPn4DqLVZP5PNu0W4cfvMK2yHKkr/LTG\n",
       "EKrlRG1FuUk4qJvGnp8iwC8xC9Lg5EDdg/KOrlEkN0fJKydqZUCvgpiDXTs/2FvNM5NLzt/Aw0TQ\n",
       "jKOrgF3Urvv4cnMjd4BVJ4U/kKeT1dKQpYD1NEWv6seiDruVmLBj7pB8PwMHPODauCIJnuPEqsUt\n",
       "Qo4xYSQofkFhDwRrnZq9jbV2ESLGJ60UU+qooEaiuVUiCzqhgUODWXlEsqcUO4wZWJlVNsRRrV5H\n",
       "aDSGaDu7NC6YeDhajLY8eBM53EWMc6h8g3hbMoyK8kXnXheyNg1MEmLNh3ROGPzIgmmanNfWvuyy\n",
       "NlOb795yPXuvHv6RA29x9FTkfS9WU3UWfgoUG18k45saFzEeiN0gSyG+jaL8aBVrGhrEE3AKa8D9\n",
       "3PIo26zQ/j/B8y2FSZp2tgpXO5V4ZYRLl8HVrqx/OvFLhP+U0GfS6/v7B0qF+zPpbCMAyvqE1GBQ\n",
       "ygjIjDK17MahwpkGpL71YsQyq6gMFCAXX9hRfOYFaptud8fxmY3t4vVbBAUN+oR1uCPUlpVWuUBl\n",
       "kxoBQmlDFaEaiF+AJZEMkgdVh6yyYuol1t+u4K34BP1BLD7c+11KuzjwAybxTK/lfaHxSc8VQH8S\n",
       "3HweRtkpddRhjy8G83j6bH8SF5bfq2/r4viKNaO0mPD7TL46JVhGaojA37thGWh4GaiGGX3415v+\n",
       "M18f+5W2lnEceqIiJa3tNkgmsthzbHd1F5d7egvVc2gyKvCBK9F7pH44rSAVkRxo7wOaeS4XlNpv\n",
       "KzuSz55e2TI9UdGJDbk6aFNk7FSrddXktJUBb9Q2rHYRzAnwUrnAwj1h65FCT9Egeo0fgAAGDtOw\n",
       "8qABWLiRaQAAAjxBmiJsQ3/+p4QA/LoH0BBRhJp/XQiYJs68uUx5b4AJqUextiCwFj+OXSxH9njU\n",
       "D3oXbnoLXp85z3LjR4ZrSIhcfrev7ngRcQ+AuiNCmMJNNGZ28Y4FfXlD4klsOypmylugSXWzhos7\n",
       "535Wn8+C+PvUUB2inmpBghhU9V3KOC2v0llxtsXYdxS9XDjqboDGO5KWorBtXjkNwwCZuFjw4nOs\n",
       "xARbB2pV/0DRwDEdxJ9sZTuQGPx/gslQCAgglgBbQ+xHV6fAtReho45q9SmH0CWknV3n4GEyataw\n",
       "aymGkldQLar9F1y8SUjMoe3pVjJj8V5FC4KUgpv37pZ614iCbK0p8CZhthE3m5yxK4YAU+JhhRH+\n",
       "l0VvxjGFLL5Wb+IWxvrwgexhJRKWZjSKnGKyGvwwHpBh06doq6/WFRrJcW6SIDmqOWTQTWHtvJWr\n",
       "JaLcIlEHvQldXCzAjg13mXM8N94ezH+iJQuCp/ZkNXiyem6HYv/jk5Mj/Yq/ZQnSziFwb33nyhyo\n",
       "pJqA3DmeRfJKAyU0xzQ+wBCv1zCwURnSAQ8+it+io5E+8RKVKgG7obIkuybo5sP51o5ClHNwKIeO\n",
       "XTUkMTQGMDTJvk74eHoVCNAK1GBEn9OdwozveiZevwwlSY/YTRhTxFKgu2T4yJyALyB1kfZauHfS\n",
       "b5aWFgEiuWC4Le4UaVV6b/55GF3I1dVA+f+g4r8xmDRIV9rOQvk6maU5FnHb2JEPgfxFXvpD2uCF\n",
       "V69uL4h2i13dFRyNSAAAAI8BnkF5Cv8A0pC3tdFSeP6nAyUcsPsN4Ia09degBUznS3rhKI6K7Y17\n",
       "MGvl94Z463O2NOQZvL3NAP4wNkrhaHBUA14Bs7rcFo7T46ONr0eQOPU0e86iiTv3Wukdr6G2UCGl\n",
       "71cfXBt8jzSfXisPFl0t8z9Z6zRk9CJmW7tByUkYD+CUuV7G32Qpa9HSeI5nQQAAAYZBmkQ8IZMp\n",
       "hDf//qeEAALDh9u+SH1EsZmKQA3//b+4yyIn3bnzwH1jySbqJIy/1IQUsvXA7ll8M377a+xGTLKY\n",
       "8HobWQL9AoJkojwQOKqFnSWtGCtThe+ddqI/cgJCXxuraW+Oqs1yNBBtdXsWd0IaHkOCnJBuwRW1\n",
       "OiJdg2mzBAkgTE9olZrDsoAtWwCweSQe5O3BAeK9ltALwQ+oliXA+ujMRrcO0u8HucoIN8zp7uKf\n",
       "U6mT5VPPf3lzCltGSaatup/qfblqNaJla0YQvonCYP/TpUyPvHGMY1W5+3x14j+dpeQMF6m6Bkre\n",
       "Xf+nwWltlupE+AuCxip2BiJn/xzNqVVepjJmfJv2FaKBxT97et0U8c8hFfOEFBM8WhVUYyiQiMxq\n",
       "41Oqud22kNNkaWHDOyktKFnDIVaCBZmdgk4SDvFDTBYzkSRy0PxnzxnZ2uNhzP+6WE0De886crWA\n",
       "LZTByhDpfroO7fNEVfL8kmsRKWBjErEJmWss6qzwXeYITI0TDswzOcwAAABqAZ5jakK/AAEtzyLb\n",
       "U46Yr5KfWhzOOHebblZHBEj5YPzhp0MuxzJpxeOnWuH99RqO2fCjhekHVPuFxC8q4tgLyEXgQvcl\n",
       "eMK+vxKa+Dpu/jYdRuTd0ORJqbf96NCssMEjH+wv4YCVAl/3zwAAAPJBmmVJ4Q8mUwIb//6nhAAC\n",
       "w6AxIAj4HfH8OFy1IacoYro5pQw9CfG/sH2nqR7Q0TaRDRCVSRHR9l41fiAmclz2AbNRfLTnuLoy\n",
       "Nv9MfpqI9QwfzTonv8ciV2Dj7W8HINv8ePtBHHv/XZkqyDo7vOCifFJRStre44qwDGqWgEnno6Qk\n",
       "EOibm7PsJMXUe1bkULpYjXOVDKnNBow4n3w9fuM2U2+ytT+i7Rr661LOv/4oX/iIHJIsuadZFVeX\n",
       "Mz3CodxrBSG2zVofLpdiQUYHw345bHDamlTdvYLBAa0sXvkteqQJvFJ+NCf5+a1Aqi9/sKm9QQAA\n",
       "APRBmoZJ4Q8mUwId//6plgABZNsqAInnh0AHFWXmwkBNVZfVHSGAUkxfzcwWYCrKalY8eF0cdBGQ\n",
       "o5n3XVqkPXvPLyett45CsDbET4JWg7Wd8kR5YaMudctSXM5SJLQ3DXRk94y2hWky2ltx/WhucU04\n",
       "WOg1SaVqta0VBR04LXjBMmS17bzx3zr+q2TMByx/EiS4dAbeAtN0p7HAfX2PRGWZFzcUmL+xf3oD\n",
       "qTXj0OVoC8qXtLA+1BEDMOFwKbLBQ52lCXMpbqcfhUlpFvi5gqiP7rSlTucJJ0VKtq9mT9U6Zw13\n",
       "U+7nOuSxGn5ALeFCMDj6Yu6BAAABxkGaqUnhDyZTAhv//qeEAALD/wU2QBW4n010gbrVpgOgLu6V\n",
       "Btg8nc2X5jVDRat5Khm7UkcI93GWCD9mb4GvMITIw5SaX8aYOchW10dZMsh+KaojIx7/BVy8hBIL\n",
       "blIofg9r5vXBZ28vhWTacq9q9YOotbaCUrw2cM9Ry9kuf+wCYI5Qy9hoBQrDBSTO2BcaKX7SnLKv\n",
       "wCrxJY6XXSrXKJfCE/hHqytLFPMrKLL96LxTUQtnahImqamhq44QV6EY2RtNxqTKBviRY+4Zpx+v\n",
       "+nx7COyKKwwEb109P0Fr1N3hKrECKKLW3EuoaVf9sckoVKrRpLQm8pYO4rkJb0ynLZpC/85HRvpz\n",
       "ieTKhtBZwaqxOKa3QZEMOMlPi9xUCKqgfwaO5Rr9gxGCy7SERIiKWS0o5+PN9xl2YCDjqB+FHshY\n",
       "5MhBIBIT74QUv6+XgFgWT7tQQnsoLPIOmtkcx/ovJ9rmtadryD+9fVqIpZWQQsg5kJsj43uHGBNm\n",
       "QfYu0aJZUBxw1xTVrMM2bUinRApOTd9omsj7TO0OXXhcX5z/4Mpk/jw2yNoO2DWGH20Z8La910B+\n",
       "eUEj7AC3CpcJytov7rOoruiz/NEAAACDQZ7HRRE8L/8AAaRGQL4eIZlrP+FYTQEbvcrPNy3Wovix\n",
       "iutyImCBnbtKRp6FnQr119QMy4snyz8o5+MhR5SaCrevkpMax8aLDR7oB9Mvao5DoBHPjCASdkmL\n",
       "xQEUdN8UXWvA4Tk0nqv899alTez5BSc5D8FRR9XiCXOmdVMNxv615fcAAABaAZ7oakK/AAI7CIWI\n",
       "ahvsrMM42+/QbEP++W5P7WrDG5/obIwg76r2E7ojkxfMcVcu9/RUuQ6yKACmL4MswJRIPrcxfTPo\n",
       "fxMC/a/AiF3hSKFBhlGUZd9AKOFwAAAA3kGa6kmoQWiZTAhv//6nhAACw5/CGncANRGPfvq2v5gQ\n",
       "+tzB7ONz3xiUbQCRkNy6+hQwFeZr9iaru3SAjerTtqEUudPoNZzEuys5dS7+axDH3DZrOwmGcFs2\n",
       "kYpNyjudJKlTmM3MLkm7MByS9u7PvxYqacdQnn6usPEawphE2ov1Fkh7wbnUyVY0wRQFsPzEnhDC\n",
       "UzlSOh0YHJnR+v96N1OfGjTAGAcgiLM/vhmD5boR6eJ+fX6TtKursI7oQpgs0064PNwfkgGymSOI\n",
       "mIjh271myazM26+dxiG78EqpQQAAAPVBmwtJ4QpSZTAhv/6nhAACxALqI0RyTMqHACMKfJv9t5qd\n",
       "aACgH08ynjtN34MmvYg8sx7U+3MltY3wUMZ/lhkO1iurQdOy9SPH1D/RrCoPqtbGTTDuQHEL8Mjy\n",
       "rwQlqh5LBYwS/GdzMEh9zH5tOONgBU+rwDmxK5sm3dnFsw1VAVOxvU3WraEWRKcmcdDVZTnb9XMk\n",
       "3fP/rxes3j52Ro68ZX0ilkpB8tEVJlIlA0VGRIevMEBrfFNhxIDhNy7lyspP3wNR37GRQen5mcIz\n",
       "Tv7QGVpm1GKKFbebfuVvkzEnRy2junLYZ5pBEvgaHCm1Hg+/sZ+w3AAAARVBmyxJ4Q6JlMCG//6n\n",
       "hAACw5ajNigkBpAEPhKG8co4eqC2M87RKIZBc/pkz2P7S4NbO+oja43X4Rz6tS1sbY9SMyj/2sdH\n",
       "I4VDfEvWBqq+4DiBb+IyxPZSajWiCvjxz+gSNRVFnvozjvWA/AoqYBb6ojEBakrTO3hRXWAI6dN+\n",
       "kE+RQX+PxF7oq1akBzTgpj11dDnUyWTefeiZsH15UPXNGNxKb7XXXl+8v9jmb0czVjuejlvP5Bu7\n",
       "mqb+cRob4zkCSQKK5b02HwjZjCqAQZTWYp0CFmq/0P2K4ADxfXCNOb4jcIbVTwaBxgu/Q+iTHHkV\n",
       "E9hU3mYj7Ul1Oc7ozLLROIv8cwBDnGvfGcZt3pu7D0EMuyIbAAAA4kGbTUnhDyZTAhv//qeEAALD\n",
       "DkDiwA63uAIjKnyJqQ/lzem+SdYSovgLDrItEgKU/hPm4DYUwEtLM+r2zwjr5N94AiDRcceJkWXk\n",
       "RmR4GHYc+cvJbcjWaA6KVM2hLllMWk/uX+SK0bTF0aN6v8COOcljjeZecATh6eMm/5KAHcbkeITi\n",
       "wfqGpptQbeE3nz9C7dN4teoRdwapQCYnvdJ9W4yi4uCWf26yESVQ59faEVpuEmmUEhwIOf8N8Smh\n",
       "iRP5WDRH6qjgZ4/djQWNrEnXEdLqc3Y+SIIHpZWxwFC5e8e90M0AAAEMQZtuSeEPJlMCG//+p4QA\n",
       "AsQd0sLkACfTao7QoY91ofRy02wjHCvgximw/GrB6l9wv0a9Lwvq+mxwp/1DpOh13HzxUJJlsRtX\n",
       "SEBa/ZSZkBrg9g8BWISyPAbcBMgH5yUbndUvDY26nbPZGsjysBFPYjLEjP5QPf+a9OxaqW7j9oI9\n",
       "47L3RlD9ZnsAhCl3n9gd6/8KrtvyU/5GU9BmN6DN8AHlCXMfcBS6J6crJlqz/6yYz9t/7rtrwaPW\n",
       "pzpp5RVyIcldBgqN38bfjcSHbkP79JBteWmh21kt5wR/shM3X1+Z9uJCAzWXaUAP2FoiVM0sYCqU\n",
       "SA03iZaB2P3CRZqsApSbOLwEymQM5JGz2wAAARVBm49J4Q8mUwIb//6nhAACx7++Bp4QfGRCcaCA\n",
       "C4SGABDqtz9pWCfbmcSukOXLLcfUdqwDTjLhdfx1sGJn3tWxywgsO5cCU5d5POBWNSUE7qrXLxHx\n",
       "wfZI+kC3+noDgXwoNhF31sXKB88CE04URHiIam82Sh76KdHkjg5sxLU6/oe4TgbiVqy0sb/3S1Zc\n",
       "OYxjKn2EBM/9301fU2KDQjzyutgz6E2fzG3gzdgtsEl0QAA9cw4Wx50Rh94xB4+x3ATjMpTpPw+k\n",
       "wAWKGr5vw5Jd6Jpbv4pchV/5unXQT2yJvlnjCggrm4x71+1yw87wMM8sniR5r4g4lqqRdkCfRj/g\n",
       "dEvvN/8+51xrJs8qzz/lyYsanzbZAAAA/0GbsEnhDyZTAh3//qmWAAFm+BR9IV6KAy4YRxFjFUEG\n",
       "NnYdT+YMRy/z4Ibh5EeAmAkePLbhYvYFwnmZi2bSQZuOL9hV1mEi7wlRmtJfH3tIILpXBW0lPhdY\n",
       "bYfRBGhPuPdzNDcZasW4yMxki1YWcbEZ1J67eOPGKjH6UqHc1Jo8RCMI7RrlZ2iQVts50S0ZAXwb\n",
       "+Eo55uoF/a0n/vDHnlSCWA3rT1c9VaTGtkP2byOwyPxZk58p8zpLvdM/BSQ5QsHEj/NXKWxn8un1\n",
       "7KvOLdZzolbVu+yZdPQYhOOxcLym0V8bKDUTOujiZS8t5NKmADBvhFwRAF1yMwC0H8uaEAAAAatB\n",
       "m9JJ4Q8mUwURPDf//qeEAAKxC8AbNAIARZyPQXmburbFePlQ1jd30sHqzV7iagUqbVjt3fSXti5i\n",
       "POGjVjxfIMH/Siia6GRJhozT0bK4tqCnaXivHQNNK2qaB8Cg8IOBXfpfYZQA7ZrUKg2S/3N1j7aT\n",
       "QB0/pwS6h7OfQit1mtlYDBlwBclHSwnY/5BRST3OeFjYtfaumibc4qSEGX7mTMYGzrorfUbkCesg\n",
       "ZMREC3lv8XYrO0oKn91gG16fcUsjBGRVZGEW/JY9NCYJCEwwUn+AXVA2ftjkf4NFZV1nY12VsC0D\n",
       "wZo0WndTOQv5jUu5s5+jVd99C6RJPTbS14IlvaF0PwmccMq6stS5yQXfpZZFTx6Eajg/DAklXEDf\n",
       "ayYG/65YDsKbeg77b9yP5okSfqEUH4kAnsxAsr19nNjceAxfCbC2ePo33PNMMwr87xPCk3sPyDUz\n",
       "zF+pTWO8rQICnT7YMYAGbP5t4IoQjwoPq/9ZxubIU3HamSED9x3ICNq1pFFDh86kAX7hf2S6pZSy\n",
       "yf9xMF0FOa4i1lFCN97RfctUvK4C24a0qpLqAAAAYgGf8WpCvwACO7AeMQqFU1kVpFHCklXu+PV+\n",
       "qDKY/kCQlzjqsVtrrqnyvwgtdlb6KqfVVLxJp3SdJ6tB0kTgCMgNZqSJMkgAiPgjWq6QlI4PKbhi\n",
       "T/hZtK3/wFP2MXsjd6JxAAABpkGb9EnhDyZTBTw3//6nhAACsvazNBoAETT40/eV0SsrdDU5zh4l\n",
       "AgHuu1V2YN4RhPLseQ8jXZqpirQc4fSagQ53PLB5HtlhYN+cRwQxg237TjPmXwWOE4p2y9MDNKC2\n",
       "V4eSufg3IB3Noj/t7llUXeItwlQVMzPWmlxkFPkNSXzCV5G6Gn231FIDcWMD71HZvSY9CtaHkmyk\n",
       "duwIy+mAxd3paXdBY6Z1f9eTHZDeuLzARlFRqfiwss0iWVPf080v8ksaODTPP2j+5dn6URLaO9tT\n",
       "M5v/9Wfya4lygr4r7xA6qDp/CeopbMbeBn+oSjQP/LL/LEmRHt8olJSdBoTJ8gdR04l7B88vhpoY\n",
       "DeWBBGaYdqymq9m0mGNHfJIPG9GPRQhLF8zQwNimkuB/J32w78ElU+AwotgokbEJ0PZqznE/UMtC\n",
       "u2Pmvlcp/ux3mJdRNeLcU4/RDpIxb6G8bCmBT0TCtGMPbiEHVB23lVDGhYGpzW6zTHcmp8LtMLQc\n",
       "f5sjRLD/NOser4JuSlxMzffrdx+O7tkqOD9/fkOVUTif09zFQtX/QzeAAAAAbAGeE2pCvwACPBoG\n",
       "wrW+kc4Nso+S1dzG6yXonFnd5GyM2Tjjtn8gic4IpT3+rkXTQxKWTqqXMALSFRrGwQmV1j17nCDf\n",
       "JJIPrqKl8jGWN826MEKgWmh3DinV20S5k/KyBhazxxT969hXnyqpgAAAAVBBmhVJ4Q8mUwIb//6n\n",
       "hAACsptwUACL4GdCVs1PyUBq5/vW0EglpQzDxNynbo8H3HqALhcpAoiuxPrEQuNd/OPKZSTH4avc\n",
       "2Nh0xzUyS2mu2ko6vQqUMN5Q6ahJWQctIZunpgRYnREf5cOodOaz//JFxqApRz2QC8A0jDpwVbJu\n",
       "51ujTqUx/zp0cPFU+dFFT22L2KAHy+sdeiXhbO6awdTmOQ4zoPIe7oQ17o/s5YXG4c8sPmMlPOcZ\n",
       "FzzBeh4O4Gua/dBHDrzktBUv56vkzdYdK+DB5zJRMjKEziT6JKJ8u6kYGmOUi9OEGVyyHs4GnRF2\n",
       "JNywCBDNlFI0z2MRhSI5OgIMJRYbtIwg3IOoQacKG4fqXXZkbaYuczd9SrKv66ha/DLK3jrcbRfE\n",
       "i+iST4UYHFcf2hkEIYxpv5TroD27kDsYsHWXLWCWEydlx7vFMFEAAAEjQZo2SeEPJlMCHf/+qZYA\n",
       "AVvNijgBuqryLbhElBFX03v/Z1fq+OWZhQfaOiXDfIrxa5jmLTZK34Kq/ahFFyyuwJXAUlNO3lkG\n",
       "U3WEmYB73xNrxaNA7bVJmB+S6GPCwvc8nN+XkcEpUPfqmDyBxiaslmz6ZmGTJ2pGIDDYQ62gfNNI\n",
       "2NzYoHFd/IjdX2cng73o3kWfwC1KgCRQh1e/nYpXkLcqRTkDW9cEJMzX1lKJK1Ryf5oUlLStifzB\n",
       "zAXCU5UjdTgteP5dqH1Ze38R8/JMGoh8b4NxiDHsZBnIZ+2ycpGztCzbs4eUZQP1I1h+AuLVCdRB\n",
       "XePQdiFtLJT/gNrK778l9NApdfGKrgGgxDL0E6um6bGBgyXGmcBwgyxYoSfWNqxwAAABtkGaWEnh\n",
       "DyZTBRE8O//+qZYAAVxSpy3HpABtuffFObKjZPAEa75yeK9H+DPUobPwxGaRyg0kZUhwOI6siQQl\n",
       "EOdT2OB9kst0/s28xW9/uAZPHYlRvOR9lAW6E0zk+gNff/X2tU99IZ+lokmCbvIJrqCNB6LJ2bPJ\n",
       "byTtUyT6P8OyVSTUORIioy3a5GkIcv5+qqkdLHGzJmlEaef8TBsGd2uDPVNNH2iQD4gtf5HYQlU5\n",
       "IlUNwlCSMZUyXXaaX/0DQN3ENmN9UbRQDQbwOiFNVMp2Q3n2ZonYB7IEkYvsIvRvG1oXSkPGtPGN\n",
       "mXdqYflHs/t1AMIRDyoKantJwVo8Y63CzbstnYCgJvJT7cjPKqyIFunvPtaVoFl6ahaNPXaWoN4J\n",
       "3jG9AQ8g3FwgqI67aNrt+0kK+sOQXyAWR4jYmDJ24LxQBLuGH6iif0eQW4weCJGIFWpbKq0fwBSo\n",
       "KeJKWnnJU4j9iNTJdkUt8hc4p2IOCt1xOYft7VpXXMEDJNbtZf+EMkMtx2Xt0PVnif5mBvleZY9E\n",
       "0jYQLM8bUbgtNE8hlQyD3emUkSWtC3Q3alIRIlgw4VEOwQAAAIABnndqQr8AAjSp+Y5sk4AFTfC8\n",
       "eUk3sx43c1U+xrNmY6NNZlPDGkDayEFSmequIG00ULciyByDVjHDJDjGhWxjsTcjYm62B6QDhaWj\n",
       "ZVwA5fRTYSRec84PCQOWl9JMJrvPPfbO5AqnVchmn9ZskGA7BbvsXtIE84XWMtiJyD/OQQAAAYdB\n",
       "mnpJ4Q8mUwU8O//+qZYAAVvYfExoAcjpskLOuQQDIaj3jMyrhjJsLRlOAhpQQmUviE5Ervx0ASfZ\n",
       "K/46ul6TD+YTYH3EZgEMCVBwR/jUhsnIO6Ti36w/pE0EieDkq5+6GjAlo7gjhGeLowlnJbpI9rOK\n",
       "X6CTS3kpoemNhd9FdedrWEqeXT6e3+1Fxbq7bev1MrucCD8WHwvf/2agLmaEl72cjhGogZhZ7TJN\n",
       "+HSWD09Yierd1fYOzFORSi71IZVYG7rgwdu1Af+XwoMCaNc5ZJF4ned9I8lqUcVCTaZuerVhWO3s\n",
       "JCZXA5sQ2mQssQOdUDNoYNCBeQFOShQqaomD7wp5pMRGvR5TGMZ3X2VNFsUoDjuud118tMQoD+lI\n",
       "kOF7hfu0XYYimBXSPyWRoKpy2xafBd1j7UJqvf/764sb83M/S06oGBVBkIScGYPbxOUNirWXPnIv\n",
       "ESyXahIsTbr+KDXaYsxGs+Sl7Ergsaa4Rd5jt0py4kz1dEcD9//CnbkWzcm0d8YkAAAAdAGemWpC\n",
       "vwACKwytvv4MEQ+vXVCnen/mGhdJm0BIbJroABJXJvty9at8/ne440yxmc7y75y/FoznmsZoZnTE\n",
       "bAVbA2a48AxAyK4qA4fJzkM7vbXpRTstVe/ePHWgcems7R7YfdydIclYXLhy7jv/1tM6UpOBAAAB\n",
       "4kGanUnhDyZTAhv//qeEAAKzCYhe2VYgAi/UG2uBz7ThOCLQWZN0T4JKMD6pvoNU4Zo3s03hwTWy\n",
       "n9WMtWY0+KTnJkXweHQwUmE7BLp+kx+4Rgblsq6I0zrX7sNckZ3DQ59JtWzjCi517enJzdxhW58c\n",
       "yvDDexMF40+WWx5zXqExAlZGWTqKkfUBN87Anbz4gT2WYDzdLzbwUiPPZ59YUXHn1Hi8cUM2qBgr\n",
       "e8WsmR0WOTdWl4RQ6rbYsKDQ6yrwr2KBlTv3blONX/mjGnvorgu/+VEyfO4B7/6GKf8m8tPns8qY\n",
       "VYAsZtrcBjdY/IHF5sQBAe/HXicNUOuQUVtG0tZNRE+pl9yfrw2erWHo6Lsbpsal1igUNGiYOrNF\n",
       "cqMB2t/zZM+dgHvBYXuIzjz6kS6nbOwQfeKtBPOcnkuknQQcFQVbYgcsqR8s/zoz3G7sJ9iPKkw7\n",
       "xSJHcocDSnjAe4MV0hUYMstF1cQ0nmIcRvFvZVD75TwwCboawjvFVoUNKhF9jUw4RwFx2w/aGC5f\n",
       "EbDYSvDejG0Submfah/SZ53GIb7wRBRDHetRBTmHUPnq9PLTLgQMGeowCrXidNSJxLm4ENt+deFr\n",
       "1HopMyqb5lVXGyNEw9ov/Lnx6VTpv1aD4uN0AAAAokGeu0URPC//AAGbG564wAcLx+siSRHN/LdP\n",
       "U7KeRj3yb5cyYRxWAIItn+zdBwfHrrG6GJz0V2MMewvPFvBgqL+ujv9ns1G4srpQgILX1Q0MqGP0\n",
       "TX06agMFbrOYV3ClYG1BFjUBp2NGmWBN0bN8vFBj/Hank3J4loQvL48SewqcywKTJWIAYs41fVuB\n",
       "zvTh2vrDYDXaM9PSQseNNe0XBi3zWQAAAG0BntxqQr8AAif5IuyX0CuHtLAoI1OvpWqvn8uDeNAQ\n",
       "jw9Pts1YIX6GPj8QKFHTzmVoJCBzvrRj2bryNRo04KYlSYJMSDvs5eab4UPRbZMyyINZk5hdIOUt\n",
       "yqAEi1xI6eY6dqFh4wF9UaX4RSphAAABEkGa3kmoQWiZTAhv//6nhAACsaOGkADhvtdcpQOJs/6L\n",
       "v1weFOLSdt2hg6TRL2qPraPfDlNyAjHRdNosaVIxylFAZwMl4kvnuef81JIiLkaugJyhYxi8l4IF\n",
       "TSWxbxgVi6KHw06ScaU+JjNOkPUniqMft6VBYx7phcTpNR8if8gTqO5609js7xInO7fYSfVxM1UX\n",
       "FiH9HLwwY6Z4Ze0JOgvgiXtSwOol2gq3fBkkB4CG/uWfO6iu3g9RXZNlqYFd8Zwp6RJy+Qhqbmdb\n",
       "ukJw+nuFPS0E6uQaP93c934KamW4NqusOhKOlxbOekO6sAYwEZiMKvB6N6VZz/R9k0u5JQWl6/9/\n",
       "bnNir4+xjPf3X+bi1SAAAAFlQZrgSeEKUmUwURLDf/6nhAACsZhZeZAETXHBjpCzRGrnZQVZSETu\n",
       "NUQVeY7eld+XtdWClWeyc30CI7LYRQWDttULIqEpt3O260VVwby5I00HbYo1Q8BNuCJZkeb7iNEw\n",
       "boLqZGEjIC++bAPHvgYVvWZN4zak1NK4k5fMFeYkf88NyKu5hGEONIoOIbeFQM5Bzoq3hqDtR9sx\n",
       "WdxM1244iy0OOx7LVr1CvhX3jDl/HXUEwDWy/F5zBjghMW0Wa9dDBFwO+69GIkYqa1mI12i7PR3i\n",
       "PrD64MdSS7B3ajLxe1FuuM3hNUrQnNDdb+vi1R7RVQmPzv5rFxQeWjOvmFsc4qGK3lIokrSKZUIU\n",
       "RgEUYYtP14fmX1PxbLpfUA+WyMZkbElJNR2UiiX6qBolNN2Rj3JLRBvGEXN+xakY4nkTDr4VDD7/\n",
       "4EckLBT7CpdeYJY5gcrPzvAmlhXk5K5Nb6vCoj9UAqpaAAAAdQGfH2pCvwACKwzwsAIw5q3Vw1Vb\n",
       "WOcVTZH6MisNGp5Y+nNcnjdsA1PjTgqMAjYhlNob6r8LAIqe22+FE3JtTI/ajR99VeKtlftGkxdY\n",
       "Ty5lbNwy9CtrGaEy+AJ/aw+8jymM39lhA0xwwAIrNWd3mlZjjOiSqwAAAQVBmwFJ4Q6JlMCG//6n\n",
       "hAACsaTbrUJUtABzxsEdXX6NhSek5W/b5/6Y46Nnm/INplJ7WRck+bwrg8QHbTxp1p0ZNbaH+PQO\n",
       "M1VcIbkPTOCMaEOrhGIwoHZv+nOO9P3MEqD7omvSg01NSsqtJzBteAzxpLmbit/oeifSER3xoyJM\n",
       "QdKntIYpvohaaphmsj8x1NhddnXCbAipAkxc1qAyf49wxu2AmyZRbZ4cz0Nlh4DPB1bEmSBAfxQy\n",
       "liDM37YOE21r9d36aQpfyLUH5E29aWTK4R/RAjyx5Z0jDEHzT86OGwGtVo6e8wpXzdOQ8DMYkrRr\n",
       "YqyyiS+z0mjzWQLV41piuTx68YAAAAFaQZsjSeEPJlMFFTw3//6nhAACsf9XCRJ1eys3lSAIjr7B\n",
       "Y7gQHjljYRpISNeaQW9VsM2CE72YSxvfXi409vuHljBWq0qobxkj9J8OyNjRm6rco16E+cvcpy/N\n",
       "Ja69dNQAHJUP2EfC9znfwUiwpA57uHuHTSNLkfbetygsocHE28vEDeZstSnigHRHRFwPCqspF4j3\n",
       "QstFR2RwxeK6qNb5qqWZi2sQN+ZWqvQMphIpdbsd/XsbNCkc/41JUi+meU7xDDHH15/LlZDrzjW1\n",
       "hKKmbY9WOJSV8tkDC1qaMSL8OAvb1D2zQAjtuHtyr+cBgv0Q83KGD8wV2r4iYr8PTgB977I9GS3X\n",
       "5WM0nRdClxWHRwqb84lkt8nb8l8QR0zSk5KJjLpfj0se0zVn2jEvlA+FQm8OlDZIMOtE33Fn9xYE\n",
       "baqV42S+hXP90cd02GrTT2bQEuGS9BgkGxZPiQAAAGIBn0JqQr8AAiwUFXHNmqCDaYT7G2r3n4ro\n",
       "hd+FFpJ2A//4aebEgC6uA/jcVG1nTImLE0Dm+FgxiQV9JXTrDVJ6bBbN4aXkIt0dEt5GuR+/QcQC\n",
       "oMn9zVJ8POoNl52efEWFgAAAANxBm0RJ4Q8mUwIb//6nhAACtcyucbjk/wARicFi8Q1Gmao68HGv\n",
       "zkswwVvmgyl2eTMamaxjNZnsBaOk59yDaIKYOW1EkPb2hjDUJI6v7HpJwJOxqgVBqkDATqB3hHe+\n",
       "Z/0SsPvbXK4TXsEFUgrB8X1KTIgEKnpWZimZXXijT63gtlpXYP4tyyt2NyX1A/9flJL37LKvlUPN\n",
       "xN7O5oWCZicOd6sOzZ3vuE0EhZiuDUL5kii+3ggxmWZarf4RORC+21FUG/evQf49F7HeDOvpeQxx\n",
       "akuRIMC76sCy1pLBAAAAz0GbZ0nhDyZTAhX//jhAACfJ8GiOsaApwh3eIAbwwfZRMgqg/mhLLFtj\n",
       "v9pKHAFF4dXK313HQe+M44fndQBiVqnie1kyuavJf/EBtkqAhu3lQ2SJxxwDoK4nlto70cofc4k2\n",
       "W2viLeNscjCGtLQvDtMM0HItFUwlRxdIRI7rQFjZE/dge0+9IHrUayDRJkHPe5CAyB0ANq3qvT8W\n",
       "bqsAfVBANOrfoAoAdimmHOzIbCJEs+xkybZHO9xC+yZz+i/11lAXwgdbhNSR//r64qQr8QAAAJBB\n",
       "n4VFETwv/wABl9k/eOso/0szSsN1XEzsyewA4MgVRLbebtNpxjfNhQ+/9I2pRTCXk3AS64QUVwWl\n",
       "/MwLclFzcNupk5v3nf0MFdlBoVJOMgz60a2f9Hw+UXx1vOwjIzW7BtneuyqW2BAmmVDm2JCYI+bS\n",
       "POR+7vu8Ocayk3uNA3M9u6WKmWJAU3dwOaC69U0AAAB6AZ+makK/AAIrrD3c1242tuq/7OQ0exls\n",
       "AFn169UMG/Od8G+atPvPG7tYr93JSPZa36AQ2YzVklG7SG+1fkguImEeGaoXQHZ9974Rmp+dhyn5\n",
       "C9p8b26RDgeD/HBUZlCJiXLLCAwt2EDHV7KcDONjwerP1g1LzN/3w+sAAAS2bW9vdgAAAGxtdmhk\n",
       "AAAAAAAAAAAAAAAAAAAD6AAAB9AAAQAAAQAAAAAAAAAAAAAAAAEAAAAAAAAAAAAAAAAAAAABAAAA\n",
       "AAAAAAAAAAAAAABAAAAAAAAAAAAAAAAAAAAAAAAAAAAAAAAAAAAAAAAAAgAAA+B0cmFrAAAAXHRr\n",
       "aGQAAAADAAAAAAAAAAAAAAABAAAAAAAAB9AAAAAAAAAAAAAAAAAAAAAAAAEAAAAAAAAAAAAAAAAA\n",
       "AAABAAAAAAAAAAAAAAAAAABAAAAAAbAAAAEgAAAAAAAkZWR0cwAAABxlbHN0AAAAAAAAAAEAAAfQ\n",
       "AAAEAAABAAAAAANYbWRpYQAAACBtZGhkAAAAAAAAAAAAAAAAAAAoAAAAUABVxAAAAAAALWhkbHIA\n",
       "AAAAAAAAAHZpZGUAAAAAAAAAAAAAAABWaWRlb0hhbmRsZXIAAAADA21pbmYAAAAUdm1oZAAAAAEA\n",
       "AAAAAAAAAAAAACRkaW5mAAAAHGRyZWYAAAAAAAAAAQAAAAx1cmwgAAAAAQAAAsNzdGJsAAAAs3N0\n",
       "c2QAAAAAAAAAAQAAAKNhdmMxAAAAAAAAAAEAAAAAAAAAAAAAAAAAAAAAAbABIABIAAAASAAAAAAA\n",
       "AAABAAAAAAAAAAAAAAAAAAAAAAAAAAAAAAAAAAAAAAAAAAAAGP//AAAAMWF2Y0MBZAAV/+EAGGdk\n",
       "ABWs2UGwloQAAAMABAAAAwCgPFi2WAEABmjr48siwAAAABx1dWlka2hA8l8kT8W6OaUbzwMj8wAA\n",
       "AAAAAAAYc3R0cwAAAAAAAAABAAAAKAAAAgAAAAAUc3RzcwAAAAAAAAABAAAAAQAAAPhjdHRzAAAA\n",
       "AAAAAB0AAAABAAAEAAAAAAEAAAYAAAAAAQAAAgAAAAABAAAGAAAAAAEAAAIAAAAAAgAABAAAAAAB\n",
       "AAAIAAAAAAIAAAIAAAAABwAABAAAAAABAAAGAAAAAAEAAAIAAAAAAQAABgAAAAABAAACAAAAAAIA\n",
       "AAQAAAAAAQAABgAAAAABAAACAAAAAAEAAAYAAAAAAQAAAgAAAAABAAAIAAAAAAIAAAIAAAAAAQAA\n",
       "BAAAAAABAAAGAAAAAAEAAAIAAAAAAQAABAAAAAABAAAGAAAAAAEAAAIAAAAAAQAABAAAAAABAAAI\n",
       "AAAAAAIAAAIAAAAAHHN0c2MAAAAAAAAAAQAAAAEAAAAoAAAAAQAAALRzdHN6AAAAAAAAAAAAAAAo\n",
       "AAAO/wAAAkAAAACTAAABigAAAG4AAAD2AAAA+AAAAcoAAACHAAAAXgAAAOIAAAD5AAABGQAAAOYA\n",
       "AAEQAAABGQAAAQMAAAGvAAAAZgAAAaoAAABwAAABVAAAAScAAAG6AAAAhAAAAYsAAAB4AAAB5gAA\n",
       "AKYAAABxAAABFgAAAWkAAAB5AAABCQAAAV4AAABmAAAA4AAAANMAAACUAAAAfgAAABRzdGNvAAAA\n",
       "AAAAAAEAAAAsAAAAYnVkdGEAAABabWV0YQAAAAAAAAAhaGRscgAAAAAAAAAAbWRpcmFwcGwAAAAA\n",
       "AAAAAAAAAAAtaWxzdAAAACWpdG9vAAAAHWRhdGEAAAABAAAAAExhdmY1OC4xMi4xMDA=\n",
       "\">\n",
       "  Your browser does not support the video tag.\n",
       "</video>"
      ],
      "text/plain": [
       "<IPython.core.display.HTML object>"
      ]
     },
     "execution_count": 43,
     "metadata": {},
     "output_type": "execute_result"
    },
    {
     "data": {
      "image/png": "[encoded data removed]",
      "text/plain": [
       "<matplotlib.figure.Figure at 0x19086462780>"
      ]
     },
     "metadata": {},
     "output_type": "display_data"
    }
   ],
   "source": [
    "from matplotlib import animation\n",
    "from IPython.display import HTML\n",
    "fig = pyplot.figure()\n",
    "ax = pyplot.axes(xlim=(0,4),ylim=(-0.5,11))\n",
    "line, = ax.plot([],[])\n",
    "def animate(data):\n",
    "    line.set_data(x,data)\n",
    "    return line,\n",
    "anim = animation.FuncAnimation(fig,animate,frames=rho_n,interval=50)\n",
    "HTML(anim.to_html5_video())"
   ]
  },
  {
   "cell_type": "code",
   "execution_count": 8,
   "metadata": {
    "collapsed": false
   },
   "outputs": [
    {
     "data": {
      "text/plain": [
       "153.07319583982115"
      ]
     },
     "execution_count": 8,
     "metadata": {},
     "output_type": "execute_result"
    }
   ],
   "source": [
    "e = 5.67e-8 # W/m2K4\n",
    "Qsun = 1360. # W/m2\n",
    "Tamb = 35. + 273.15 #K assume it's a hot day\n",
    "# Qsun = e*(T^4 - Tamb^4)\n",
    "T4 = Qsun/e +Tamb**4\n",
    "T = (T4)**(0.25)\n",
    "T-273.15"
   ]
  },
  {
   "cell_type": "code",
   "execution_count": null,
   "metadata": {
    "collapsed": true
   },
   "outputs": [],
   "source": []
  }
 ],
 "metadata": {
  "kernelspec": {
   "display_name": "Python 3",
   "language": "python",
   "name": "python3"
  },
  "language_info": {
   "codemirror_mode": {
    "name": "ipython",
    "version": 3
   },
   "file_extension": ".py",
   "mimetype": "text/x-python",
   "name": "python",
   "nbconvert_exporter": "python",
   "pygments_lexer": "ipython3",
   "version": "3.6.0"
  }
 },
 "nbformat": 4,
 "nbformat_minor": 2
}
