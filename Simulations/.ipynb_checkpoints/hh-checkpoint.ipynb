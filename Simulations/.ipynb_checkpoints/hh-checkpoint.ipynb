{
 "cells": [
  {
   "cell_type": "markdown",
   "metadata": {},
   "source": [
    "## Solve 1-D wave equation with high order methods\n",
    "\n",
    "$$\\frac{\\partial u}{\\partial t} = -c\\frac{\\partial u}{\\partial x},$$\n",
    "\n",
    "where $c$ is the constant wave speed, and $u$ is the scalar being solved.\n",
    "\n",
    "* Solve on a periodic domain:\n",
    "\n",
    "```\n",
    "|-----------------------------|\n",
    "*     *     *     *     *     O\n",
    "|-----------------------------|\n",
    "```\n",
    "\n",
    "* At \"O\", there is no grid point. Because the domain is periodic, point \"O\" overlaps with the first point \"*\".\n",
    "* There are 5 grid points shown, and there are 5 grid intervals (between points) shown.\n"
   ]
  },
  {
   "cell_type": "code",
   "execution_count": 1,
   "metadata": {},
   "outputs": [],
   "source": [
    "import numpy as np\n",
    "from scipy.optimize import fsolve\n",
    "import matplotlib.pyplot as plt\n",
    "%matplotlib inline"
   ]
  },
  {
   "cell_type": "code",
   "execution_count": 48,
   "metadata": {
    "scrolled": false
   },
   "outputs": [
    {
     "name": "stdout",
     "output_type": "stream",
     "text": [
      "initial mass of y on domain = 0.20000000000000007\n",
      "final   mass of y on domain = 0.19999999999999857\n"
     ]
    },
    {
     "data": {
      "image/png": "[encoded data removed]",
      "text/plain": [
       "<Figure size 432x288 with 1 Axes>"
      ]
     },
     "metadata": {},
     "output_type": "display_data"
    }
   ],
   "source": [
    "L   = 1.0          # domain length\n",
    "nx  = 1000          # number of grid points\n",
    "cfl = 0.1          # approximate to within 1/nx\n",
    "u0  = 1.0          # base speed\n",
    "y0  = 0.2          # base y\n",
    "\n",
    "#------------- set t, x grids\n",
    "\n",
    "dx = L/nx                           # grid spacing\n",
    "x  = np.linspace(dx/2, L-dx/2, nx)  # grid points\n",
    "\n",
    "tend = L/u0 * 0.5\n",
    "Δt   = cfl*dx/u0\n",
    "nts  = int(tend/Δt)\n",
    "Δt   = tend/nts\n",
    "t    = np.linspace(0.0, tend, nts+1)\n",
    "\n",
    "#------------- Initial profiles\n",
    "\n",
    "yinit = y0*np.ones(nx)\n",
    "y     = yinit.copy()\n",
    "\n",
    "print(f'initial mass of y on domain = {np.sum(y*dx)}')\n",
    "\n",
    "#------------- \n",
    "\n",
    "def rk4step(rhsf, y):\n",
    "    \n",
    "    Δy1 = Δt*rhsf(y,           Δt)\n",
    "    Δy2 = Δt*rhsf(y + 0.5*Δy1, Δt/2)\n",
    "    Δy3 = Δt*rhsf(y + 0.5*Δy2, Δt/2)\n",
    "    Δy4 = Δt*rhsf(y +     Δy3, Δt)\n",
    "    \n",
    "    return y + 1/6*(Δy1 + 2*Δy2 + 2*Δy3 + Δy4)\n",
    "    #return y + Δt*rhsf(y, Δt)       # EE \n",
    "    \n",
    "#------------- \n",
    "\n",
    "def entropy():\n",
    "    '''Draws entropy-satisfying jump line to determine the real flux'''\n",
    "    \n",
    "\n",
    "def rhsf(y, h):\n",
    "    \n",
    "    u = u0*(1.0-y)\n",
    "    \n",
    "    f = np.hstack(( 0, (y*u)[:-1] ))\n",
    "    f[y>=1] = 0.0\n",
    "    f = np.hstack(( f, 0 ))\n",
    "    \n",
    "    return -1.0/dx*(f[1:] - f[:-1])\n",
    "    \n",
    "    \n",
    "#------------- \n",
    "\n",
    "for k in range(nts):\n",
    "    y = rk4step(rhsf, y)\n",
    "    \n",
    "#------------- \n",
    "\n",
    "print(f'final   mass of y on domain = {np.sum(y*dx)}')\n",
    "\n",
    "plt.rc('font', size=14)\n",
    "\n",
    "plt.plot(x,yinit, 'k-', linewidth=0.5)\n",
    "plt.plot(x,y,     'b-', linewidth=1.0, markersize=2)\n",
    "plt.ylabel('y')\n",
    "plt.xlabel('x')\n",
    "plt.xlim([0,L])\n",
    "plt.ylim([0,1.1]);\n"
   ]
  },
  {
   "cell_type": "code",
   "execution_count": null,
   "metadata": {},
   "outputs": [],
   "source": []
  }
 ],
 "metadata": {
  "kernelspec": {
   "display_name": "Python 3",
   "language": "python",
   "name": "python3"
  },
  "language_info": {
   "codemirror_mode": {
    "name": "ipython",
    "version": 3
   },
   "file_extension": ".py",
   "mimetype": "text/x-python",
   "name": "python",
   "nbconvert_exporter": "python",
   "pygments_lexer": "ipython3",
   "version": "3.6.7"
  }
 },
 "nbformat": 4,
 "nbformat_minor": 2
}
