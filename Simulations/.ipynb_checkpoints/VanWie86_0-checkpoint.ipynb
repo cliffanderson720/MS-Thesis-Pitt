{
 "cells": [
  {
   "cell_type": "code",
   "execution_count": 1,
   "metadata": {
    "collapsed": true
   },
   "outputs": [],
   "source": [
    "import numpy as np\n",
    "import matplotlib.pyplot as plt\n",
    "%matplotlib inline"
   ]
  },
  {
   "cell_type": "markdown",
   "metadata": {},
   "source": [
    "### Setting up Variables\n",
    "#### Constants:\n",
    "> density <br>\n",
    "> cell radius <br>\n",
    "> stokes dilution coefficients <br>\n",
    "> viscosity <br>\n",
    "\n",
    "####  Iterated\n",
    "> $C_{total} = \\sum{C_i} = 1 $ where i = RBC, WBC, platelets, bacteria <br>\n",
    "> $v_i$"
   ]
  },
  {
   "cell_type": "code",
   "execution_count": 35,
   "metadata": {
    "collapsed": false
   },
   "outputs": [],
   "source": [
    "#               g/cm3          cm          seconds           cP\n",
    "RBC =   {\"den\": 1.093, \"rad\": 3.75e-4, \"S\" : 12e-7,   \"visc\": False}\n",
    "WBC =   {\"den\": 1.066, \"rad\": 6.25e-4, \"S\" : 1.2e-7,  \"visc\": False}\n",
    "Plate = {\"den\": 1.053, \"rad\": 1.19e-4, \"S\" : 0.032e-7,\"visc\": False}\n",
    "Plas  = {\"den\": 1.024, \"rad\": False,   \"S\" : False,   \"visc\": 2.6}"
   ]
  },
  {
   "cell_type": "markdown",
   "metadata": {},
   "source": [
    "#### Operating parameters"
   ]
  },
  {
   "cell_type": "code",
   "execution_count": null,
   "metadata": {
    "collapsed": true
   },
   "outputs": [],
   "source": [
    "RPM = 3000\n",
    "omega = RPM/60*2*np.pi # revolutions per second\n",
    "r = 10 # cm"
   ]
  },
  {
   "cell_type": "markdown",
   "metadata": {},
   "source": [
    "#### Variable storage and initialization"
   ]
  },
  {
   "cell_type": "code",
   "execution_count": 110,
   "metadata": {
    "collapsed": false
   },
   "outputs": [
    {
     "data": {
      "image/png": "[encoded data removed]",
      "text/plain": [
       "<matplotlib.figure.Figure at 0x27311137668>"
      ]
     },
     "metadata": {},
     "output_type": "display_data"
    }
   ],
   "source": [
    "C = 1.0\n",
    "Psus = 1.024 # arbitrary value\n",
    "\n",
    "# Time discretization\n",
    "dt = 0.1                  # time step  (seconds)\n",
    "tf = 10                   # final time (minutes)\n",
    "ts = 10                   # number of time points\n",
    "t  = np.linspace(0,tf*60,ts)\n",
    "\n",
    "# Spatial discretization\n",
    "xs = 11                   # number of discrete time points\n",
    "x  = np.linspace(0,10,xs) # spatial discretization\n",
    "dx = x[1]-x[0]\n",
    "\n",
    "# Volume fractions\n",
    "Crbc = np.empty((ts,xs))  # rows: temporal positions\n",
    "                          # columns: spacial positions\n",
    "Cwbc = np.empty((ts,xs))                        \n",
    "Cplt = np.empty((ts,xs))                        \n",
    "Cbac = np.empty((ts,xs))\n",
    "          \n",
    "# set initial conditions\n",
    "Crbc[0,:] = 0.4\n",
    "Cwbc[0,:] = 0.01\n",
    "Cplt[0,:] = 0.02\n",
    "\n",
    "Cs = np.dstack((Crbc,Cwbc,Cplt))\n",
    "for i in range(np.shape(Cs)[2]):\n",
    "    plt.scatter(x,Cs[0,:,i])"
   ]
  },
  {
   "cell_type": "code",
   "execution_count": 102,
   "metadata": {
    "collapsed": false
   },
   "outputs": [
    {
     "data": {
      "text/plain": [
       "2"
      ]
     },
     "execution_count": 102,
     "metadata": {},
     "output_type": "execute_result"
    }
   ],
   "source": [
    "# test summing along axes\n",
    "test = np.array([[1,2,3],\n",
    "                 [2,3,4]])\n",
    "\n",
    "np.shape(test)[0]"
   ]
  },
  {
   "cell_type": "code",
   "execution_count": 112,
   "metadata": {
    "collapsed": false
   },
   "outputs": [
    {
     "data": {
      "text/plain": [
       "array([0.31565109, 0.31565109, 0.31565109, 0.31565109, 0.31565109,\n",
       "       0.31565109, 0.31565109, 0.31565109, 0.31565109, 0.31565109,\n",
       "       0.31565109])"
      ]
     },
     "execution_count": 112,
     "metadata": {},
     "output_type": "execute_result"
    }
   ],
   "source": [
    "def vel_i(Ctot,den,rad,S,visc):\n",
    "    '''\n",
    "    Calculates the local velocity of the ith cell type\n",
    "    Inputs: Ctot - previous C_total value(s)\n",
    "    '''\n",
    "    \n",
    "    force   = S*omega**2*r     # centrifugal acceleration term    \n",
    "    del_rho = (den-Psus)/(den-Plas['den']) # density gradient term\n",
    "    hinder  = np.exp(-2.5*Ctot/(1-39/64*Ctot)) # local concentration correction introduced by Hawley\n",
    "    \n",
    "    return force*del_rho*hinder\n",
    "\n",
    "vel_rbc = vel_i(Crbc[0,:],**RBC)\n",
    "vel_rbc"
   ]
  },
  {
   "cell_type": "code",
   "execution_count": 107,
   "metadata": {
    "collapsed": false
   },
   "outputs": [
    {
     "data": {
      "text/plain": [
       "array([0.4, 0.4, 0.4, 0.4, 0.4, 0.4, 0.4, 0.4, 0.4, 0.4, 0.4])"
      ]
     },
     "execution_count": 107,
     "metadata": {},
     "output_type": "execute_result"
    }
   ],
   "source": [
    "Crbc[0,:]"
   ]
  },
  {
   "cell_type": "code",
   "execution_count": 27,
   "metadata": {
    "collapsed": false
   },
   "outputs": [
    {
     "name": "stdout",
     "output_type": "stream",
     "text": [
      "0 1\n"
     ]
    }
   ],
   "source": [
    "testset = {'find': 0, 'me':1}\n",
    "def testfunc(find,me):\n",
    "    print(find,me)\n",
    "testfunc(**testset)"
   ]
  }
 ],
 "metadata": {
  "kernelspec": {
   "display_name": "Python 3",
   "language": "python",
   "name": "python3"
  },
  "language_info": {
   "codemirror_mode": {
    "name": "ipython",
    "version": 3
   },
   "file_extension": ".py",
   "mimetype": "text/x-python",
   "name": "python",
   "nbconvert_exporter": "python",
   "pygments_lexer": "ipython3",
   "version": "3.6.0"
  }
 },
 "nbformat": 4,
 "nbformat_minor": 2
}
