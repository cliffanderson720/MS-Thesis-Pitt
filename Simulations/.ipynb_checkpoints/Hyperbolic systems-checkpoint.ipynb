{
 "cells": [
  {
   "cell_type": "code",
   "execution_count": 4,
   "metadata": {
    "collapsed": false
   },
   "outputs": [],
   "source": [
    "import numpy as np\n",
    "import matplotlib.pyplot as plt\n",
    "%matplotlib inline"
   ]
  },
  {
   "cell_type": "markdown",
   "metadata": {},
   "source": [
    "## Systems of equations\n",
    "I want to play around with hyperbolic systems of equations here using arbitrary velocities and velocity functions\n",
    "1. Diffusion velocities and mass/mole averages. Include plots of absolute velocities and absolute velocities\n",
    "  * rework stokes law by hand\n",
    "2. Make system of 2 eqns with forward and back flow"
   ]
  },
  {
   "cell_type": "code",
   "execution_count": 32,
   "metadata": {
    "collapsed": false
   },
   "outputs": [
    {
     "data": {
      "text/plain": [
       "[<matplotlib.lines.Line2D at 0x235ea177e10>]"
      ]
     },
     "execution_count": 32,
     "metadata": {},
     "output_type": "execute_result"
    },
    {
     "data": {
      "image/png": "[encoded data removed]",
      "text/plain": [
       "<matplotlib.figure.Figure at 0x235e9fa4ba8>"
      ]
     },
     "metadata": {},
     "output_type": "display_data"
    }
   ],
   "source": [
    "def get_c(α):\n",
    "    return (1-α)**2\n",
    "def get_q(α):\n",
    "    return α*get_c(α)\n",
    "α = np.linspace(0,1)\n",
    "plt.plot(α,get_c(α))"
   ]
  },
  {
   "cell_type": "code",
   "execution_count": 65,
   "metadata": {
    "collapsed": false
   },
   "outputs": [
    {
     "data": {
      "text/plain": [
       "(array([[0.    , 0.25  , 0.5   , 0.75  , 1.    ],\n",
       "        [0.25  , 0.3525, 0.455 , 0.5575, 0.66  ]]),\n",
       " array([[1.        , 0.5625    , 0.25      , 0.0625    , 0.        ],\n",
       "        [0.5625    , 0.41925625, 0.297025  , 0.19580625, 0.1156    ]]))"
      ]
     },
     "execution_count": 65,
     "metadata": {},
     "output_type": "execute_result"
    }
   ],
   "source": [
    "# variable containing species velocities\n",
    "# calculate species velocity - I need to finish reading the diffusion velocity excerpts and look at stokes' law on paper.\n",
    "nspecies = 3\n",
    "ngrd = 5\n",
    "\n",
    "# define initial concentration vectors for each species using linspace and start/end values. Does not include last species\n",
    "αs = [np.linspace(start,end,ngrd) for start,end in zip((0,0.25),(1,0.66))]\n",
    "αs = np.vstack(αs)\n",
    "\n",
    "cs = get_c(αs)\n",
    "# qs = α*cs\n",
    "\n",
    "αs,cs#,qs\n",
    "# have the last species as a degree of freedom. Calculate as 1-sum(α_i)\n",
    "# αs[-1,:] = 1-np.sum(αs,axis=0)\n",
    "\n",
    "# calculate ___-average velocity\n",
    "# calculate last fluid conc and flux\n",
    "# "
   ]
  },
  {
   "cell_type": "code",
   "execution_count": 62,
   "metadata": {
    "collapsed": false
   },
   "outputs": [
    {
     "data": {
      "text/plain": [
       "array([1.625    , 1.3447625, 1.45905  , 1.9678625, 2.8712   ])"
      ]
     },
     "execution_count": 62,
     "metadata": {},
     "output_type": "execute_result"
    }
   ],
   "source": [
    "np.sum(cs,axis=0)"
   ]
  }
 ],
 "metadata": {
  "kernelspec": {
   "display_name": "Python 3",
   "language": "python",
   "name": "python3"
  },
  "language_info": {
   "codemirror_mode": {
    "name": "ipython",
    "version": 3
   },
   "file_extension": ".py",
   "mimetype": "text/x-python",
   "name": "python",
   "nbconvert_exporter": "python",
   "pygments_lexer": "ipython3",
   "version": "3.6.0"
  }
 },
 "nbformat": 4,
 "nbformat_minor": 2
}
