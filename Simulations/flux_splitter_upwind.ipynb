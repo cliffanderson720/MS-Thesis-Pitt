{
 "cells": [
  {
   "cell_type": "code",
   "execution_count": 1,
   "metadata": {},
   "outputs": [],
   "source": [
    "import numpy as np\n",
    "import matplotlib.pyplot as plt\n",
    "%matplotlib notebook\n",
    "from scipy.integrate import odeint\n",
    "np.set_printoptions(precision=3)\n",
    "from itertools import cycle"
   ]
  },
  {
   "cell_type": "markdown",
   "metadata": {},
   "source": [
    "#### Goals:\n",
    "1. Write rhsf to propagate shock either direction based on sign of speed\n",
    "2. Extend rhsf to 2 waves"
   ]
  },
  {
   "cell_type": "code",
   "execution_count": 11,
   "metadata": {},
   "outputs": [
    {
     "data": {
      "image/png": "[encoded data removed]",
      "text/plain": [
       "<Figure size 432x288 with 1 Axes>"
      ]
     },
     "metadata": {
      "needs_background": "light"
     },
     "output_type": "display_data"
    }
   ],
   "source": [
    "def get_ρb(ρ): \n",
    "    '''applies 2 boundary cells on the ends of the ρ array'''\n",
    "    ρb = np.zeros(ngrd+2)\n",
    "    ρb[1:-1] = ρ[:]\n",
    "    ρb[-1] = ρ[-1]\n",
    "    ρb[0]  = ρ[0]\n",
    "    return ρb\n",
    "\n",
    "def get_ρf(ρ): \n",
    "    '''applies 2 boundary cells on the ends of the ρ array'''\n",
    "    ρf = np.zeros(ngrdf)\n",
    "    ρf[1:-1] = ρ[:]\n",
    "    ρf[-1]   = ρ[-1]\n",
    "    return ρf\n",
    "\n",
    "def get_c(ρ):\n",
    "    '''computes a wave speed based on concentration'''\n",
    "    c = (ρ)**1\n",
    "    return c\n",
    "\n",
    "def rhsf(ρ,t):\n",
    "    '''returns derivative using a flux splitting upwinding scheme'''\n",
    "    ρbc = get_ρb(ρ)\n",
    "    c   = get_c(ρ)\n",
    "    \n",
    "    # split speeds based on sign\n",
    "    i_pos        = np.where(c>=0)[0]\n",
    "    cpos,cneg    = [np.zeros_like(c) for i in range(2)]\n",
    "    cpos[i_pos]  = c[i_pos]\n",
    "    cneg[~i_pos] = c[~i_pos]\n",
    "    \n",
    "    # designate Qi-1, Qi, and Qi+1\n",
    "    Ql = ρbc[0:-2]\n",
    "    Qi = ρbc[1:-1]\n",
    "    Qr = ρbc[2:]\n",
    "    dρdt = -1/Δx*(cneg*(Qr-Qi))#+(cpos*(Qi-Ql)))\n",
    "    # I may have added too many cells. Try just doing the interface like before.\n",
    "    return dρdt #,c,cneg,cpos,ρbc,Qi,Qr,Qr-Qi\n",
    "\n",
    "ngrd = 600\n",
    "L    = 5\n",
    "tend = 1.5\n",
    "ntimes = 5\n",
    "\n",
    "times = np.linspace(0,tend,ntimes)\n",
    "ngrdf = ngrd+1\n",
    "Δx    = L/ngrd\n",
    "xf    = np.linspace(0,L,ngrdf)\n",
    "x     = (xf[1:] + xf[:-1])/2\n",
    "\n",
    "ρ0  = np.linspace(-1,1,ngrd)\n",
    "# rhsf(ρ0,1)\n",
    "\n",
    "ρall = odeint(rhsf, ρ0, times)\n",
    "\n",
    "blue = iter(plt.cm.Blues(np.linspace(0.2,1,ntimes)))\n",
    "for j in range(ntimes):\n",
    "    plt.plot(x,ρall[j,:],label=round(times[j],1),c=next(blue))\n",
    "    \n",
    "plt.xlabel('position')\n",
    "plt.ylabel(r'$\\rho$')\n",
    "plt.xlim([0,L]);\n",
    "plt.legend(loc=0)\n",
    "plt.show()"
   ]
  },
  {
   "cell_type": "code",
   "execution_count": 120,
   "metadata": {},
   "outputs": [
    {
     "data": {
      "text/plain": [
       "(array([-0., -0., -0., -0., -0.]),\n",
       " array([0., 0., 0., 0., 0., 0.]),\n",
       " array([], dtype=float64))"
      ]
     },
     "execution_count": 120,
     "metadata": {},
     "output_type": "execute_result"
    }
   ],
   "source": [
    "def get_ρf(ρ): \n",
    "    '''applies 2 boundary cells on the ends of the ρ array'''\n",
    "    ρf = np.zeros(ngrdf)\n",
    "    ρf[:-1] = ρ[:]\n",
    "    ρf[-1]   = 1\n",
    "    return ρf\n",
    "\n",
    "def get_c(ρ):\n",
    "    '''computes a wave speed based on concentration'''\n",
    "    c = (1-ρ)**2\n",
    "    return c\n",
    "\n",
    "def rhsf(ρ,t):\n",
    "    '''returns derivative using a flux splitting upwinding scheme'''\n",
    "    ρf  = get_ρf(ρ)\n",
    "    cf  = get_c(ρf)\n",
    "    qf  = ρf*cf\n",
    "    qf[0]  = 0\n",
    "    qf[-1] = 0\n",
    "    \n",
    "    # split speeds based on sign\n",
    "    i_pos        = qf>=0\n",
    "#     cpos,cneg    = [np.zeros_like(c) for i in range(2)]\n",
    "#     cpos[i_pos]  = c[i_pos]\n",
    "#     cneg[~i_pos] = c[~i_pos]\n",
    "    \n",
    "    # designate Qi-1, Qi, and Qi+1\n",
    "    Qup   = qf[i_pos] #[:-1]\n",
    "    Qdown = qf[~i_pos] #[1:]\n",
    "    dρdt = -1/Δx*((Qup[1:]-Qup[:-1]))#+(Qr[i_pos]-Ql[i_pos]))\n",
    "    return dρdt,Qup,Qdown\n",
    "\n",
    "ngrd = 5\n",
    "L    = 5\n",
    "tend = .1\n",
    "ntimes = 10\n",
    "\n",
    "times = np.linspace(0,tend,ntimes)\n",
    "ngrdf = ngrd+1\n",
    "Δx    = L/ngrd\n",
    "xf    = np.linspace(0,L,ngrdf)\n",
    "x     = (xf[1:] + xf[:-1])/2\n",
    "\n",
    "ρ0  = np.zeros(ngrd)*0.5 #np.linspace(-1,1,ngrd)\n",
    "rhsf(ρ0,1)\n",
    "\n",
    "# ρall = odeint(rhsf, ρ0, times)\n",
    "\n",
    "# blue = iter(plt.cm.Blues(np.linspace(0.2,1,ntimes)))\n",
    "# for j in range(ntimes):\n",
    "#     plt.plot(x,ρall[j,:],label=round(times[j],1),c=next(blue))\n",
    "    \n",
    "# plt.xlabel('position')\n",
    "# plt.ylabel(r'$\\rho$')\n",
    "# plt.xlim([0,L]);\n",
    "# # plt.legend(loc=0)\n",
    "# plt.show()"
   ]
  },
  {
   "cell_type": "code",
   "execution_count": 107,
   "metadata": {},
   "outputs": [
    {
     "name": "stdout",
     "output_type": "stream",
     "text": [
      "[False False  True  True  True]\n",
      "[ True  True False False False]\n",
      "[0 1]\n",
      "[2 3 4]\n"
     ]
    },
    {
     "data": {
      "text/plain": [
       "array([0, 1, 2, 3])"
      ]
     },
     "execution_count": 107,
     "metadata": {},
     "output_type": "execute_result"
    }
   ],
   "source": [
    "test = np.array([0,1,2,3,4])\n",
    "i = test>=2\n",
    "print(i)\n",
    "print(~i)\n",
    "print(test[~i])\n",
    "print(test[i])\n",
    "test[:-1]"
   ]
  },
  {
   "cell_type": "markdown",
   "metadata": {},
   "source": [
    "The current code only handles positive speeds, and even then it has oscillations.  How should I set my boundary conditions? I'm not sure if I can set both, since there are characteristics going in both directions.  \n",
    "\n",
    "Oscillations begin at the wall, meaning that there's something up with boundary conditions.  \n",
    "I also need it to move at a constant pace and stack up at the wall.  \n",
    "The waves pass right through the wall because the wall is downwind of them so they can't see it!  \n",
    "I can manage a source, but cannot get a wall."
   ]
  },
  {
   "cell_type": "code",
   "execution_count": null,
   "metadata": {},
   "outputs": [],
   "source": []
  }
 ],
 "metadata": {
  "kernelspec": {
   "display_name": "Python 3",
   "language": "python",
   "name": "python3"
  },
  "language_info": {
   "codemirror_mode": {
    "name": "ipython",
    "version": 3
   },
   "file_extension": ".py",
   "mimetype": "text/x-python",
   "name": "python",
   "nbconvert_exporter": "python",
   "pygments_lexer": "ipython3",
   "version": "3.7.0"
  },
  "varInspector": {
   "cols": {
    "lenName": 16,
    "lenType": 16,
    "lenVar": 40
   },
   "kernels_config": {
    "python": {
     "delete_cmd_postfix": "",
     "delete_cmd_prefix": "del ",
     "library": "var_list.py",
     "varRefreshCmd": "print(var_dic_list())"
    },
    "r": {
     "delete_cmd_postfix": ") ",
     "delete_cmd_prefix": "rm(",
     "library": "var_list.r",
     "varRefreshCmd": "cat(var_dic_list()) "
    }
   },
   "types_to_exclude": [
    "module",
    "function",
    "builtin_function_or_method",
    "instance",
    "_Feature"
   ],
   "window_display": false
  }
 },
 "nbformat": 4,
 "nbformat_minor": 2
}
