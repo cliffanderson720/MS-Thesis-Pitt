{
 "cells": [
  {
   "cell_type": "code",
   "execution_count": 15,
   "metadata": {
    "collapsed": true
   },
   "outputs": [],
   "source": [
    "import numpy as np\n",
    "import matplotlib.pyplot as plt\n",
    "from velocity_functions import *\n",
    "from scipy.integrate import odeint\n",
    "%matplotlib inline\n",
    "\n",
    "radius  = {'RBC':3.75e-6,'WBC':6.25e-6,'plate':1.19e-6,'bac':2.5e-6} # radius in meters\n",
    "density = {'RBC':1093,   'WBC':1066,   'plate':1053,   'bac': 1025 } # density in kg/m3\n",
    "sedcoef = {'RBC':12e-7,  'WBC':1.2e-7, 'plate':0.032e-7} # Sedimentation coefficient in s (Van Wie)\n",
    "viscosity = {'plas':0.0026} # viscosity of plasma in kg/m s"
   ]
  },
  {
   "cell_type": "markdown",
   "metadata": {},
   "source": [
    "# Velocity and Integration schemes\n",
    "The current scheme integrates a 1D scalar conservation law using zero flux B.C. at both walls.\n",
    "I want to put in stokes velocity and the right dimensions\n",
    "### Next steps:\n",
    "1. non-dimensionalize code for time, flux, and velocity. I will follow Lerche 2001's non-dimensionalization\n",
    "$$x^{*} = \\frac{x}{L}$$\n",
    "$$T = \\frac{L}{U_{0}}$$\n",
    "$$t^{*} = \\frac{tU_{0}}{L} = \\frac{t}{T}$$\n",
    "$$u^{*} = \\frac{u}{u_{0}}$$  \n",
    "  \n",
    "2. find last stable version\n",
    "3. clean velocity functions  \n",
    "  1. use tuples, not dictionary for values\n",
    "  2. combine all velocity and flux functons into 1 python file"
   ]
  },
  {
   "cell_type": "code",
   "execution_count": 26,
   "metadata": {
    "collapsed": false
   },
   "outputs": [
    {
     "name": "stderr",
     "output_type": "stream",
     "text": [
      "C:\\Users\\cdhig\\Anaconda3\\lib\\site-packages\\scipy\\integrate\\odepack.py:218: ODEintWarning: Excess work done on this call (perhaps wrong Dfun type). Run with full_output = 1 to get quantitative information.\n",
      "  warnings.warn(warning_msg, ODEintWarning)\n"
     ]
    }
   ],
   "source": [
    "def get_c(α,r,cell_params,mode='RZ'): #r is a stand-in value\n",
    "    RPM,D,density = cell_params\n",
    "    \n",
    "    # Evaluate scalar stokes velocity as f(RPM,r,D)\n",
    "    c_max = stokes(RPM,r,D,density)\n",
    "    hsc = 1.0\n",
    "    \n",
    "    if mode == \"RZ\":\n",
    "        hsc = (1-α)**2 # Richardson-zaki correlation\n",
    "        \n",
    "    return c_max*hsc\n",
    "\n",
    "def bc(inside,left_edge,right_edge):\n",
    "    output       = np.zeros(ngrd+2)\n",
    "    output[0]    = left_edge\n",
    "    output[-1]   = right_edge\n",
    "    output[1:-1] = inside\n",
    "    return output\n",
    "\n",
    "def godunov(α,t,r,cell_params):\n",
    "    α_bc       = np.zeros(ngrd+2)\n",
    "    α_bc[-1]   = 1.0\n",
    "    α_bc[1:-1] = α\n",
    "\n",
    "    r_bc       = np.zeros(ngrd+2)\n",
    "    r_bc[0]    = r1-Δx\n",
    "    r_bc[-1]   = r2+Δx\n",
    "    r_bc[1:-1] = r\n",
    "    \n",
    "    # evaluate fluxes at each cell and initialize cell interfaces\n",
    "    q = α_bc*get_c(α_bc,r_bc,cell_params)\n",
    "    qf = np.zeros(ngrdf)\n",
    "    \n",
    "    # apply Godunov flux at each cell interface\n",
    "    for i in range(ngrdf):\n",
    "        if α_bc[i] >= α_bc[i+1]:\n",
    "            qf[i] = max(q[i],q[i+1])\n",
    "        elif α_bc[i] <= 0 and 0 <= α_bc[i+1]:\n",
    "            qf[i] = 0\n",
    "        else:\n",
    "            qf[i] = min(q[i],q[i+1])\n",
    "    \n",
    "    # apply upwinding scheme with the godunov interface fluxes...\n",
    "    dαdt = 1/Δx*(qf[:-1]-qf[1:])\n",
    "    return dαdt\n",
    "\n",
    "spin = (3000,radius['RBC'],density['RBC'])/get_c((3000,radius['RBC'],density['RBC']))\n",
    "\n",
    "ngrd = 10\n",
    "r1   = 0.04 # m\n",
    "r2   = 0.06 # m\n",
    "tend = 60\n",
    "ntimes = 30\n",
    "\n",
    "times = np.linspace(0,tend,ntimes)\n",
    "Δt    = tend/ntimes\n",
    "ngrdf = ngrd+1\n",
    "Δx    = (r2-r1)/ngrd\n",
    "xf    = np.linspace(r1,r2,ngrdf)\n",
    "x     = (xf[1:] + xf[:-1])/2\n",
    "\n",
    "α0  = np.ones(ngrd)*0.35\n",
    "αall,diag = odeint(godunov, α0, times,args=(x,spin),full_output=1)"
   ]
  },
  {
   "cell_type": "code",
   "execution_count": 23,
   "metadata": {
    "collapsed": false
   },
   "outputs": [
    {
     "data": {
      "image/png": "[encoded data removed]",
      "text/plain": [
       "<matplotlib.figure.Figure at 0x1a7dc879e10>"
      ]
     },
     "metadata": {},
     "output_type": "display_data"
    }
   ],
   "source": [
    "# %matplotlib notebook\n",
    "fig = plt.figure()\n",
    "fig.figsize=(10,10)\n",
    "\n",
    "color = plt.get_cmap('Reds')\n",
    "colors = iter(color(np.linspace(0.0,1,ntimes)))\n",
    "for j in range(ntimes):\n",
    "    plt.plot(x*100,αall[j,:],color=next(colors))\n",
    "\n",
    "plt.xlabel('position')\n",
    "plt.ylabel(r'$\\rho$')\n",
    "plt.xlim([r1*100,r2*100]);\n",
    "# plt.ylim([0,1]);\n",
    "plt.show()"
   ]
  },
  {
   "cell_type": "markdown",
   "metadata": {},
   "source": [
    "### Checking stability criteria and stuff"
   ]
  },
  {
   "cell_type": "code",
   "execution_count": 24,
   "metadata": {
    "collapsed": false
   },
   "outputs": [
    {
     "data": {
      "text/plain": [
       "(0.8185128554637177, 0.00040925642773185876)"
      ]
     },
     "execution_count": 24,
     "metadata": {},
     "output_type": "execute_result"
    }
   ],
   "source": [
    "v = stokes(3000,0.05,radius['RBC'],density['RBC'])\n",
    "c = Δt*v/Δx\n",
    "c,v"
   ]
  },
  {
   "cell_type": "code",
   "execution_count": 20,
   "metadata": {
    "collapsed": false
   },
   "outputs": [
    {
     "data": {
      "image/png": "[encoded data removed]",
      "text/plain": [
       "<matplotlib.figure.Figure at 0x1a7dc879eb8>"
      ]
     },
     "metadata": {},
     "output_type": "display_data"
    }
   ],
   "source": [
    "ρs = np.linspace(0,1)\n",
    "plt.plot(ρs,get_c(ρs,0.04,spin,mode='RZ'))\n",
    "plt.show()"
   ]
  },
  {
   "cell_type": "markdown",
   "metadata": {},
   "source": [
    "### Make animations"
   ]
  },
  {
   "cell_type": "code",
   "execution_count": null,
   "metadata": {
    "collapsed": true
   },
   "outputs": [],
   "source": [
    "from matplotlib import animation, rc\n",
    "from IPython.display import HTML, Image\n",
    "rc('animation',html='html5')\n",
    "%matplotlib inline\n",
    "\n",
    "fig, ax = plt.subplots()\n",
    "ax.set_xlim([0,L])\n",
    "ax.set_ylim([0,1])\n",
    "line, = ax.plot([],[])\n",
    "\n",
    "def init():\n",
    "    line.set_data([],[])\n",
    "    ax.set_xlabel('Normalized Distance')\n",
    "    ax.set_ylabel('Hematocrit')\n",
    "    return (line,)\n",
    "def animate(i):\n",
    "    line.set_data(x,ρall[i,:])\n",
    "    line.set_color('red')\n",
    "    return (line,)\n",
    "anim = animation.FuncAnimation(fig,animate,init_func=init,\n",
    "                              frames=ntimes,interval=150,blit=True)\n",
    "\n",
    "anim.save('wave_simulation.mp4')"
   ]
  }
 ],
 "metadata": {
  "kernelspec": {
   "display_name": "Python 3",
   "language": "python",
   "name": "python3"
  },
  "language_info": {
   "codemirror_mode": {
    "name": "ipython",
    "version": 3
   },
   "file_extension": ".py",
   "mimetype": "text/x-python",
   "name": "python",
   "nbconvert_exporter": "python",
   "pygments_lexer": "ipython3",
   "version": "3.6.0"
  },
  "varInspector": {
   "cols": {
    "lenName": 16,
    "lenType": 16,
    "lenVar": 40
   },
   "kernels_config": {
    "python": {
     "delete_cmd_postfix": "",
     "delete_cmd_prefix": "del ",
     "library": "var_list.py",
     "varRefreshCmd": "print(var_dic_list())"
    },
    "r": {
     "delete_cmd_postfix": ") ",
     "delete_cmd_prefix": "rm(",
     "library": "var_list.r",
     "varRefreshCmd": "cat(var_dic_list()) "
    }
   },
   "types_to_exclude": [
    "module",
    "function",
    "builtin_function_or_method",
    "instance",
    "_Feature"
   ],
   "window_display": false
  }
 },
 "nbformat": 4,
 "nbformat_minor": 2
}
