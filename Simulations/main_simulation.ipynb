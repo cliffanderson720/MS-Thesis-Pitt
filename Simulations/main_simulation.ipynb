{
 "cells": [
  {
   "cell_type": "code",
   "execution_count": 1,
   "metadata": {},
   "outputs": [],
   "source": [
    "import numpy as np\n",
    "import matplotlib.pyplot as plt\n",
    "from velocity_functions import *\n",
    "from scipy.integrate import odeint\n",
    "# %matplotlib inline\n",
    "\n",
    "radius  = {'RBC':3.75e-6,'WBC':6.25e-6,'plate':1.19e-6,'bac':2.5e-6} # radius in meters\n",
    "density = {'RBC':1093,   'WBC':1066,   'plate':1053,   'bac': 1095 } # density in kg/m3\n",
    "sedcoef = {'RBC':12e-7,  'WBC':1.2e-7, 'plate':0.032e-7} # Sedimentation coefficient in s (Van Wie)\n",
    "viscosity = {'plas':0.0026} # viscosity of plasma in kg/m s"
   ]
  },
  {
   "cell_type": "markdown",
   "metadata": {},
   "source": [
    "# Velocity and Integration schemes\n",
    "The current scheme integrates a 1D scalar conservation law using zero flux B.C. at both walls.\n",
    "I want to put in stokes velocity and the right dimensions\n",
    "### Next steps:\n",
    "1. non-dimensionalize code for time, flux, and velocity. I will follow Lerche 2001's non-dimensionalization (__Complete__)\n",
    "$$x^{*} = \\frac{x}{L}$$\n",
    "$$T = \\frac{L}{U_{0}}$$\n",
    "$$t^{*} = \\frac{tU_{0}}{L} = \\frac{t}{T}$$\n",
    "$$u^{*} = \\frac{u}{u_{0}}$$  \n",
    "  \n",
    "2. clean velocity functions\n",
    "  1. use tuples, not dictionary for values\n",
    "3. write multicomponent sedimentation functions\n",
    "  1. MLB\n",
    "  2. _bulk_ flux based on RBC (Michaels), bacteria and others based on RZ for total solids concentration\n",
    "  3. porosity\n",
    "4. Find how to do multicomponent Godunov"
   ]
  },
  {
   "cell_type": "code",
   "execution_count": 2,
   "metadata": {},
   "outputs": [],
   "source": [
    "def get_c(α,r,cell_params,mode='RZ'): #r is a stand-in value\n",
    "    '''return non-dimensional velocity'''\n",
    "    RPM,D,density = cell_params\n",
    "    \n",
    "    # Evaluate scalar stokes velocity as f(RPM,r,D)\n",
    "    c_max = stokes(RPM,r,D,density)\n",
    "    hsc = 1.0\n",
    "    \n",
    "    if mode == \"RZ\":\n",
    "        hsc = (1-α)**2 # Richardson-zaki correlation\n",
    "        \n",
    "    return hsc\n",
    "\n",
    "def get_q(α_cells,*u0):\n",
    "    '''\n",
    "    returns the speed and volumetric flux of j particle types\n",
    "    inputs: jxn array (checkdims for consistency) of j particle concentrations.\n",
    "    \n",
    "    number of species and stokes velocity should come from class attributes\n",
    "    output: \n",
    "    '''\n",
    "    # assign slip velocity of cells relative to fluid using HSC\n",
    "    c_cells_slip = get_c(np.sum(α_cells,axis=0)) # sum the particle concentrations. Replace with polydisperse HSC.\n",
    "    c_cells_slip = np.vstack((c_cells_slip,c_cells_slip))\n",
    "    \n",
    "    \n",
    "    # calculate plasma α, initialize array of plasma speeds (0), and combine with cell values\n",
    "    α_plasma = 1-np.sum(α_cells,axis=0)\n",
    "    c_plasma = np.zeros(ngrd)\n",
    "    α,c_slip = [np.vstack((species,fluid)) for species,fluid in zip((α_cells,c_cells_slip),(α_plasma,c_plasma))]\n",
    "    \n",
    "    # compute absolute velocities (and flux) using Davis and Gecol 1994 equation 2\n",
    "    c_avg_slip = np.sum(c_slip*α,axis=0)\n",
    "    c_abs = c_slip - c_avg_slip\n",
    "    q_abs = α*c_abs\n",
    "    \n",
    "    return q_abs,c_abs\n",
    "\n",
    "def bc(inside,left_edge,right_edge):\n",
    "    output       = np.zeros(ngrd+2)\n",
    "    output[0]    = left_edge\n",
    "    output[-1]   = right_edge\n",
    "    output[1:-1] = inside\n",
    "    return output\n",
    "\n",
    "def godunov(α,t,r,cell_params):\n",
    "    α_bc       = np.empty(ngrd+2)\n",
    "    α_bc[0]    = 0.0\n",
    "    α_bc[-1]   = 1.0\n",
    "    α_bc[1:-1] = α\n",
    "\n",
    "    r_bc       = np.empty(ngrd+2)\n",
    "    r_bc[0]    = r[0] -Δx # be careful taking global variables!\n",
    "    r_bc[-1]   = r[-1]+Δx\n",
    "    r_bc[1:-1] = r\n",
    "    \n",
    "#     evaluate fluxes at each cell and initialize cell interfaces\n",
    "    q = α_bc*get_c(α_bc,r_bc,cell_params) # I may need r_bc to be dimensional or not.\n",
    "#     q = get_q(α_bc) It won't be that simple to go from scalar integration to system integration.\n",
    "    qf = np.zeros(ngrdf)\n",
    "    \n",
    "    # apply Godunov flux at each cell interface\n",
    "    for i in range(ngrdf):\n",
    "        if α_bc[i] >= α_bc[i+1]:\n",
    "            qf[i] = max(q[i],q[i+1])\n",
    "        elif α_bc[i] <= 0 and 0 <= α_bc[i+1]:\n",
    "            qf[i] = 0\n",
    "        else:\n",
    "            qf[i] = min(q[i],q[i+1])\n",
    "    \n",
    "    # apply upwinding scheme with the godunov interface fluxes\n",
    "    dαdt = 1/Δx*(qf[:-1]-qf[1:])\n",
    "    return dαdt"
   ]
  },
  {
   "cell_type": "code",
   "execution_count": 3,
   "metadata": {},
   "outputs": [
    {
     "ename": "TypeError",
     "evalue": "len() of unsized object",
     "output_type": "error",
     "traceback": [
      "\u001b[0;31m---------------------------------------------------------------------------\u001b[0m",
      "\u001b[0;31mTypeError\u001b[0m                                 Traceback (most recent call last)",
      "\u001b[0;32m~/Documents/MS-Thesis-Pitt/Simulations/velocity_functions.py\u001b[0m in \u001b[0;36mstokes\u001b[0;34m(RPM, r, cell_radius, cell_density, rho_f, visc, mode)\u001b[0m\n\u001b[1;32m    140\u001b[0m         \u001b[0;32mtry\u001b[0m\u001b[0;34m:\u001b[0m \u001b[0;31m# default case for when r is an array\u001b[0m\u001b[0;34m\u001b[0m\u001b[0;34m\u001b[0m\u001b[0m\n\u001b[0;32m--> 141\u001b[0;31m             \u001b[0mnspatial\u001b[0m \u001b[0;34m=\u001b[0m \u001b[0mlen\u001b[0m\u001b[0;34m(\u001b[0m\u001b[0mr\u001b[0m\u001b[0;34m)\u001b[0m\u001b[0;34m\u001b[0m\u001b[0;34m\u001b[0m\u001b[0m\n\u001b[0m\u001b[1;32m    142\u001b[0m             \u001b[0mncells\u001b[0m   \u001b[0;34m=\u001b[0m \u001b[0mlen\u001b[0m\u001b[0;34m(\u001b[0m\u001b[0mcell_radius\u001b[0m\u001b[0;34m)\u001b[0m\u001b[0;34m\u001b[0m\u001b[0;34m\u001b[0m\u001b[0m\n",
      "\u001b[0;31mTypeError\u001b[0m: object of type 'float' has no len()",
      "\nDuring handling of the above exception, another exception occurred:\n",
      "\u001b[0;31mTypeError\u001b[0m                                 Traceback (most recent call last)",
      "\u001b[0;32m<ipython-input-3-c242a3ee9374>\u001b[0m in \u001b[0;36m<module>\u001b[0;34m\u001b[0m\n\u001b[1;32m     12\u001b[0m \u001b[0;34m\u001b[0m\u001b[0m\n\u001b[1;32m     13\u001b[0m \u001b[0;31m# Non-dimensionalized variables\u001b[0m\u001b[0;34m\u001b[0m\u001b[0;34m\u001b[0m\u001b[0;34m\u001b[0m\u001b[0m\n\u001b[0;32m---> 14\u001b[0;31m \u001b[0mU0\u001b[0m \u001b[0;34m=\u001b[0m \u001b[0mstokes\u001b[0m\u001b[0;34m(\u001b[0m\u001b[0mRPM\u001b[0m\u001b[0;34m,\u001b[0m\u001b[0mr2\u001b[0m\u001b[0;34m,\u001b[0m\u001b[0mradius\u001b[0m\u001b[0;34m[\u001b[0m\u001b[0;34m'RBC'\u001b[0m\u001b[0;34m]\u001b[0m\u001b[0;34m,\u001b[0m\u001b[0mdensity\u001b[0m\u001b[0;34m[\u001b[0m\u001b[0;34m'RBC'\u001b[0m\u001b[0;34m]\u001b[0m\u001b[0;34m)\u001b[0m\u001b[0;34m\u001b[0m\u001b[0;34m\u001b[0m\u001b[0m\n\u001b[0m\u001b[1;32m     15\u001b[0m \u001b[0mT\u001b[0m  \u001b[0;34m=\u001b[0m \u001b[0mL\u001b[0m\u001b[0;34m/\u001b[0m\u001b[0mU0\u001b[0m \u001b[0;31m# seconds it takes to traverse length going at max speed.\u001b[0m\u001b[0;34m\u001b[0m\u001b[0;34m\u001b[0m\u001b[0m\n\u001b[1;32m     16\u001b[0m \u001b[0mcycles\u001b[0m \u001b[0;34m=\u001b[0m \u001b[0mtend\u001b[0m\u001b[0;34m/\u001b[0m\u001b[0mT\u001b[0m\u001b[0;34m\u001b[0m\u001b[0;34m\u001b[0m\u001b[0m\n",
      "\u001b[0;32m~/Documents/MS-Thesis-Pitt/Simulations/velocity_functions.py\u001b[0m in \u001b[0;36mstokes\u001b[0;34m(RPM, r, cell_radius, cell_density, rho_f, visc, mode)\u001b[0m\n\u001b[1;32m    146\u001b[0m \u001b[0;34m\u001b[0m\u001b[0m\n\u001b[1;32m    147\u001b[0m         \u001b[0;32mexcept\u001b[0m \u001b[0mTypeError\u001b[0m\u001b[0;34m:\u001b[0m \u001b[0;31m# exception case where r is a scalar\u001b[0m\u001b[0;34m\u001b[0m\u001b[0;34m\u001b[0m\u001b[0m\n\u001b[0;32m--> 148\u001b[0;31m             \u001b[0mncells\u001b[0m   \u001b[0;34m=\u001b[0m \u001b[0mlen\u001b[0m\u001b[0;34m(\u001b[0m\u001b[0mcell_radius\u001b[0m\u001b[0;34m)\u001b[0m\u001b[0;34m\u001b[0m\u001b[0;34m\u001b[0m\u001b[0m\n\u001b[0m\u001b[1;32m    149\u001b[0m             \u001b[0mspeed\u001b[0m \u001b[0;34m=\u001b[0m \u001b[0mnp\u001b[0m\u001b[0;34m.\u001b[0m\u001b[0mempty\u001b[0m\u001b[0;34m(\u001b[0m\u001b[0mncells\u001b[0m\u001b[0;34m)\u001b[0m\u001b[0;34m\u001b[0m\u001b[0;34m\u001b[0m\u001b[0m\n\u001b[1;32m    150\u001b[0m             \u001b[0;32mfor\u001b[0m \u001b[0mj\u001b[0m \u001b[0;32min\u001b[0m \u001b[0mrange\u001b[0m\u001b[0;34m(\u001b[0m\u001b[0mncells\u001b[0m\u001b[0;34m)\u001b[0m\u001b[0;34m:\u001b[0m\u001b[0;34m\u001b[0m\u001b[0;34m\u001b[0m\u001b[0m\n",
      "\u001b[0;31mTypeError\u001b[0m: len() of unsized object"
     ]
    }
   ],
   "source": [
    "# Experimental parameters\n",
    "α_rbc_0 = 0.4\n",
    "RPM = 3000\n",
    "spin = (RPM,radius['RBC'],density['RBC'])\n",
    "\n",
    "tend   = 1      # s\n",
    "ntimes = 50   \n",
    "ngrd   = 50\n",
    "r1     = 0.057  # m\n",
    "r2     = 0.06   # m\n",
    "L      = r2-r1  # m\n",
    "\n",
    "# Non-dimensionalized variables\n",
    "U0 = stokes(RPM,r2,radius['RBC'],density['RBC'])\n",
    "T  = L/U0 # seconds it takes to traverse length going at max speed.\n",
    "cycles = tend/T\n",
    "\n",
    "# Time and space grids                  Dimensions\n",
    "times  = np.linspace(0,cycles,ntimes) # \n",
    "Δt     = tend/ntimes                  # s\n",
    "ngrdf  = ngrd+1                       #\n",
    "xf     = np.linspace(r1/r2,1,ngrdf)   # \n",
    "Δx     = xf[1]-xf[0]                  # \n",
    "x      = (xf[1:] + xf[:-1])/2         #\n",
    "\n",
    "α0  = np.ones(ngrd)*α_rbc_0\n",
    "αall,diag = odeint(godunov, α0, times,args=(x,spin),full_output=1)"
   ]
  },
  {
   "cell_type": "code",
   "execution_count": null,
   "metadata": {},
   "outputs": [],
   "source": [
    "L,U0,T,tend/T"
   ]
  },
  {
   "cell_type": "code",
   "execution_count": null,
   "metadata": {},
   "outputs": [],
   "source": [
    "cfl = Δt*get_c(0.35,r1,spin)/Δx; cfl"
   ]
  },
  {
   "cell_type": "code",
   "execution_count": null,
   "metadata": {},
   "outputs": [],
   "source": [
    "# %matplotlib inline\n",
    "fig = plt.figure()\n",
    "fig.figsize=(10,10)\n",
    "\n",
    "color = plt.get_cmap('Reds')\n",
    "colors = iter(color(np.linspace(0,1,ntimes)))\n",
    "for j in range(ntimes):\n",
    "    plt.plot(x,αall[j,:],color=next(colors))\n",
    "\n",
    "plt.xlabel('position')\n",
    "plt.ylabel(r'$\\alpha$')\n",
    "plt.xlim([r1/r2,1]);\n",
    "plt.show()"
   ]
  },
  {
   "cell_type": "markdown",
   "metadata": {},
   "source": [
    "### Animations"
   ]
  },
  {
   "cell_type": "code",
   "execution_count": null,
   "metadata": {},
   "outputs": [],
   "source": [
    "from matplotlib import animation, rc\n",
    "from IPython.display import HTML, Image\n",
    "rc('animation',html='html5')\n",
    "%matplotlib inline\n",
    "\n",
    "fig, ax = plt.subplots()\n",
    "ax.set_xlim([r1/r2,1])\n",
    "ax.set_ylim([0,1])\n",
    "line, = ax.plot([],[])\n",
    "\n",
    "def init():\n",
    "    line.set_data([],[])\n",
    "    ax.set_xlabel('Normalized Distance')\n",
    "    ax.set_ylabel('Hematocrit')\n",
    "    return (line,)\n",
    "def animate(i):\n",
    "    line.set_data(x,αall[i,:])\n",
    "    line.set_color('red')\n",
    "    return (line,)\n",
    "anim = animation.FuncAnimation(fig,animate,init_func=init,\n",
    "                               frames=ntimes,interval=Δt*1000,blit=True)\n",
    "\n",
    "anim\n",
    "# anim.save('wave_simulation.mp4')"
   ]
  },
  {
   "cell_type": "code",
   "execution_count": null,
   "metadata": {},
   "outputs": [],
   "source": []
  }
 ],
 "metadata": {
  "kernelspec": {
   "display_name": "Python 3",
   "language": "python",
   "name": "python3"
  },
  "language_info": {
   "codemirror_mode": {
    "name": "ipython",
    "version": 3
   },
   "file_extension": ".py",
   "mimetype": "text/x-python",
   "name": "python",
   "nbconvert_exporter": "python",
   "pygments_lexer": "ipython3",
   "version": "3.6.7"
  },
  "varInspector": {
   "cols": {
    "lenName": 16,
    "lenType": 16,
    "lenVar": 40
   },
   "kernels_config": {
    "python": {
     "delete_cmd_postfix": "",
     "delete_cmd_prefix": "del ",
     "library": "var_list.py",
     "varRefreshCmd": "print(var_dic_list())"
    },
    "r": {
     "delete_cmd_postfix": ") ",
     "delete_cmd_prefix": "rm(",
     "library": "var_list.r",
     "varRefreshCmd": "cat(var_dic_list()) "
    }
   },
   "types_to_exclude": [
    "module",
    "function",
    "builtin_function_or_method",
    "instance",
    "_Feature"
   ],
   "window_display": false
  }
 },
 "nbformat": 4,
 "nbformat_minor": 2
}
